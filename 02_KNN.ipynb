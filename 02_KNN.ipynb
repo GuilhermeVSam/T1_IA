{
  "cells": [
    {
      "cell_type": "markdown",
      "metadata": {},
      "source": [
        "### **Importações**"
      ]
    },
    {
      "cell_type": "code",
      "execution_count": 88,
      "metadata": {
        "id": "Uod6QOWQp0SO"
      },
      "outputs": [],
      "source": [
        "import pandas as pd\n",
        "from sklearn import neighbors\n",
        "from sklearn.model_selection import cross_val_score\n",
        "from sklearn.metrics import accuracy_score\n",
        "import matplotlib.pyplot as plt\n",
        "from sklearn.metrics import classification_report"
      ]
    },
    {
      "cell_type": "code",
      "execution_count": 89,
      "metadata": {},
      "outputs": [
        {
          "data": {
            "text/plain": [
              "['P0', 'P1', 'P2', 'P3', 'P4', 'P5', 'P6', 'P7', 'P8', 'Results']"
            ]
          },
          "execution_count": 89,
          "metadata": {},
          "output_type": "execute_result"
        }
      ],
      "source": [
        "nomes_colunas  = ['P0','P1','P2','P3','P4','P5','P6','P7','P8','Results']\n",
        "nomes_colunas"
      ]
    },
    {
      "cell_type": "code",
      "execution_count": 90,
      "metadata": {
        "colab": {
          "base_uri": "https://localhost:8080/"
        },
        "id": "q1-H5YqwsuJs",
        "outputId": "07dbfb48-cd60-447f-bf67-06a92b670242"
      },
      "outputs": [
        {
          "name": "stdout",
          "output_type": "stream",
          "text": [
            "(1264, 10)\n"
          ]
        },
        {
          "data": {
            "text/html": [
              "<div>\n",
              "<style scoped>\n",
              "    .dataframe tbody tr th:only-of-type {\n",
              "        vertical-align: middle;\n",
              "    }\n",
              "\n",
              "    .dataframe tbody tr th {\n",
              "        vertical-align: top;\n",
              "    }\n",
              "\n",
              "    .dataframe thead th {\n",
              "        text-align: right;\n",
              "    }\n",
              "</style>\n",
              "<table border=\"1\" class=\"dataframe\">\n",
              "  <thead>\n",
              "    <tr style=\"text-align: right;\">\n",
              "      <th></th>\n",
              "      <th>P0</th>\n",
              "      <th>P1</th>\n",
              "      <th>P2</th>\n",
              "      <th>P3</th>\n",
              "      <th>P4</th>\n",
              "      <th>P5</th>\n",
              "      <th>P6</th>\n",
              "      <th>P7</th>\n",
              "      <th>P8</th>\n",
              "      <th>Results</th>\n",
              "    </tr>\n",
              "  </thead>\n",
              "  <tbody>\n",
              "    <tr>\n",
              "      <th>0</th>\n",
              "      <td>Results</td>\n",
              "      <td>NaN</td>\n",
              "      <td>NaN</td>\n",
              "      <td>NaN</td>\n",
              "      <td>NaN</td>\n",
              "      <td>NaN</td>\n",
              "      <td>NaN</td>\n",
              "      <td>NaN</td>\n",
              "      <td>NaN</td>\n",
              "      <td>NaN</td>\n",
              "    </tr>\n",
              "    <tr>\n",
              "      <th>1</th>\n",
              "      <td>1</td>\n",
              "      <td>1.0</td>\n",
              "      <td>-1.0</td>\n",
              "      <td>-1.0</td>\n",
              "      <td>1.0</td>\n",
              "      <td>1.0</td>\n",
              "      <td>1.0</td>\n",
              "      <td>-1.0</td>\n",
              "      <td>-1.0</td>\n",
              "      <td>2.0</td>\n",
              "    </tr>\n",
              "    <tr>\n",
              "      <th>2</th>\n",
              "      <td>1</td>\n",
              "      <td>1.0</td>\n",
              "      <td>-1.0</td>\n",
              "      <td>-1.0</td>\n",
              "      <td>-1.0</td>\n",
              "      <td>1.0</td>\n",
              "      <td>1.0</td>\n",
              "      <td>1.0</td>\n",
              "      <td>-1.0</td>\n",
              "      <td>2.0</td>\n",
              "    </tr>\n",
              "    <tr>\n",
              "      <th>3</th>\n",
              "      <td>1</td>\n",
              "      <td>1.0</td>\n",
              "      <td>-1.0</td>\n",
              "      <td>-1.0</td>\n",
              "      <td>-1.0</td>\n",
              "      <td>1.0</td>\n",
              "      <td>1.0</td>\n",
              "      <td>-1.0</td>\n",
              "      <td>1.0</td>\n",
              "      <td>2.0</td>\n",
              "    </tr>\n",
              "    <tr>\n",
              "      <th>4</th>\n",
              "      <td>1</td>\n",
              "      <td>1.0</td>\n",
              "      <td>-1.0</td>\n",
              "      <td>-1.0</td>\n",
              "      <td>-1.0</td>\n",
              "      <td>1.0</td>\n",
              "      <td>1.0</td>\n",
              "      <td>-1.0</td>\n",
              "      <td>-1.0</td>\n",
              "      <td>2.0</td>\n",
              "    </tr>\n",
              "  </tbody>\n",
              "</table>\n",
              "</div>"
            ],
            "text/plain": [
              "        P0   P1   P2   P3   P4   P5   P6   P7   P8  Results\n",
              "0  Results  NaN  NaN  NaN  NaN  NaN  NaN  NaN  NaN      NaN\n",
              "1        1  1.0 -1.0 -1.0  1.0  1.0  1.0 -1.0 -1.0      2.0\n",
              "2        1  1.0 -1.0 -1.0 -1.0  1.0  1.0  1.0 -1.0      2.0\n",
              "3        1  1.0 -1.0 -1.0 -1.0  1.0  1.0 -1.0  1.0      2.0\n",
              "4        1  1.0 -1.0 -1.0 -1.0  1.0  1.0 -1.0 -1.0      2.0"
            ]
          },
          "metadata": {},
          "output_type": "display_data"
        }
      ],
      "source": [
        "#Importação do dataset de treino\n",
        "file_path = r'Treino.csv'\n",
        "df_treino = pd.read_csv(file_path,sep=';',names=nomes_colunas)\n",
        "print(df_treino.shape)\n",
        "display(df_treino.head())"
      ]
    },
    {
      "cell_type": "code",
      "execution_count": 91,
      "metadata": {},
      "outputs": [
        {
          "data": {
            "text/html": [
              "<div>\n",
              "<style scoped>\n",
              "    .dataframe tbody tr th:only-of-type {\n",
              "        vertical-align: middle;\n",
              "    }\n",
              "\n",
              "    .dataframe tbody tr th {\n",
              "        vertical-align: top;\n",
              "    }\n",
              "\n",
              "    .dataframe thead th {\n",
              "        text-align: right;\n",
              "    }\n",
              "</style>\n",
              "<table border=\"1\" class=\"dataframe\">\n",
              "  <thead>\n",
              "    <tr style=\"text-align: right;\">\n",
              "      <th></th>\n",
              "      <th>P0</th>\n",
              "      <th>P1</th>\n",
              "      <th>P2</th>\n",
              "      <th>P3</th>\n",
              "      <th>P4</th>\n",
              "      <th>P5</th>\n",
              "      <th>P6</th>\n",
              "      <th>P7</th>\n",
              "      <th>P8</th>\n",
              "      <th>Results</th>\n",
              "    </tr>\n",
              "  </thead>\n",
              "  <tbody>\n",
              "    <tr>\n",
              "      <th>1</th>\n",
              "      <td>-1</td>\n",
              "      <td>1</td>\n",
              "      <td>-1</td>\n",
              "      <td>1</td>\n",
              "      <td>1</td>\n",
              "      <td>-1</td>\n",
              "      <td>-1</td>\n",
              "      <td>-1</td>\n",
              "      <td>1</td>\n",
              "      <td>2</td>\n",
              "    </tr>\n",
              "    <tr>\n",
              "      <th>2</th>\n",
              "      <td>1</td>\n",
              "      <td>1</td>\n",
              "      <td>-1</td>\n",
              "      <td>-1</td>\n",
              "      <td>-1</td>\n",
              "      <td>1</td>\n",
              "      <td>1</td>\n",
              "      <td>-1</td>\n",
              "      <td>-1</td>\n",
              "      <td>2</td>\n",
              "    </tr>\n",
              "    <tr>\n",
              "      <th>3</th>\n",
              "      <td>1</td>\n",
              "      <td>-1</td>\n",
              "      <td>1</td>\n",
              "      <td>1</td>\n",
              "      <td>-1</td>\n",
              "      <td>-1</td>\n",
              "      <td>-1</td>\n",
              "      <td>1</td>\n",
              "      <td>1</td>\n",
              "      <td>2</td>\n",
              "    </tr>\n",
              "    <tr>\n",
              "      <th>4</th>\n",
              "      <td>-1</td>\n",
              "      <td>1</td>\n",
              "      <td>1</td>\n",
              "      <td>1</td>\n",
              "      <td>-1</td>\n",
              "      <td>-1</td>\n",
              "      <td>-1</td>\n",
              "      <td>1</td>\n",
              "      <td>1</td>\n",
              "      <td>2</td>\n",
              "    </tr>\n",
              "    <tr>\n",
              "      <th>5</th>\n",
              "      <td>1</td>\n",
              "      <td>-1</td>\n",
              "      <td>1</td>\n",
              "      <td>-1</td>\n",
              "      <td>-1</td>\n",
              "      <td>1</td>\n",
              "      <td>-1</td>\n",
              "      <td>1</td>\n",
              "      <td>-1</td>\n",
              "      <td>2</td>\n",
              "    </tr>\n",
              "  </tbody>\n",
              "</table>\n",
              "</div>"
            ],
            "text/plain": [
              "   P0  P1  P2  P3  P4  P5  P6  P7  P8  Results\n",
              "1  -1   1  -1   1   1  -1  -1  -1   1        2\n",
              "2   1   1  -1  -1  -1   1   1  -1  -1        2\n",
              "3   1  -1   1   1  -1  -1  -1   1   1        2\n",
              "4  -1   1   1   1  -1  -1  -1   1   1        2\n",
              "5   1  -1   1  -1  -1   1  -1   1  -1        2"
            ]
          },
          "metadata": {},
          "output_type": "display_data"
        },
        {
          "data": {
            "text/html": [
              "<div>\n",
              "<style scoped>\n",
              "    .dataframe tbody tr th:only-of-type {\n",
              "        vertical-align: middle;\n",
              "    }\n",
              "\n",
              "    .dataframe tbody tr th {\n",
              "        vertical-align: top;\n",
              "    }\n",
              "\n",
              "    .dataframe thead th {\n",
              "        text-align: right;\n",
              "    }\n",
              "</style>\n",
              "<table border=\"1\" class=\"dataframe\">\n",
              "  <thead>\n",
              "    <tr style=\"text-align: right;\">\n",
              "      <th></th>\n",
              "      <th>P0</th>\n",
              "      <th>P1</th>\n",
              "      <th>P2</th>\n",
              "      <th>P3</th>\n",
              "      <th>P4</th>\n",
              "      <th>P5</th>\n",
              "      <th>P6</th>\n",
              "      <th>P7</th>\n",
              "      <th>P8</th>\n",
              "      <th>Results</th>\n",
              "    </tr>\n",
              "  </thead>\n",
              "  <tbody>\n",
              "    <tr>\n",
              "      <th>1</th>\n",
              "      <td>-1</td>\n",
              "      <td>1</td>\n",
              "      <td>-1</td>\n",
              "      <td>-1</td>\n",
              "      <td>1</td>\n",
              "      <td>1</td>\n",
              "      <td>1</td>\n",
              "      <td>-1</td>\n",
              "      <td>1</td>\n",
              "      <td>2</td>\n",
              "    </tr>\n",
              "    <tr>\n",
              "      <th>2</th>\n",
              "      <td>1</td>\n",
              "      <td>-1</td>\n",
              "      <td>1</td>\n",
              "      <td>-1</td>\n",
              "      <td>1</td>\n",
              "      <td>1</td>\n",
              "      <td>-1</td>\n",
              "      <td>1</td>\n",
              "      <td>-1</td>\n",
              "      <td>2</td>\n",
              "    </tr>\n",
              "    <tr>\n",
              "      <th>3</th>\n",
              "      <td>-1</td>\n",
              "      <td>1</td>\n",
              "      <td>-1</td>\n",
              "      <td>1</td>\n",
              "      <td>1</td>\n",
              "      <td>-1</td>\n",
              "      <td>1</td>\n",
              "      <td>-1</td>\n",
              "      <td>1</td>\n",
              "      <td>2</td>\n",
              "    </tr>\n",
              "    <tr>\n",
              "      <th>4</th>\n",
              "      <td>-1</td>\n",
              "      <td>1</td>\n",
              "      <td>-1</td>\n",
              "      <td>-1</td>\n",
              "      <td>-1</td>\n",
              "      <td>1</td>\n",
              "      <td>1</td>\n",
              "      <td>-1</td>\n",
              "      <td>1</td>\n",
              "      <td>2</td>\n",
              "    </tr>\n",
              "    <tr>\n",
              "      <th>5</th>\n",
              "      <td>-1</td>\n",
              "      <td>-1</td>\n",
              "      <td>1</td>\n",
              "      <td>1</td>\n",
              "      <td>1</td>\n",
              "      <td>-1</td>\n",
              "      <td>-1</td>\n",
              "      <td>-1</td>\n",
              "      <td>1</td>\n",
              "      <td>2</td>\n",
              "    </tr>\n",
              "  </tbody>\n",
              "</table>\n",
              "</div>"
            ],
            "text/plain": [
              "   P0  P1  P2  P3  P4  P5  P6  P7  P8  Results\n",
              "1  -1   1  -1  -1   1   1   1  -1   1        2\n",
              "2   1  -1   1  -1   1   1  -1   1  -1        2\n",
              "3  -1   1  -1   1   1  -1   1  -1   1        2\n",
              "4  -1   1  -1  -1  -1   1   1  -1   1        2\n",
              "5  -1  -1   1   1   1  -1  -1  -1   1        2"
            ]
          },
          "metadata": {},
          "output_type": "display_data"
        }
      ],
      "source": [
        "# Importação dos dataset de validacao e teste\n",
        "file_path = r'Validacao.csv'\n",
        "df_validacao = pd.read_csv(file_path,sep=';',names=nomes_colunas)\n",
        "df_validacao = df_validacao.iloc[1:]\n",
        "df_validacao = df_validacao.astype(int)\n",
        "display(df_validacao.head())\n",
        "\n",
        "file_path = r'Teste.csv'\n",
        "df_teste = pd.read_csv(file_path,sep=';',names=nomes_colunas)\n",
        "df_teste = df_teste.iloc[1:]\n",
        "df_teste = df_teste.astype(int)\n",
        "display(df_teste.head())"
      ]
    },
    {
      "cell_type": "markdown",
      "metadata": {},
      "source": [
        "### **Os datasets precisam estar neste padrão ao serem carregados em qualquer algoritmo**"
      ]
    },
    {
      "cell_type": "code",
      "execution_count": 92,
      "metadata": {},
      "outputs": [
        {
          "data": {
            "text/html": [
              "<div>\n",
              "<style scoped>\n",
              "    .dataframe tbody tr th:only-of-type {\n",
              "        vertical-align: middle;\n",
              "    }\n",
              "\n",
              "    .dataframe tbody tr th {\n",
              "        vertical-align: top;\n",
              "    }\n",
              "\n",
              "    .dataframe thead th {\n",
              "        text-align: right;\n",
              "    }\n",
              "</style>\n",
              "<table border=\"1\" class=\"dataframe\">\n",
              "  <thead>\n",
              "    <tr style=\"text-align: right;\">\n",
              "      <th></th>\n",
              "      <th>P0</th>\n",
              "      <th>P1</th>\n",
              "      <th>P2</th>\n",
              "      <th>P3</th>\n",
              "      <th>P4</th>\n",
              "      <th>P5</th>\n",
              "      <th>P6</th>\n",
              "      <th>P7</th>\n",
              "      <th>P8</th>\n",
              "      <th>Results</th>\n",
              "    </tr>\n",
              "  </thead>\n",
              "  <tbody>\n",
              "    <tr>\n",
              "      <th>1</th>\n",
              "      <td>1</td>\n",
              "      <td>1</td>\n",
              "      <td>-1</td>\n",
              "      <td>-1</td>\n",
              "      <td>1</td>\n",
              "      <td>1</td>\n",
              "      <td>1</td>\n",
              "      <td>-1</td>\n",
              "      <td>-1</td>\n",
              "      <td>2</td>\n",
              "    </tr>\n",
              "    <tr>\n",
              "      <th>2</th>\n",
              "      <td>1</td>\n",
              "      <td>1</td>\n",
              "      <td>-1</td>\n",
              "      <td>-1</td>\n",
              "      <td>-1</td>\n",
              "      <td>1</td>\n",
              "      <td>1</td>\n",
              "      <td>1</td>\n",
              "      <td>-1</td>\n",
              "      <td>2</td>\n",
              "    </tr>\n",
              "    <tr>\n",
              "      <th>3</th>\n",
              "      <td>1</td>\n",
              "      <td>1</td>\n",
              "      <td>-1</td>\n",
              "      <td>-1</td>\n",
              "      <td>-1</td>\n",
              "      <td>1</td>\n",
              "      <td>1</td>\n",
              "      <td>-1</td>\n",
              "      <td>1</td>\n",
              "      <td>2</td>\n",
              "    </tr>\n",
              "    <tr>\n",
              "      <th>4</th>\n",
              "      <td>1</td>\n",
              "      <td>1</td>\n",
              "      <td>-1</td>\n",
              "      <td>-1</td>\n",
              "      <td>-1</td>\n",
              "      <td>1</td>\n",
              "      <td>1</td>\n",
              "      <td>-1</td>\n",
              "      <td>-1</td>\n",
              "      <td>2</td>\n",
              "    </tr>\n",
              "    <tr>\n",
              "      <th>5</th>\n",
              "      <td>1</td>\n",
              "      <td>-1</td>\n",
              "      <td>1</td>\n",
              "      <td>1</td>\n",
              "      <td>1</td>\n",
              "      <td>-1</td>\n",
              "      <td>-1</td>\n",
              "      <td>1</td>\n",
              "      <td>-1</td>\n",
              "      <td>2</td>\n",
              "    </tr>\n",
              "    <tr>\n",
              "      <th>...</th>\n",
              "      <td>...</td>\n",
              "      <td>...</td>\n",
              "      <td>...</td>\n",
              "      <td>...</td>\n",
              "      <td>...</td>\n",
              "      <td>...</td>\n",
              "      <td>...</td>\n",
              "      <td>...</td>\n",
              "      <td>...</td>\n",
              "      <td>...</td>\n",
              "    </tr>\n",
              "    <tr>\n",
              "      <th>1259</th>\n",
              "      <td>-1</td>\n",
              "      <td>-1</td>\n",
              "      <td>1</td>\n",
              "      <td>-1</td>\n",
              "      <td>0</td>\n",
              "      <td>1</td>\n",
              "      <td>0</td>\n",
              "      <td>1</td>\n",
              "      <td>1</td>\n",
              "      <td>1</td>\n",
              "    </tr>\n",
              "    <tr>\n",
              "      <th>1260</th>\n",
              "      <td>0</td>\n",
              "      <td>1</td>\n",
              "      <td>-1</td>\n",
              "      <td>0</td>\n",
              "      <td>1</td>\n",
              "      <td>1</td>\n",
              "      <td>-1</td>\n",
              "      <td>1</td>\n",
              "      <td>-1</td>\n",
              "      <td>1</td>\n",
              "    </tr>\n",
              "    <tr>\n",
              "      <th>1261</th>\n",
              "      <td>1</td>\n",
              "      <td>-1</td>\n",
              "      <td>-1</td>\n",
              "      <td>-1</td>\n",
              "      <td>-1</td>\n",
              "      <td>1</td>\n",
              "      <td>1</td>\n",
              "      <td>1</td>\n",
              "      <td>1</td>\n",
              "      <td>1</td>\n",
              "    </tr>\n",
              "    <tr>\n",
              "      <th>1262</th>\n",
              "      <td>0</td>\n",
              "      <td>0</td>\n",
              "      <td>-1</td>\n",
              "      <td>1</td>\n",
              "      <td>1</td>\n",
              "      <td>1</td>\n",
              "      <td>1</td>\n",
              "      <td>-1</td>\n",
              "      <td>-1</td>\n",
              "      <td>1</td>\n",
              "    </tr>\n",
              "    <tr>\n",
              "      <th>1263</th>\n",
              "      <td>1</td>\n",
              "      <td>1</td>\n",
              "      <td>-1</td>\n",
              "      <td>-1</td>\n",
              "      <td>1</td>\n",
              "      <td>0</td>\n",
              "      <td>0</td>\n",
              "      <td>-1</td>\n",
              "      <td>1</td>\n",
              "      <td>1</td>\n",
              "    </tr>\n",
              "  </tbody>\n",
              "</table>\n",
              "<p>1263 rows × 10 columns</p>\n",
              "</div>"
            ],
            "text/plain": [
              "      P0  P1  P2  P3  P4  P5  P6  P7  P8  Results\n",
              "1      1   1  -1  -1   1   1   1  -1  -1        2\n",
              "2      1   1  -1  -1  -1   1   1   1  -1        2\n",
              "3      1   1  -1  -1  -1   1   1  -1   1        2\n",
              "4      1   1  -1  -1  -1   1   1  -1  -1        2\n",
              "5      1  -1   1   1   1  -1  -1   1  -1        2\n",
              "...   ..  ..  ..  ..  ..  ..  ..  ..  ..      ...\n",
              "1259  -1  -1   1  -1   0   1   0   1   1        1\n",
              "1260   0   1  -1   0   1   1  -1   1  -1        1\n",
              "1261   1  -1  -1  -1  -1   1   1   1   1        1\n",
              "1262   0   0  -1   1   1   1   1  -1  -1        1\n",
              "1263   1   1  -1  -1   1   0   0  -1   1        1\n",
              "\n",
              "[1263 rows x 10 columns]"
            ]
          },
          "execution_count": 92,
          "metadata": {},
          "output_type": "execute_result"
        }
      ],
      "source": [
        "# Os datasets precisam estar neste padrão ao serem carregados em qualquer algoritmo\n",
        "df_treino = df_treino.iloc[1:]\n",
        "df_treino = df_treino.astype(int)\n",
        "df_treino"
      ]
    },
    {
      "cell_type": "markdown",
      "metadata": {},
      "source": [
        "#### **Treino**"
      ]
    },
    {
      "cell_type": "code",
      "execution_count": 93,
      "metadata": {},
      "outputs": [
        {
          "data": {
            "text/html": [
              "<div>\n",
              "<style scoped>\n",
              "    .dataframe tbody tr th:only-of-type {\n",
              "        vertical-align: middle;\n",
              "    }\n",
              "\n",
              "    .dataframe tbody tr th {\n",
              "        vertical-align: top;\n",
              "    }\n",
              "\n",
              "    .dataframe thead th {\n",
              "        text-align: right;\n",
              "    }\n",
              "</style>\n",
              "<table border=\"1\" class=\"dataframe\">\n",
              "  <thead>\n",
              "    <tr style=\"text-align: right;\">\n",
              "      <th></th>\n",
              "      <th>P0</th>\n",
              "      <th>P1</th>\n",
              "      <th>P2</th>\n",
              "      <th>P3</th>\n",
              "      <th>P4</th>\n",
              "      <th>P5</th>\n",
              "      <th>P6</th>\n",
              "      <th>P7</th>\n",
              "      <th>P8</th>\n",
              "    </tr>\n",
              "  </thead>\n",
              "  <tbody>\n",
              "    <tr>\n",
              "      <th>1</th>\n",
              "      <td>1</td>\n",
              "      <td>1</td>\n",
              "      <td>-1</td>\n",
              "      <td>-1</td>\n",
              "      <td>1</td>\n",
              "      <td>1</td>\n",
              "      <td>1</td>\n",
              "      <td>-1</td>\n",
              "      <td>-1</td>\n",
              "    </tr>\n",
              "    <tr>\n",
              "      <th>2</th>\n",
              "      <td>1</td>\n",
              "      <td>1</td>\n",
              "      <td>-1</td>\n",
              "      <td>-1</td>\n",
              "      <td>-1</td>\n",
              "      <td>1</td>\n",
              "      <td>1</td>\n",
              "      <td>1</td>\n",
              "      <td>-1</td>\n",
              "    </tr>\n",
              "    <tr>\n",
              "      <th>3</th>\n",
              "      <td>1</td>\n",
              "      <td>1</td>\n",
              "      <td>-1</td>\n",
              "      <td>-1</td>\n",
              "      <td>-1</td>\n",
              "      <td>1</td>\n",
              "      <td>1</td>\n",
              "      <td>-1</td>\n",
              "      <td>1</td>\n",
              "    </tr>\n",
              "    <tr>\n",
              "      <th>4</th>\n",
              "      <td>1</td>\n",
              "      <td>1</td>\n",
              "      <td>-1</td>\n",
              "      <td>-1</td>\n",
              "      <td>-1</td>\n",
              "      <td>1</td>\n",
              "      <td>1</td>\n",
              "      <td>-1</td>\n",
              "      <td>-1</td>\n",
              "    </tr>\n",
              "    <tr>\n",
              "      <th>5</th>\n",
              "      <td>1</td>\n",
              "      <td>-1</td>\n",
              "      <td>1</td>\n",
              "      <td>1</td>\n",
              "      <td>1</td>\n",
              "      <td>-1</td>\n",
              "      <td>-1</td>\n",
              "      <td>1</td>\n",
              "      <td>-1</td>\n",
              "    </tr>\n",
              "    <tr>\n",
              "      <th>...</th>\n",
              "      <td>...</td>\n",
              "      <td>...</td>\n",
              "      <td>...</td>\n",
              "      <td>...</td>\n",
              "      <td>...</td>\n",
              "      <td>...</td>\n",
              "      <td>...</td>\n",
              "      <td>...</td>\n",
              "      <td>...</td>\n",
              "    </tr>\n",
              "    <tr>\n",
              "      <th>1259</th>\n",
              "      <td>-1</td>\n",
              "      <td>-1</td>\n",
              "      <td>1</td>\n",
              "      <td>-1</td>\n",
              "      <td>0</td>\n",
              "      <td>1</td>\n",
              "      <td>0</td>\n",
              "      <td>1</td>\n",
              "      <td>1</td>\n",
              "    </tr>\n",
              "    <tr>\n",
              "      <th>1260</th>\n",
              "      <td>0</td>\n",
              "      <td>1</td>\n",
              "      <td>-1</td>\n",
              "      <td>0</td>\n",
              "      <td>1</td>\n",
              "      <td>1</td>\n",
              "      <td>-1</td>\n",
              "      <td>1</td>\n",
              "      <td>-1</td>\n",
              "    </tr>\n",
              "    <tr>\n",
              "      <th>1261</th>\n",
              "      <td>1</td>\n",
              "      <td>-1</td>\n",
              "      <td>-1</td>\n",
              "      <td>-1</td>\n",
              "      <td>-1</td>\n",
              "      <td>1</td>\n",
              "      <td>1</td>\n",
              "      <td>1</td>\n",
              "      <td>1</td>\n",
              "    </tr>\n",
              "    <tr>\n",
              "      <th>1262</th>\n",
              "      <td>0</td>\n",
              "      <td>0</td>\n",
              "      <td>-1</td>\n",
              "      <td>1</td>\n",
              "      <td>1</td>\n",
              "      <td>1</td>\n",
              "      <td>1</td>\n",
              "      <td>-1</td>\n",
              "      <td>-1</td>\n",
              "    </tr>\n",
              "    <tr>\n",
              "      <th>1263</th>\n",
              "      <td>1</td>\n",
              "      <td>1</td>\n",
              "      <td>-1</td>\n",
              "      <td>-1</td>\n",
              "      <td>1</td>\n",
              "      <td>0</td>\n",
              "      <td>0</td>\n",
              "      <td>-1</td>\n",
              "      <td>1</td>\n",
              "    </tr>\n",
              "  </tbody>\n",
              "</table>\n",
              "<p>1263 rows × 9 columns</p>\n",
              "</div>"
            ],
            "text/plain": [
              "      P0  P1  P2  P3  P4  P5  P6  P7  P8\n",
              "1      1   1  -1  -1   1   1   1  -1  -1\n",
              "2      1   1  -1  -1  -1   1   1   1  -1\n",
              "3      1   1  -1  -1  -1   1   1  -1   1\n",
              "4      1   1  -1  -1  -1   1   1  -1  -1\n",
              "5      1  -1   1   1   1  -1  -1   1  -1\n",
              "...   ..  ..  ..  ..  ..  ..  ..  ..  ..\n",
              "1259  -1  -1   1  -1   0   1   0   1   1\n",
              "1260   0   1  -1   0   1   1  -1   1  -1\n",
              "1261   1  -1  -1  -1  -1   1   1   1   1\n",
              "1262   0   0  -1   1   1   1   1  -1  -1\n",
              "1263   1   1  -1  -1   1   0   0  -1   1\n",
              "\n",
              "[1263 rows x 9 columns]"
            ]
          },
          "execution_count": 93,
          "metadata": {},
          "output_type": "execute_result"
        }
      ],
      "source": [
        "# Filtrando as features que serão passadas para predição\n",
        "X = df_treino.drop(columns=['Results'])\n",
        "X"
      ]
    },
    {
      "cell_type": "code",
      "execution_count": 101,
      "metadata": {},
      "outputs": [
        {
          "data": {
            "text/plain": [
              "array([ 1,  1, -1, -1,  1,  1,  1, -1, -1])"
            ]
          },
          "execution_count": 101,
          "metadata": {},
          "output_type": "execute_result"
        }
      ],
      "source": [
        "X.values[0].reshape(9,)"
      ]
    },
    {
      "cell_type": "code",
      "execution_count": null,
      "metadata": {},
      "outputs": [],
      "source": []
    },
    {
      "cell_type": "code",
      "execution_count": 9,
      "metadata": {},
      "outputs": [
        {
          "data": {
            "text/plain": [
              "array([2, 2, 2, ..., 1, 1, 1])"
            ]
          },
          "execution_count": 9,
          "metadata": {},
          "output_type": "execute_result"
        }
      ],
      "source": [
        "# Obtendo as labels do dataset de treino\n",
        "Y = df_treino.drop(columns=['P0','P1','P2','P3','P4','P5','P6','P7','P8'])['Results'].values\n",
        "Y"
      ]
    },
    {
      "cell_type": "markdown",
      "metadata": {},
      "source": [
        "##### **Uso de heurística para determinar o K**"
      ]
    },
    {
      "cell_type": "code",
      "execution_count": 17,
      "metadata": {},
      "outputs": [
        {
          "name": "stdout",
          "output_type": "stream",
          "text": [
            "Quantidade vizinhos: 36\n",
            "K=36, Acurácia média: 0.7070362005144615\n"
          ]
        }
      ],
      "source": [
        "# Heurísitca para definir o K:  Regra da Raiz Quadrada\n",
        "from math import sqrt,ceil\n",
        "\n",
        "# Arrendondando a raiz quadrada do total de entradas do dataset de treino\n",
        "\n",
        "k = ceil(sqrt(df_treino['P0'].count())) \n",
        "print(\"Quantidade vizinhos: {}\".format(k))\n",
        "\n",
        "# Criação do classificador\n",
        "clf = neighbors.KNeighborsClassifier(n_neighbors=k)\n",
        "\n",
        "# Treino do modelo\n",
        "clf.fit(X.values, Y)\n",
        "\n",
        "score = cross_val_score(clf, X.values, Y, cv=5, scoring=None)\n",
        "print(\"K={}, Acurácia média: {}\".format(k,score.mean()))"
      ]
    },
    {
      "cell_type": "code",
      "execution_count": 20,
      "metadata": {
        "colab": {
          "base_uri": "https://localhost:8080/",
          "height": 75
        },
        "id": "3i9l8Hwj6B_n",
        "outputId": "99524a8b-2702-4a45-c200-9c82734ecd18"
      },
      "outputs": [
        {
          "name": "stdout",
          "output_type": "stream",
          "text": [
            "K=1, Acurácia média: 0.5993600602296254\n",
            "K=2, Acurácia média: 0.5875054896794027\n",
            "K=3, Acurácia média: 0.6801587301587302\n",
            "K=4, Acurácia média: 0.7142041533345881\n",
            "K=5, Acurácia média: 0.7648660518225735\n",
            "K=6, Acurácia média: 0.8060104147060668\n",
            "K=7, Acurácia média: 0.8305477131564087\n",
            "K=8, Acurácia média: 0.8249984315201706\n",
            "K=9, Acurácia média: 0.8463736746345443\n",
            "K=10, Acurácia média: 0.8431959345002824\n",
            "K=11, Acurácia média: 0.8424148315452664\n",
            "K=12, Acurácia média: 0.8337129054520359\n",
            "K=13, Acurácia média: 0.8321130560260995\n",
            "K=14, Acurácia média: 0.8257826714348454\n",
            "K=15, Acurácia média: 0.8139092791266703\n",
            "K=16, Acurácia média: 0.8004329004329005\n",
            "K=17, Acurácia média: 0.787772131250392\n",
            "K=18, Acurácia média: 0.7735271974402409\n",
            "K=19, Acurácia média: 0.769558943471987\n",
            "K=20, Acurácia média: 0.7655938264633917\n"
          ]
        }
      ],
      "source": [
        "# Lista para guardar os resultados dos testes para k\n",
        "lista_k_accuracy = []\n",
        "\n",
        "# Criação do classificador\n",
        "for k in range(1,21):\n",
        "    clf = neighbors.KNeighborsClassifier(n_neighbors=k)\n",
        "\n",
        "    # Treino do modelo\n",
        "    clf.fit(X.values, Y)\n",
        "\n",
        "    score = cross_val_score(clf, X.values, Y, cv=5, scoring=None)\n",
        "    print(\"K={}, Acurácia média: {}\".format(k,score.mean()))\n",
        "    lista_k_accuracy.append([k,score.mean()])"
      ]
    },
    {
      "cell_type": "code",
      "execution_count": 26,
      "metadata": {},
      "outputs": [
        {
          "data": {
            "image/png": "[encoded data removed]",
            "text/plain": [
              "<Figure size 640x480 with 1 Axes>"
            ]
          },
          "metadata": {},
          "output_type": "display_data"
        }
      ],
      "source": [
        "# Separando em listas separadas para o eixo x e y\n",
        "x = [par[0] for par in lista_k_accuracy]\n",
        "y = [par[1] for par in lista_k_accuracy]\n",
        "\n",
        "# Plotar o gráfico de linha\n",
        "plt.plot(x, y, marker='o',color='darkred') \n",
        "\n",
        "# Adicionar título e rótulos\n",
        "plt.title('K Vizinhos x Acurácia')\n",
        "plt.xlabel('K')\n",
        "plt.ylabel('Acurácia')\n",
        "\n",
        "# Mostrar o gráfico\n",
        "plt.grid(True)\n",
        "plt.show()\n"
      ]
    },
    {
      "cell_type": "code",
      "execution_count": 27,
      "metadata": {},
      "outputs": [
        {
          "data": {
            "text/html": [
              "<style>#sk-container-id-1 {color: black;}#sk-container-id-1 pre{padding: 0;}#sk-container-id-1 div.sk-toggleable {background-color: white;}#sk-container-id-1 label.sk-toggleable__label {cursor: pointer;display: block;width: 100%;margin-bottom: 0;padding: 0.3em;box-sizing: border-box;text-align: center;}#sk-container-id-1 label.sk-toggleable__label-arrow:before {content: \"▸\";float: left;margin-right: 0.25em;color: #696969;}#sk-container-id-1 label.sk-toggleable__label-arrow:hover:before {color: black;}#sk-container-id-1 div.sk-estimator:hover label.sk-toggleable__label-arrow:before {color: black;}#sk-container-id-1 div.sk-toggleable__content {max-height: 0;max-width: 0;overflow: hidden;text-align: left;background-color: #f0f8ff;}#sk-container-id-1 div.sk-toggleable__content pre {margin: 0.2em;color: black;border-radius: 0.25em;background-color: #f0f8ff;}#sk-container-id-1 input.sk-toggleable__control:checked~div.sk-toggleable__content {max-height: 200px;max-width: 100%;overflow: auto;}#sk-container-id-1 input.sk-toggleable__control:checked~label.sk-toggleable__label-arrow:before {content: \"▾\";}#sk-container-id-1 div.sk-estimator input.sk-toggleable__control:checked~label.sk-toggleable__label {background-color: #d4ebff;}#sk-container-id-1 div.sk-label input.sk-toggleable__control:checked~label.sk-toggleable__label {background-color: #d4ebff;}#sk-container-id-1 input.sk-hidden--visually {border: 0;clip: rect(1px 1px 1px 1px);clip: rect(1px, 1px, 1px, 1px);height: 1px;margin: -1px;overflow: hidden;padding: 0;position: absolute;width: 1px;}#sk-container-id-1 div.sk-estimator {font-family: monospace;background-color: #f0f8ff;border: 1px dotted black;border-radius: 0.25em;box-sizing: border-box;margin-bottom: 0.5em;}#sk-container-id-1 div.sk-estimator:hover {background-color: #d4ebff;}#sk-container-id-1 div.sk-parallel-item::after {content: \"\";width: 100%;border-bottom: 1px solid gray;flex-grow: 1;}#sk-container-id-1 div.sk-label:hover label.sk-toggleable__label {background-color: #d4ebff;}#sk-container-id-1 div.sk-serial::before {content: \"\";position: absolute;border-left: 1px solid gray;box-sizing: border-box;top: 0;bottom: 0;left: 50%;z-index: 0;}#sk-container-id-1 div.sk-serial {display: flex;flex-direction: column;align-items: center;background-color: white;padding-right: 0.2em;padding-left: 0.2em;position: relative;}#sk-container-id-1 div.sk-item {position: relative;z-index: 1;}#sk-container-id-1 div.sk-parallel {display: flex;align-items: stretch;justify-content: center;background-color: white;position: relative;}#sk-container-id-1 div.sk-item::before, #sk-container-id-1 div.sk-parallel-item::before {content: \"\";position: absolute;border-left: 1px solid gray;box-sizing: border-box;top: 0;bottom: 0;left: 50%;z-index: -1;}#sk-container-id-1 div.sk-parallel-item {display: flex;flex-direction: column;z-index: 1;position: relative;background-color: white;}#sk-container-id-1 div.sk-parallel-item:first-child::after {align-self: flex-end;width: 50%;}#sk-container-id-1 div.sk-parallel-item:last-child::after {align-self: flex-start;width: 50%;}#sk-container-id-1 div.sk-parallel-item:only-child::after {width: 0;}#sk-container-id-1 div.sk-dashed-wrapped {border: 1px dashed gray;margin: 0 0.4em 0.5em 0.4em;box-sizing: border-box;padding-bottom: 0.4em;background-color: white;}#sk-container-id-1 div.sk-label label {font-family: monospace;font-weight: bold;display: inline-block;line-height: 1.2em;}#sk-container-id-1 div.sk-label-container {text-align: center;}#sk-container-id-1 div.sk-container {/* jupyter's `normalize.less` sets `[hidden] { display: none; }` but bootstrap.min.css set `[hidden] { display: none !important; }` so we also need the `!important` here to be able to override the default hidden behavior on the sphinx rendered scikit-learn.org. See: https://github.com/scikit-learn/scikit-learn/issues/21755 */display: inline-block !important;position: relative;}#sk-container-id-1 div.sk-text-repr-fallback {display: none;}</style><div id=\"sk-container-id-1\" class=\"sk-top-container\"><div class=\"sk-text-repr-fallback\"><pre>KNeighborsClassifier(n_neighbors=9)</pre><b>In a Jupyter environment, please rerun this cell to show the HTML representation or trust the notebook. <br />On GitHub, the HTML representation is unable to render, please try loading this page with nbviewer.org.</b></div><div class=\"sk-container\" hidden><div class=\"sk-item\"><div class=\"sk-estimator sk-toggleable\"><input class=\"sk-toggleable__control sk-hidden--visually\" id=\"sk-estimator-id-1\" type=\"checkbox\" checked><label for=\"sk-estimator-id-1\" class=\"sk-toggleable__label sk-toggleable__label-arrow\">KNeighborsClassifier</label><div class=\"sk-toggleable__content\"><pre>KNeighborsClassifier(n_neighbors=9)</pre></div></div></div></div></div>"
            ],
            "text/plain": [
              "KNeighborsClassifier(n_neighbors=9)"
            ]
          },
          "execution_count": 27,
          "metadata": {},
          "output_type": "execute_result"
        }
      ],
      "source": [
        "# K determinado a partir dos testes\n",
        "k = 9  \n",
        "\n",
        "# Criação do classificador\n",
        "clf = neighbors.KNeighborsClassifier(n_neighbors=k)\n",
        "\n",
        "# Treino do modelo\n",
        "clf.fit(X.values, Y)"
      ]
    },
    {
      "cell_type": "markdown",
      "metadata": {},
      "source": [
        "#### **Validação**"
      ]
    },
    {
      "cell_type": "code",
      "execution_count": 32,
      "metadata": {},
      "outputs": [
        {
          "data": {
            "text/plain": [
              "array([[-1,  1, -1, ..., -1, -1,  1],\n",
              "       [ 1,  1, -1, ...,  1, -1, -1],\n",
              "       [ 1, -1,  1, ..., -1,  1,  1],\n",
              "       ...,\n",
              "       [-1, -1,  0, ...,  1, -1,  0],\n",
              "       [ 1, -1, -1, ...,  1,  1,  0],\n",
              "       [ 0,  1, -1, ...,  1,  1,  0]])"
            ]
          },
          "execution_count": 32,
          "metadata": {},
          "output_type": "execute_result"
        }
      ],
      "source": [
        "# Filtrando as features que serão passadas para predição\n",
        "X_valid = df_validacao.drop(columns=['Results'])\n",
        "X_valid = X_valid.values\n",
        "X_valid"
      ]
    },
    {
      "cell_type": "code",
      "execution_count": 31,
      "metadata": {},
      "outputs": [
        {
          "data": {
            "text/plain": [
              "array([ 2,  2,  2,  2,  2,  2,  0,  0,  0,  0,  0,  0,  0,  0,  0,  0,  0,\n",
              "        0,  0,  0,  0,  0,  0,  0,  0,  0,  0,  0,  0,  0,  0,  0,  0,  0,\n",
              "        0,  0,  0,  0,  0,  0,  0,  0,  0,  0,  0,  0, -1, -1, -1, -1, -1,\n",
              "       -1, -1, -1, -1, -1, -1, -1, -1, -1, -1, -1, -1, -1, -1, -1, -1, -1,\n",
              "       -1, -1, -1, -1, -1, -1, -1, -1, -1, -1, -1, -1, -1, -1, -1, -1, -1,\n",
              "       -1,  1,  1,  1,  1,  1,  1,  1,  1,  1,  1,  1,  1,  1,  1,  1,  1,\n",
              "        1,  1,  1,  1,  1,  1,  1,  1,  1,  1,  1,  1,  1,  1,  1,  1,  1,\n",
              "        1,  1,  1,  1,  1,  1,  1])"
            ]
          },
          "execution_count": 31,
          "metadata": {},
          "output_type": "execute_result"
        }
      ],
      "source": [
        "# Obtendo as labels do dataset de validação\n",
        "Y_valid = df_validacao.drop(columns=['P0','P1','P2','P3','P4','P5','P6','P7','P8'])['Results'].values\n",
        "Y_valid"
      ]
    },
    {
      "cell_type": "code",
      "execution_count": 34,
      "metadata": {
        "colab": {
          "base_uri": "https://localhost:8080/"
        },
        "id": "CPAUOn2Pr7ft",
        "outputId": "c46e16ce-df4d-4466-8083-aafefaee1e49"
      },
      "outputs": [
        {
          "name": "stdout",
          "output_type": "stream",
          "text": [
            "Acurácia: 0.89\n"
          ]
        }
      ],
      "source": [
        "# Criação das predições a partir da base de validação\n",
        "predicao = clf.predict(X_valid)\n",
        "\n",
        "# Calcular a acurácia\n",
        "acuracia = accuracy_score(Y_valid, predicao)\n",
        "print(f\"Acurácia: {acuracia:.2f}\")\n"
      ]
    },
    {
      "cell_type": "markdown",
      "metadata": {},
      "source": [
        "#### **Teste**"
      ]
    },
    {
      "cell_type": "code",
      "execution_count": 37,
      "metadata": {},
      "outputs": [
        {
          "data": {
            "text/plain": [
              "array([[-1,  1, -1, ...,  1, -1,  1],\n",
              "       [ 1, -1,  1, ..., -1,  1, -1],\n",
              "       [-1,  1, -1, ...,  1, -1,  1],\n",
              "       ...,\n",
              "       [-1,  0,  0, ...,  1,  1,  1],\n",
              "       [ 1, -1, -1, ...,  1,  1,  1],\n",
              "       [ 1,  0,  1, ...,  1,  0, -1]])"
            ]
          },
          "execution_count": 37,
          "metadata": {},
          "output_type": "execute_result"
        }
      ],
      "source": [
        "# Filtrando as features que serão passadas para predição\n",
        "X_test = df_teste.drop(columns=['Results'])\n",
        "X_test = X_test.values\n",
        "X_test"
      ]
    },
    {
      "cell_type": "code",
      "execution_count": 38,
      "metadata": {},
      "outputs": [
        {
          "data": {
            "text/plain": [
              "array([ 2,  2,  2,  2,  2,  2,  0,  0,  0,  0,  0,  0,  0,  0,  0,  0,  0,\n",
              "        0,  0,  0,  0,  0,  0,  0,  0,  0,  0,  0,  0,  0,  0,  0,  0,  0,\n",
              "        0,  0,  0,  0,  0,  0,  0,  0,  0,  0,  0,  0, -1, -1, -1, -1, -1,\n",
              "       -1, -1, -1, -1, -1, -1, -1, -1, -1, -1, -1, -1, -1, -1, -1, -1, -1,\n",
              "       -1, -1, -1, -1, -1, -1, -1, -1, -1, -1, -1, -1, -1, -1, -1, -1, -1,\n",
              "       -1,  1,  1,  1,  1,  1,  1,  1,  1,  1,  1,  1,  1,  1,  1,  1,  1,\n",
              "        1,  1,  1,  1,  1,  1,  1,  1,  1,  1,  1,  1,  1,  1,  1,  1,  1,\n",
              "        1,  1,  1,  1,  1,  1,  1])"
            ]
          },
          "execution_count": 38,
          "metadata": {},
          "output_type": "execute_result"
        }
      ],
      "source": [
        "# Obtendo as labels do dataset de teste\n",
        "Y_test = df_teste.drop(columns=['P0','P1','P2','P3','P4','P5','P6','P7','P8'])['Results'].values\n",
        "Y_test"
      ]
    },
    {
      "cell_type": "code",
      "execution_count": 39,
      "metadata": {},
      "outputs": [
        {
          "name": "stdout",
          "output_type": "stream",
          "text": [
            "Acurácia: 0.87\n"
          ]
        }
      ],
      "source": [
        "# Criação das predições a partir da base de validação\n",
        "predicao = clf.predict(X_test)\n",
        "\n",
        "# Calcular a acurácia\n",
        "acuracia = accuracy_score(Y_test, predicao)\n",
        "print(f\"Acurácia: {acuracia:.2f}\")\n"
      ]
    },
    {
      "cell_type": "code",
      "execution_count": 40,
      "metadata": {},
      "outputs": [],
      "source": [
        "nomes_classes = [\"O ganhou\",\"Empate\",\"X ganhou\",\"Ainda tem jogo\"]"
      ]
    },
    {
      "cell_type": "code",
      "execution_count": 44,
      "metadata": {},
      "outputs": [
        {
          "name": "stdout",
          "output_type": "stream",
          "text": [
            "Relatório de Classificação:\n",
            "                 precision    recall  f1-score   support\n",
            "\n",
            "      O ganhou       0.91      0.97      0.94        40\n",
            "        Empate       0.79      0.85      0.82        40\n",
            "      X ganhou       0.97      0.90      0.94        40\n",
            "Ainda tem jogo       0.33      0.17      0.22         6\n",
            "\n",
            "      accuracy                           0.87       126\n",
            "     macro avg       0.75      0.72      0.73       126\n",
            "  weighted avg       0.86      0.87      0.87       126\n",
            "\n"
          ]
        }
      ],
      "source": [
        "# Calcular e imprimir o relatório de classificação\n",
        "relatorio_classificacao = classification_report(Y_test, predicao, target_names=nomes_classes)\n",
        "print(\"Relatório de Classificação:\\n\", relatorio_classificacao)"
      ]
    },
    {
      "cell_type": "markdown",
      "metadata": {},
      "source": [
        "### **Partida**"
      ]
    },
    {
      "cell_type": "code",
      "execution_count": 48,
      "metadata": {},
      "outputs": [],
      "source": [
        "import numpy as np\n",
        "import random"
      ]
    },
    {
      "cell_type": "markdown",
      "metadata": {},
      "source": [
        "### **Função para plotagem do tabuleiro**"
      ]
    },
    {
      "cell_type": "code",
      "execution_count": null,
      "metadata": {},
      "outputs": [],
      "source": [
        "def plot_board(board):\n",
        "    fig, ax = plt.subplots()\n",
        "    ax.set_xlim(0, 3)\n",
        "    ax.set_ylim(0, 3)\n",
        "\n",
        "    plt.plot([1, 1], [0, 3], color='black', linewidth=2)\n",
        "    plt.plot([2, 2], [0, 3], color='black', linewidth=2)\n",
        "    plt.plot([0, 3], [1, 1], color='black', linewidth=2)\n",
        "    plt.plot([0, 3], [2, 2], color='black', linewidth=2)\n",
        "\n",
        "    for i in range(3):\n",
        "        for j in range(3):\n",
        "            mark = board[i][j]\n",
        "            if mark == 1:\n",
        "                plt.text(j + 0.5, 2.5 - i, 'X', fontsize=42, ha='center', va='center', color='black')\n",
        "            elif mark == -1:\n",
        "                plt.text(j + 0.5, 2.5 - i, 'O', fontsize=42, ha='center', va='center', color='black')\n",
        "\n",
        "    ax.set_xticks([])\n",
        "    ax.set_yticks([])\n",
        "    ax.set_aspect('equal')\n",
        "\n",
        "    plt.show()\n"
      ]
    },
    {
      "cell_type": "markdown",
      "metadata": {},
      "source": [
        "##### **Funções para realização de jogadas**"
      ]
    },
    {
      "cell_type": "code",
      "execution_count": 45,
      "metadata": {},
      "outputs": [],
      "source": [
        "# Função para coleta da jogada\n",
        "def coleta_jogada():\n",
        "    # Coletando os valores por meio de um input\n",
        "    linha, coluna = input(\"Informe a linha e a coluna onde deseja incluir o x. Ex: [1,2]\").split(\",\")\n",
        "    \n",
        "    # Convertendo os valores para inteiro\n",
        "    return int(linha), int(coluna)\n",
        "\n",
        "# Função para validação da posição informada para realização da jogada\n",
        "def valida_jogada(jogada,linha,coluna):\n",
        "    \n",
        "    # Conversão da jogada em um array 3x3\n",
        "    jogada = np.array(jogada).reshape(3,3)\n",
        "    \n",
        "    # Verificar se a posição especificada não é igual a zero\n",
        "    if jogada[linha, coluna] != 0:\n",
        "        return True\n",
        "    \n",
        "    return False\n",
        "    \n",
        "\n",
        "# Função para realização da jogada do computador a partir de uma função aleatória\n",
        "def jogada_COM(jogada):\n",
        "    jogada_feita = False\n",
        "    \n",
        "    while not jogada_feita: \n",
        "        # Escolha de um índice aleatório na lista\n",
        "        indice_aleatorio = random.randint(0, len(jogada) - 1)\n",
        "\n",
        "        # Caso a posição escolhida esteja livre realiza a modificação\n",
        "        if jogada[indice_aleatorio] not in [1,-1]:\n",
        "            #print(\"Lugar livre, Index: {} Valor: {}\".format(indice_aleatorio,jogada[indice_aleatorio]))\n",
        "            # Atrubuição realizada na posição aleatória escolhida\n",
        "            jogada[indice_aleatorio] = -1 \n",
        "            jogada_feita = True\n",
        "        \n",
        "    return jogada\n",
        "\n",
        "\n",
        "def ajuste_jogada(jogada,linha,coluna):\n",
        "    # Subtraindo os valores das linhas ou colunas caso o valor seja maior que zero\n",
        "    if linha != 0:\n",
        "        linha -= 1\n",
        "\n",
        "    if coluna != 0:\n",
        "        coluna -= 1\n",
        "        \n",
        "    # print(\"Linha: {} Coluna: {}\".format(linha,coluna))\n",
        "    # Chamada da função para validação da jogada:\n",
        "        \n",
        "\n",
        "    # Caso a posição informada pelo usuário não esteja preenchida, ele realiza a modificação\n",
        "    if jogada[linha][coluna] != 0:\n",
        "        print (\"Já preenchido\")\n",
        "    else:\n",
        "        jogada[linha][coluna] = 1\n",
        "        print (\"Jogada realizada\")\n",
        "        \n",
        "    return jogada"
      ]
    },
    {
      "cell_type": "code",
      "execution_count": 47,
      "metadata": {},
      "outputs": [],
      "source": [
        "jogada = [0,0,0,0,0,0,0,0,0]\n",
        "jogada = np.array(jogada).reshape(3,3)"
      ]
    },
    {
      "cell_type": "code",
      "execution_count": 69,
      "metadata": {},
      "outputs": [
        {
          "name": "stdout",
          "output_type": "stream",
          "text": [
            "Tabuleiro antes da jogada: [1, 0, -1, 0, 1, 0, -1, 0, 0]\n",
            "Lugar livre, Index: 3 Valor: 0\n",
            "Tabuleiro após a jogada: [1, 0, -1, -1, 1, 0, -1, 0, 0]\n"
          ]
        }
      ],
      "source": [
        "\n",
        "\n",
        "# jogada = [1,0,-1,0,1,0,-1,0,0]\n",
        "# print(\"Tabuleiro antes da jogada: {}\".format(jogada))\n",
        "\n",
        "# # Escolher um índice aleatório na lista\n",
        "# indice_aleatorio = random.randint(0, len(jogada) - 1)\n",
        "\n",
        "# if jogada[indice_aleatorio] not in [1,-1]:\n",
        "#     print(\"Lugar livre, Index: {} Valor: {}\".format(indice_aleatorio,jogada[indice_aleatorio]))\n",
        "#     jogada[indice_aleatorio] = -1\n",
        "# else:\n",
        "#     print(\"Lugar Indisponível, Index: {} Valor: {}\".format(indice_aleatorio,jogada[indice_aleatorio]))\n",
        "    \n",
        "# print(\"Tabuleiro após a jogada: {}\".format(jogada))\n"
      ]
    },
    {
      "cell_type": "code",
      "execution_count": 72,
      "metadata": {},
      "outputs": [],
      "source": [
        "# import random\n",
        "\n",
        "# def jogada_COM(jogada):\n",
        "#     jogada_feita = False\n",
        "    \n",
        "#     while not jogada_feita: \n",
        "#         # Escolher um índice aleatório na lista\n",
        "#         indice_aleatorio = random.randint(0, len(jogada) - 1)\n",
        "\n",
        "#         # Caso a posição escolhida esteja livre realiza a modificação\n",
        "#         if jogada[indice_aleatorio] not in [1,-1]:\n",
        "#             print(\"Lugar livre, Index: {} Valor: {}\".format(indice_aleatorio,jogada[indice_aleatorio]))\n",
        "#             jogada[indice_aleatorio] = -1 \n",
        "#             jogada_feita = True\n",
        "        \n",
        "#     return jogada"
      ]
    },
    {
      "cell_type": "code",
      "execution_count": 99,
      "metadata": {},
      "outputs": [
        {
          "name": "stdout",
          "output_type": "stream",
          "text": [
            "[[ 1  0 -1]\n",
            " [ 0  1  0]\n",
            " [-1  0  0]]\n",
            "[ 1  0 -1  0  1  0 -1  0  0]\n"
          ]
        }
      ],
      "source": [
        "# jogada = [1,0,-1,0,1,0,-1,0,0]\n",
        "# jogada = np.array(jogada).reshape(3,3)\n",
        "# print(jogada)\n",
        "\n",
        "# jogada = np.array(jogada).reshape(9,)\n",
        "# print(jogada)\n",
        "# # print(jogada_COM(jogada))\n",
        "# # Transformando novamente no formato de lista\n",
        "# jogada = jogada.flatten().tolist()"
      ]
    },
    {
      "cell_type": "markdown",
      "metadata": {},
      "source": [
        "#### **Realização da partida**"
      ]
    },
    {
      "cell_type": "code",
      "execution_count": 46,
      "metadata": {},
      "outputs": [
        {
          "ename": "NameError",
          "evalue": "name 'plot_board' is not defined",
          "output_type": "error",
          "traceback": [
            "\u001b[1;31m---------------------------------------------------------------------------\u001b[0m",
            "\u001b[1;31mNameError\u001b[0m                                 Traceback (most recent call last)",
            "Cell \u001b[1;32mIn[46], line 7\u001b[0m\n\u001b[0;32m      5\u001b[0m jogada \u001b[38;5;241m=\u001b[39m [\u001b[38;5;241m0\u001b[39m,\u001b[38;5;241m0\u001b[39m,\u001b[38;5;241m0\u001b[39m,\u001b[38;5;241m0\u001b[39m,\u001b[38;5;241m0\u001b[39m,\u001b[38;5;241m0\u001b[39m,\u001b[38;5;241m0\u001b[39m,\u001b[38;5;241m0\u001b[39m,\u001b[38;5;241m0\u001b[39m]\n\u001b[0;32m      6\u001b[0m jogada \u001b[38;5;241m=\u001b[39m np\u001b[38;5;241m.\u001b[39marray(jogada)\u001b[38;5;241m.\u001b[39mreshape(\u001b[38;5;241m3\u001b[39m,\u001b[38;5;241m3\u001b[39m)\n\u001b[1;32m----> 7\u001b[0m plot_board(jogada)\n\u001b[0;32m      9\u001b[0m finalizar_jogo \u001b[38;5;241m=\u001b[39m \u001b[38;5;28;01mFalse\u001b[39;00m\n\u001b[0;32m     11\u001b[0m \u001b[38;5;28mprint\u001b[39m(\u001b[38;5;124m\"\u001b[39m\u001b[38;5;124m=====================================\u001b[39m\u001b[38;5;130;01m\\n\u001b[39;00m\u001b[38;5;124m\"\u001b[39m)\n",
            "\u001b[1;31mNameError\u001b[0m: name 'plot_board' is not defined"
          ]
        }
      ],
      "source": [
        "from IPython.display import clear_output\n",
        "\n",
        "\n",
        "# Convertendo a lista de jogadas em um array 3x3\n",
        "jogada = [0,0,0,0,0,0,0,0,0]\n",
        "jogada = np.array(jogada).reshape(3,3)\n",
        "plot_board(jogada)\n",
        "\n",
        "finalizar_jogo = False\n",
        "\n",
        "print(\"=====================================\\n\")\n",
        "\n",
        "while not finalizar_jogo:\n",
        "    # Plotando o tabuleiro \n",
        "    plot_board(jogada)\n",
        "    \n",
        "    # Limpando o prompt\n",
        "    clear_output(wait=True)\n",
        "    \n",
        "    # Coletando a jogada\n",
        "    linha,coluna = coleta_jogada()\n",
        "    \n",
        "    # Chamando a função de validação de jogada\n",
        "    if valida_jogada(jogada,linha,coluna):\n",
        "        # Realizando o ajuste da jogada a partir das posições de inserção informadas\n",
        "        jogada = ajuste_jogada(jogada,linha,coluna)\n",
        "        print('Jogada realizada!')\n",
        "    else:\n",
        "        print(\"Jogada não realizada\")\n",
        "        continue # recomeça solicitando a jogada para o usuário\n",
        "    \n",
        "    # Plotando o tabuleiro \n",
        "    plot_board(jogada)\n",
        "    \n",
        "    # PROBLEMA NO CÓDIGO, TEM QUE CONVERTER EM UMA LISTA PARA PASSAR PARA \n",
        "    # Obtenção do status do jogo\n",
        "    jogada = jogada.reshape(9,)\n",
        "    predicao = clf.predict(jogada)\n",
        "    print(\"Situação jogo: {}\".format(predicao))\n",
        "    print(\"=====================================\\n\")\n",
        "    \n",
        "    \n",
        "    jogada = jogada_COM(jogada)\n",
        "    jogada = jogada.reshape(9,)\n",
        "    predicao = clf.predict(jogada)\n",
        "    print(\"Situação jogo: {}\".format(predicao))\n",
        "    print(\"=====================================\\n\")\n",
        "    \n",
        "    # Caso haja um vencedor o loop será encerrado\n",
        "    if predicao != \"AINDA TEM JOGO\":\n",
        "        finalizar_jogo = True"
      ]
    }
  ],
  "metadata": {
    "colab": {
      "provenance": []
    },
    "kernelspec": {
      "display_name": "Python 3",
      "name": "python3"
    },
    "language_info": {
      "codemirror_mode": {
        "name": "ipython",
        "version": 3
      },
      "file_extension": ".py",
      "mimetype": "text/x-python",
      "name": "python",
      "nbconvert_exporter": "python",
      "pygments_lexer": "ipython3",
      "version": "3.11.5"
    }
  },
  "nbformat": 4,
  "nbformat_minor": 0
}
