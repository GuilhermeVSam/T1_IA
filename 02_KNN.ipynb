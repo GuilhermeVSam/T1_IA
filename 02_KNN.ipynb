{
  "cells": [
    {
      "cell_type": "markdown",
      "metadata": {},
      "source": [
        "### **Importações**"
      ]
    },
    {
      "cell_type": "code",
      "execution_count": 25,
      "metadata": {
        "id": "Uod6QOWQp0SO"
      },
      "outputs": [],
      "source": [
        "import pandas as pd\n",
        "import numpy as np\n",
        "from sklearn import neighbors\n",
        "from sklearn.model_selection import cross_val_score\n",
        "from sklearn.metrics import accuracy_score\n",
        "import matplotlib.pyplot as plt\n",
        "from sklearn.metrics import classification_report"
      ]
    },
    {
      "cell_type": "code",
      "execution_count": null,
      "metadata": {
        "colab": {
          "base_uri": "https://localhost:8080/"
        },
        "id": "q1-H5YqwsuJs",
        "outputId": "07dbfb48-cd60-447f-bf67-06a92b670242"
      },
      "outputs": [],
      "source": [
        "#Importação do dataset de treino\n",
        "file_path = r'Treino.csv'\n",
        "df_treino = pd.read_csv(file_path)\n",
        "display(df_treino.head())"
      ]
    },
    {
      "cell_type": "code",
      "execution_count": null,
      "metadata": {},
      "outputs": [],
      "source": [
        "# Importação dos dataset de validacao e teste\n",
        "file_path = r'Validacao.csv'\n",
        "df_validacao = pd.read_csv(file_path)\n",
        "df_validacao = df_validacao.astype(int)\n",
        "display(df_validacao.head())\n",
        "\n",
        "file_path = r'Teste.csv'\n",
        "df_teste = pd.read_csv(file_path)\n",
        "df_teste = df_teste.astype(int)\n",
        "display(df_teste.head())"
      ]
    },
    {
      "cell_type": "code",
      "execution_count": null,
      "metadata": {},
      "outputs": [],
      "source": [
        "df_treino.describe()"
      ]
    },
    {
      "cell_type": "code",
      "execution_count": null,
      "metadata": {},
      "outputs": [],
      "source": [
        "df_treino['Resultado'].value_counts()"
      ]
    },
    {
      "cell_type": "code",
      "execution_count": null,
      "metadata": {},
      "outputs": [],
      "source": [
        "df_validacao.describe()"
      ]
    },
    {
      "cell_type": "code",
      "execution_count": null,
      "metadata": {},
      "outputs": [],
      "source": [
        "df_validacao['Resultado'].value_counts()"
      ]
    },
    {
      "cell_type": "code",
      "execution_count": null,
      "metadata": {},
      "outputs": [],
      "source": [
        "df_teste.describe()"
      ]
    },
    {
      "cell_type": "code",
      "execution_count": null,
      "metadata": {},
      "outputs": [],
      "source": [
        "df_validacao['Resultado'].value_counts()"
      ]
    },
    {
      "cell_type": "markdown",
      "metadata": {},
      "source": [
        "#### **Treino**"
      ]
    },
    {
      "cell_type": "code",
      "execution_count": null,
      "metadata": {},
      "outputs": [],
      "source": [
        "# Filtrando as features que serão passadas para predição\n",
        "X = df_treino.drop(columns=['Resultado'])\n",
        "X"
      ]
    },
    {
      "cell_type": "code",
      "execution_count": null,
      "metadata": {},
      "outputs": [],
      "source": [
        "# Obtendo as labels do dataset de treino\n",
        "Y = df_treino.drop(columns=['J1', 'J2', 'J3', 'J4', 'J5', 'J6', 'J7', 'J8', 'J9'])['Resultado'].values\n",
        "Y"
      ]
    },
    {
      "cell_type": "markdown",
      "metadata": {},
      "source": [
        "##### **Uso de heurística para determinar o K**"
      ]
    },
    {
      "cell_type": "markdown",
      "metadata": {},
      "source": [
        "**Regra da Raiz Quadrada**"
      ]
    },
    {
      "cell_type": "code",
      "execution_count": null,
      "metadata": {},
      "outputs": [],
      "source": [
        "from math import sqrt,ceil\n",
        "\n",
        "# Arrendondando a raiz quadrada do total de entradas do dataset de treino\n",
        "\n",
        "k = ceil(sqrt(df_treino['J1'].count())) \n",
        "print(\"Quantidade vizinhos: {}\".format(k))\n",
        "\n",
        "# Criação do classificador\n",
        "clf = neighbors.KNeighborsClassifier(n_neighbors=k)\n",
        "\n",
        "# Treino do modelo\n",
        "clf.fit(X.values, Y)\n",
        "\n",
        "score = cross_val_score(clf, X.values, Y, cv=5, scoring=None)\n",
        "print(\"K={}, Acurácia média: {}\".format(k,score.mean()))"
      ]
    },
    {
      "cell_type": "markdown",
      "metadata": {},
      "source": [
        "**Definição a partir do tamanho do dataset**"
      ]
    },
    {
      "cell_type": "code",
      "execution_count": null,
      "metadata": {},
      "outputs": [],
      "source": [
        "qtd_amostras = df_treino['J1'].count()\n",
        "k = ceil(0.02 * qtd_amostras)  # 2% do número total de amostras\n",
        "print(\"Tamanho do dataset: {}\\nValor K: {}\".format(qtd_amostras,k))\n",
        "\n",
        "# Criação do classificador\n",
        "clf = neighbors.KNeighborsClassifier(n_neighbors=k)\n",
        "\n",
        "# Treino do modelo\n",
        "clf.fit(X.values, Y)\n",
        "\n",
        "score = cross_val_score(clf, X.values, Y, cv=5, scoring=None)\n",
        "print(\"K={}, Acurácia média: {}\".format(k,score.mean()))"
      ]
    },
    {
      "cell_type": "markdown",
      "metadata": {},
      "source": [
        "**Cross-Validation**"
      ]
    },
    {
      "cell_type": "code",
      "execution_count": 23,
      "metadata": {
        "colab": {
          "base_uri": "https://localhost:8080/",
          "height": 75
        },
        "id": "3i9l8Hwj6B_n",
        "outputId": "99524a8b-2702-4a45-c200-9c82734ecd18"
      },
      "outputs": [],
      "source": [
        "# Lista para guardar os resultados dos testes para k\n",
        "lista_k_accuracy = []\n",
        "\n",
        "# Criação do classificador\n",
        "for k in range(1,21):\n",
        "    clf = neighbors.KNeighborsClassifier(n_neighbors=k)\n",
        "\n",
        "    # Treino do modelo\n",
        "    clf.fit(X.values, Y)\n",
        "\n",
        "    score = cross_val_score(clf, X.values, Y, cv=5, scoring=None)\n",
        "    lista_k_accuracy.append([k,score.mean()])"
      ]
    },
    {
      "cell_type": "code",
      "execution_count": null,
      "metadata": {},
      "outputs": [],
      "source": [
        "# Tranformando a lista de acurácias em um array 20x2\n",
        "array_acuracia = np.array(lista_k_accuracy)\n",
        "\n",
        "# Obtendo o k a partir da maior acurácia continda na segunda coluna da matriz\n",
        "k = np.argmax(array_acuracia[:, 1])\n",
        "\n",
        "# Obtendo o valor da acurácia na posição do k\n",
        "accuracia = array_acuracia[k][1]\n",
        "\n",
        "print(\"K={}, Acurácia média: {}\".format(k,accuracia))"
      ]
    },
    {
      "cell_type": "code",
      "execution_count": null,
      "metadata": {},
      "outputs": [],
      "source": [
        "# Separando em listas separadas para o eixo x e y\n",
        "x = [par[0] for par in lista_k_accuracy]\n",
        "y = [par[1] for par in lista_k_accuracy]\n",
        "\n",
        "# Plotar o gráfico de linha\n",
        "plt.plot(x, y, marker='o',color='darkred') \n",
        "\n",
        "# Adicionar título e rótulos\n",
        "plt.title('K Vizinhos x Acurácia')\n",
        "plt.xlabel('K')\n",
        "plt.ylabel('Acurácia')\n",
        "\n",
        "# Mostrar o gráfico\n",
        "plt.grid(True)\n",
        "plt.show()\n"
      ]
    },
    {
      "cell_type": "code",
      "execution_count": null,
      "metadata": {},
      "outputs": [],
      "source": [
        "# Criação do classificador\n",
        "clf = neighbors.KNeighborsClassifier(n_neighbors=k)\n",
        "\n",
        "# Treino do modelo\n",
        "clf.fit(X.values, Y)"
      ]
    },
    {
      "cell_type": "markdown",
      "metadata": {},
      "source": [
        "#### **Validação**"
      ]
    },
    {
      "cell_type": "code",
      "execution_count": null,
      "metadata": {},
      "outputs": [],
      "source": [
        "# Filtrando as features que serão passadas para predição\n",
        "X_valid = df_validacao.drop(columns=['Resultado'])\n",
        "X_valid = X_valid.values\n",
        "X_valid"
      ]
    },
    {
      "cell_type": "code",
      "execution_count": null,
      "metadata": {},
      "outputs": [],
      "source": [
        "# Obtendo as labels do dataset de validação\n",
        "Y_valid = df_validacao.drop(columns=['J1', 'J2', 'J3', 'J4', 'J5', 'J6', 'J7', 'J8', 'J9'])['Resultado'].values\n",
        "Y_valid"
      ]
    },
    {
      "cell_type": "code",
      "execution_count": null,
      "metadata": {
        "colab": {
          "base_uri": "https://localhost:8080/"
        },
        "id": "CPAUOn2Pr7ft",
        "outputId": "c46e16ce-df4d-4466-8083-aafefaee1e49"
      },
      "outputs": [],
      "source": [
        "# Criação das predições a partir da base de validação\n",
        "predicao = clf.predict(X_valid)\n",
        "\n",
        "# Calculando a acurácia\n",
        "acuracia = accuracy_score(Y_valid, predicao)\n",
        "print(\"Acurácia: {:.2f}\".format(acuracia))\n"
      ]
    },
    {
      "cell_type": "markdown",
      "metadata": {},
      "source": [
        "#### **Teste**"
      ]
    },
    {
      "cell_type": "code",
      "execution_count": null,
      "metadata": {},
      "outputs": [],
      "source": [
        "# Filtrando as features que serão passadas para predição\n",
        "X_test = df_teste.drop(columns=['Resultado'])\n",
        "X_test = X_test.values\n",
        "X_test"
      ]
    },
    {
      "cell_type": "code",
      "execution_count": null,
      "metadata": {},
      "outputs": [],
      "source": [
        "# Obtendo as labels do dataset de teste\n",
        "Y_test = df_teste.drop(columns=['J1', 'J2', 'J3', 'J4', 'J5', 'J6', 'J7', 'J8', 'J9'])['Resultado'].values\n",
        "Y_test"
      ]
    },
    {
      "cell_type": "code",
      "execution_count": null,
      "metadata": {},
      "outputs": [],
      "source": [
        "# Criação das predições a partir da base de validação\n",
        "predicao = clf.predict(X_test)\n",
        "\n",
        "# Calculando a acurácia\n",
        "acuracia = accuracy_score(Y_test, predicao)\n",
        "print(\"Acurácia: {:.2f}\".format(acuracia))"
      ]
    },
    {
      "cell_type": "code",
      "execution_count": null,
      "metadata": {},
      "outputs": [],
      "source": [
        "# Nomes das classes\n",
        "nomes_classes = [\"O ganhou\",\"Empate\",\"X ganhou\",\"Ainda tem jogo\"]\n",
        "\n",
        "# Calcular e imprimir o relatório de classificação\n",
        "relatorio_classificacao = classification_report(Y_test, predicao, target_names=nomes_classes)\n",
        "print(\"Relatório de Classificação:\\n\", relatorio_classificacao)"
      ]
    },
    {
      "cell_type": "markdown",
      "metadata": {},
      "source": [
        "### **Partida**"
      ]
    },
    {
      "cell_type": "code",
      "execution_count": 54,
      "metadata": {},
      "outputs": [],
      "source": [
        "import numpy as np\n",
        "import random"
      ]
    },
    {
      "cell_type": "markdown",
      "metadata": {},
      "source": [
        "### **Função para plotagem do tabuleiro**"
      ]
    },
    {
      "cell_type": "code",
      "execution_count": 55,
      "metadata": {},
      "outputs": [],
      "source": [
        "import matplotlib.pyplot as plt\n",
        "\n",
        "def plot_board(board,predicao=None):\n",
        "    fig, ax = plt.subplots()\n",
        "    ax.set_xlim(0, 3)\n",
        "    ax.set_ylim(0, 3)\n",
        "    ax.text(-0.25, 2.5, '1', fontsize=42, ha='center', va='center', color='black')\n",
        "    ax.text(-0.25, 1.5, '2', fontsize=42, ha='center', va='center', color='black')\n",
        "    ax.text(-0.25, 0.5, '3', fontsize=42, ha='center', va='center', color='black')\n",
        "\n",
        "    ax.text(0.5, 3.25, '1', fontsize=42, ha='center', va='center', color='black')\n",
        "    ax.text(1.5, 3.25, '2', fontsize=42, ha='center', va='center', color='black')\n",
        "    ax.text(2.5, 3.25, '3', fontsize=42, ha='center', va='center', color='black')\n",
        "\n",
        "    plt.plot([1, 1], [0, 3], color='black', linewidth=2)\n",
        "    plt.plot([2, 2], [0, 3], color='black', linewidth=2)\n",
        "    plt.plot([0, 3], [1, 1], color='black', linewidth=2)\n",
        "    plt.plot([0, 3], [2, 2], color='black', linewidth=2)\n",
        "\n",
        "    for i in range(3):\n",
        "        for j in range(3):\n",
        "            mark = board[i][j]\n",
        "            if mark == 1:\n",
        "                plt.text(j + 0.5, 2.5 - i, 'X', fontsize=42, ha='center', va='center', color='black')\n",
        "            elif mark == -1:\n",
        "                plt.text(j + 0.5, 2.5 - i, 'O', fontsize=42, ha='center', va='center', color='black')\n",
        "\n",
        "    if predicao is not None:\n",
        "        plt.text(1.5, -0.5, 'Status: ' + predicao, fontsize=42, ha='center', va='center', color='black')\n",
        "\n",
        "    ax.set_xticks([])\n",
        "    ax.set_yticks([])\n",
        "    ax.set_aspect('equal')\n",
        "\n",
        "    plt.show()\n"
      ]
    },
    {
      "cell_type": "markdown",
      "metadata": {},
      "source": [
        "##### **Funções para realização de jogadas**"
      ]
    },
    {
      "cell_type": "code",
      "execution_count": 81,
      "metadata": {},
      "outputs": [],
      "source": [
        "# Função para coleta da jogada\n",
        "def coleta_jogada():\n",
        "    # Coletando os valores por meio de um input\n",
        "    linha, coluna = input(\"Informe a linha e a coluna onde deseja incluir o x. Ex: [1,2]\").split(\",\")\n",
        "    \n",
        "    # Convertendo os valores para inteiro\n",
        "    return int(linha), int(coluna)\n",
        "\n",
        "# Função para validação da posição informada para realização da jogada\n",
        "def valida_jogada(jogada,linha,coluna):\n",
        "    \n",
        "    # Conversão da jogada em um array 3x3\n",
        "    jogada = np.array(jogada).reshape(3,3)\n",
        "\n",
        "    print(\"Linha:\",linha)\n",
        "    print(\"Linha:\",coluna)\n",
        "        \n",
        "    # Verificar se o valor na posição especificada é igual a zero\n",
        "    if jogada[linha-1][coluna-1] == 0:\n",
        "        return True\n",
        "    \n",
        "    return False\n",
        "    \n",
        "\n",
        "# Função para realização da jogada do computador a partir de uma função aleatória\n",
        "def jogada_COM(jogada):\n",
        "    jogada_feita = False\n",
        "    \n",
        "    while not jogada_feita: \n",
        "        # Escolha de um índices de linha e coluna na lista\n",
        "        linha = random.randint(0,2)\n",
        "        coluna = random.randint(0,2)\n",
        "\n",
        "        # Caso a posição escolhida esteja livre realiza a modificação\n",
        "        if jogada[linha][coluna] not in [1,-1]:\n",
        "            # Atrubuição realizada na posição aleatória escolhida\n",
        "            jogada[linha,coluna] = -1\n",
        "            jogada_feita = True\n",
        "        \n",
        "    return jogada\n",
        "\n",
        "\n",
        "def ajuste_jogada(jogada,linha,coluna):\n",
        "    # Conversão da jogada em um array 3x3\n",
        "    jogada = np.array(jogada).reshape(3,3)\n",
        "\n",
        "    # Substituindo o valor da posição informada em 1\n",
        "    jogada[linha-1,coluna-1] = 1\n",
        "\n",
        "    return jogada"
      ]
    },
    {
      "cell_type": "markdown",
      "metadata": {},
      "source": [
        "#### **Realização da partida**"
      ]
    },
    {
      "cell_type": "code",
      "execution_count": null,
      "metadata": {},
      "outputs": [],
      "source": [
        "from IPython.display import clear_output\n",
        "\n",
        "# Convertendo a lista de jogadas em um array 3x3\n",
        "jogada = [0,0,0,0,0,0,0,0,0]\n",
        "jogada = np.array(jogada).reshape(3,3)\n",
        "# plot_board(jogada)\n",
        "\n",
        "finalizar_jogo = False\n",
        "\n",
        "print(\"=====================================\\n\")\n",
        "\n",
        "while not finalizar_jogo:\n",
        "    # Plotando o tabuleiro \n",
        "    # plot_board(jogada)\n",
        "    print(np.array(jogada).reshape(3,3))\n",
        "    \n",
        "    # Limpando o prompt\n",
        "    clear_output(wait=True)\n",
        "    \n",
        "    # Coletando a jogada\n",
        "    linha,coluna = coleta_jogada()\n",
        "    \n",
        "    # Chamando a função de validação de jogada\n",
        "    if valida_jogada(jogada,linha,coluna):\n",
        "        # Realizando o ajuste da jogada a partir das posições de inserção informadas\n",
        "        jogada = ajuste_jogada(jogada,linha,coluna)\n",
        "        print('Jogada realizada!')\n",
        "    else:\n",
        "        print(\"Jogada não realizada\")\n",
        "        continue # Recomeça solicitando a jogada para o usuário\n",
        "    \n",
        "    # Redefinindo o shape do array 2d para usar no classificador\n",
        "    jogada = jogada.reshape(9,).reshape(1,-1)\n",
        "\n",
        "    # Obtenção do status do jogo após jogada do usuário\n",
        "    predicao = clf.predict(jogada)\n",
        "    \n",
        "\n",
        "    \n",
        "    # Plotando o tabuleiro \n",
        "    # plot_board(jogada,predicao)\n",
        "\n",
        "    # PRINT PARA APAGAR DEPOIS\n",
        "    print(np.array(jogada).reshape(3,3))\n",
        "    print(\"Situação jogo: {}\".format(predicao))\n",
        "    print(\"=====================================\\n\")\n",
        "    \n",
        "    # Caso haja um vencedor o loop será encerrado\n",
        "    if str(predicao) != \"[0]\":\n",
        "        finalizar_jogo = True\n",
        "    \n",
        "    jogada = jogada.reshape(3,3)\n",
        "    # Realização de jogada da máquina\n",
        "    jogada = jogada_COM(jogada)\n",
        "\n",
        "    # Redefinindo o shape do array para usar no classificador\n",
        "    jogada = jogada.reshape(9,).reshape(1,-1)\n",
        "\n",
        "    # Obtenção do status do jogo após jogada da máquina\n",
        "    predicao = clf.predict(jogada)\n",
        "\n",
        "    # Plotando o tabuleiro \n",
        "    # plot_board(jogada,predicao)\n",
        "\n",
        "    # PRINT PARA APAGAR DEPOIS\n",
        "    print(np.array(jogada).reshape(3,3))\n",
        "    print(\"Situação jogo: {}\".format(predicao))\n",
        "    print(\"=====================================\\n\")\n",
        "    \n",
        "    # Caso haja um vencedor o loop será encerrado\n",
        "    if str(predicao) != \"[0]\":\n",
        "        finalizar_jogo = True\n",
        "\n",
        "    # Plotando o tabuleiro \n",
        "    # plot_board(jogada,predicao)"
      ]
    }
  ],
  "metadata": {
    "colab": {
      "provenance": []
    },
    "kernelspec": {
      "display_name": "Python 3",
      "name": "python3"
    },
    "language_info": {
      "codemirror_mode": {
        "name": "ipython",
        "version": 3
      },
      "file_extension": ".py",
      "mimetype": "text/x-python",
      "name": "python",
      "nbconvert_exporter": "python",
      "pygments_lexer": "ipython3",
      "version": "3.11.5"
    }
  },
  "nbformat": 4,
  "nbformat_minor": 0
}
