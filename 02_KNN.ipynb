{
  "cells": [
    {
      "cell_type": "markdown",
      "metadata": {},
      "source": [
        "### **Importações**"
      ]
    },
    {
      "cell_type": "code",
      "execution_count": 1,
      "metadata": {},
      "outputs": [],
      "source": [
        "import pandas as pd\n",
        "import numpy as np"
      ]
    },
    {
      "cell_type": "code",
      "execution_count": 2,
      "metadata": {
        "id": "Uod6QOWQp0SO"
      },
      "outputs": [],
      "source": [
        "from sklearn import neighbors\n",
        "from sklearn.model_selection import cross_val_score\n",
        "from sklearn.metrics import accuracy_score\n",
        "import matplotlib.pyplot as plt\n",
        "from sklearn.metrics import classification_report"
      ]
    },
    {
      "cell_type": "code",
      "execution_count": 3,
      "metadata": {
        "colab": {
          "base_uri": "https://localhost:8080/"
        },
        "id": "q1-H5YqwsuJs",
        "outputId": "07dbfb48-cd60-447f-bf67-06a92b670242"
      },
      "outputs": [
        {
          "data": {
            "text/html": [
              "<div>\n",
              "<style scoped>\n",
              "    .dataframe tbody tr th:only-of-type {\n",
              "        vertical-align: middle;\n",
              "    }\n",
              "\n",
              "    .dataframe tbody tr th {\n",
              "        vertical-align: top;\n",
              "    }\n",
              "\n",
              "    .dataframe thead th {\n",
              "        text-align: right;\n",
              "    }\n",
              "</style>\n",
              "<table border=\"1\" class=\"dataframe\">\n",
              "  <thead>\n",
              "    <tr style=\"text-align: right;\">\n",
              "      <th></th>\n",
              "      <th>J1</th>\n",
              "      <th>J2</th>\n",
              "      <th>J3</th>\n",
              "      <th>J4</th>\n",
              "      <th>J5</th>\n",
              "      <th>J6</th>\n",
              "      <th>J7</th>\n",
              "      <th>J8</th>\n",
              "      <th>J9</th>\n",
              "      <th>Resultado</th>\n",
              "    </tr>\n",
              "  </thead>\n",
              "  <tbody>\n",
              "    <tr>\n",
              "      <th>0</th>\n",
              "      <td>-1</td>\n",
              "      <td>0</td>\n",
              "      <td>1</td>\n",
              "      <td>1</td>\n",
              "      <td>1</td>\n",
              "      <td>-1</td>\n",
              "      <td>1</td>\n",
              "      <td>-1</td>\n",
              "      <td>0</td>\n",
              "      <td>1</td>\n",
              "    </tr>\n",
              "    <tr>\n",
              "      <th>1</th>\n",
              "      <td>-1</td>\n",
              "      <td>1</td>\n",
              "      <td>-1</td>\n",
              "      <td>0</td>\n",
              "      <td>0</td>\n",
              "      <td>-1</td>\n",
              "      <td>1</td>\n",
              "      <td>1</td>\n",
              "      <td>1</td>\n",
              "      <td>1</td>\n",
              "    </tr>\n",
              "    <tr>\n",
              "      <th>2</th>\n",
              "      <td>-1</td>\n",
              "      <td>0</td>\n",
              "      <td>1</td>\n",
              "      <td>1</td>\n",
              "      <td>1</td>\n",
              "      <td>1</td>\n",
              "      <td>-1</td>\n",
              "      <td>0</td>\n",
              "      <td>-1</td>\n",
              "      <td>1</td>\n",
              "    </tr>\n",
              "    <tr>\n",
              "      <th>3</th>\n",
              "      <td>1</td>\n",
              "      <td>-1</td>\n",
              "      <td>1</td>\n",
              "      <td>1</td>\n",
              "      <td>0</td>\n",
              "      <td>-1</td>\n",
              "      <td>1</td>\n",
              "      <td>-1</td>\n",
              "      <td>0</td>\n",
              "      <td>1</td>\n",
              "    </tr>\n",
              "    <tr>\n",
              "      <th>4</th>\n",
              "      <td>-1</td>\n",
              "      <td>0</td>\n",
              "      <td>-1</td>\n",
              "      <td>1</td>\n",
              "      <td>1</td>\n",
              "      <td>1</td>\n",
              "      <td>0</td>\n",
              "      <td>-1</td>\n",
              "      <td>1</td>\n",
              "      <td>1</td>\n",
              "    </tr>\n",
              "  </tbody>\n",
              "</table>\n",
              "</div>"
            ],
            "text/plain": [
              "   J1  J2  J3  J4  J5  J6  J7  J8  J9  Resultado\n",
              "0  -1   0   1   1   1  -1   1  -1   0          1\n",
              "1  -1   1  -1   0   0  -1   1   1   1          1\n",
              "2  -1   0   1   1   1   1  -1   0  -1          1\n",
              "3   1  -1   1   1   0  -1   1  -1   0          1\n",
              "4  -1   0  -1   1   1   1   0  -1   1          1"
            ]
          },
          "metadata": {},
          "output_type": "display_data"
        }
      ],
      "source": [
        "#Importação do dataset de treino\n",
        "file_path = r'Treino.csv'\n",
        "df_treino = pd.read_csv(file_path)\n",
        "df_treino = df_treino.astype(int)\n",
        "display(df_treino.head())"
      ]
    },
    {
      "cell_type": "code",
      "execution_count": 4,
      "metadata": {},
      "outputs": [
        {
          "data": {
            "text/html": [
              "<div>\n",
              "<style scoped>\n",
              "    .dataframe tbody tr th:only-of-type {\n",
              "        vertical-align: middle;\n",
              "    }\n",
              "\n",
              "    .dataframe tbody tr th {\n",
              "        vertical-align: top;\n",
              "    }\n",
              "\n",
              "    .dataframe thead th {\n",
              "        text-align: right;\n",
              "    }\n",
              "</style>\n",
              "<table border=\"1\" class=\"dataframe\">\n",
              "  <thead>\n",
              "    <tr style=\"text-align: right;\">\n",
              "      <th></th>\n",
              "      <th>J1</th>\n",
              "      <th>J2</th>\n",
              "      <th>J3</th>\n",
              "      <th>J4</th>\n",
              "      <th>J5</th>\n",
              "      <th>J6</th>\n",
              "      <th>J7</th>\n",
              "      <th>J8</th>\n",
              "      <th>J9</th>\n",
              "      <th>Resultado</th>\n",
              "    </tr>\n",
              "  </thead>\n",
              "  <tbody>\n",
              "    <tr>\n",
              "      <th>0</th>\n",
              "      <td>1</td>\n",
              "      <td>1</td>\n",
              "      <td>1</td>\n",
              "      <td>0</td>\n",
              "      <td>-1</td>\n",
              "      <td>1</td>\n",
              "      <td>-1</td>\n",
              "      <td>0</td>\n",
              "      <td>-1</td>\n",
              "      <td>1</td>\n",
              "    </tr>\n",
              "    <tr>\n",
              "      <th>1</th>\n",
              "      <td>1</td>\n",
              "      <td>0</td>\n",
              "      <td>1</td>\n",
              "      <td>-1</td>\n",
              "      <td>1</td>\n",
              "      <td>0</td>\n",
              "      <td>1</td>\n",
              "      <td>-1</td>\n",
              "      <td>-1</td>\n",
              "      <td>1</td>\n",
              "    </tr>\n",
              "    <tr>\n",
              "      <th>2</th>\n",
              "      <td>1</td>\n",
              "      <td>-1</td>\n",
              "      <td>1</td>\n",
              "      <td>-1</td>\n",
              "      <td>0</td>\n",
              "      <td>1</td>\n",
              "      <td>0</td>\n",
              "      <td>-1</td>\n",
              "      <td>1</td>\n",
              "      <td>1</td>\n",
              "    </tr>\n",
              "    <tr>\n",
              "      <th>3</th>\n",
              "      <td>-1</td>\n",
              "      <td>-1</td>\n",
              "      <td>0</td>\n",
              "      <td>0</td>\n",
              "      <td>1</td>\n",
              "      <td>-1</td>\n",
              "      <td>1</td>\n",
              "      <td>1</td>\n",
              "      <td>1</td>\n",
              "      <td>1</td>\n",
              "    </tr>\n",
              "    <tr>\n",
              "      <th>4</th>\n",
              "      <td>-1</td>\n",
              "      <td>0</td>\n",
              "      <td>1</td>\n",
              "      <td>1</td>\n",
              "      <td>1</td>\n",
              "      <td>0</td>\n",
              "      <td>1</td>\n",
              "      <td>-1</td>\n",
              "      <td>-1</td>\n",
              "      <td>1</td>\n",
              "    </tr>\n",
              "  </tbody>\n",
              "</table>\n",
              "</div>"
            ],
            "text/plain": [
              "   J1  J2  J3  J4  J5  J6  J7  J8  J9  Resultado\n",
              "0   1   1   1   0  -1   1  -1   0  -1          1\n",
              "1   1   0   1  -1   1   0   1  -1  -1          1\n",
              "2   1  -1   1  -1   0   1   0  -1   1          1\n",
              "3  -1  -1   0   0   1  -1   1   1   1          1\n",
              "4  -1   0   1   1   1   0   1  -1  -1          1"
            ]
          },
          "metadata": {},
          "output_type": "display_data"
        },
        {
          "data": {
            "text/html": [
              "<div>\n",
              "<style scoped>\n",
              "    .dataframe tbody tr th:only-of-type {\n",
              "        vertical-align: middle;\n",
              "    }\n",
              "\n",
              "    .dataframe tbody tr th {\n",
              "        vertical-align: top;\n",
              "    }\n",
              "\n",
              "    .dataframe thead th {\n",
              "        text-align: right;\n",
              "    }\n",
              "</style>\n",
              "<table border=\"1\" class=\"dataframe\">\n",
              "  <thead>\n",
              "    <tr style=\"text-align: right;\">\n",
              "      <th></th>\n",
              "      <th>J1</th>\n",
              "      <th>J2</th>\n",
              "      <th>J3</th>\n",
              "      <th>J4</th>\n",
              "      <th>J5</th>\n",
              "      <th>J6</th>\n",
              "      <th>J7</th>\n",
              "      <th>J8</th>\n",
              "      <th>J9</th>\n",
              "      <th>Resultado</th>\n",
              "    </tr>\n",
              "  </thead>\n",
              "  <tbody>\n",
              "    <tr>\n",
              "      <th>0</th>\n",
              "      <td>1</td>\n",
              "      <td>0</td>\n",
              "      <td>0</td>\n",
              "      <td>1</td>\n",
              "      <td>-1</td>\n",
              "      <td>1</td>\n",
              "      <td>1</td>\n",
              "      <td>-1</td>\n",
              "      <td>-1</td>\n",
              "      <td>1</td>\n",
              "    </tr>\n",
              "    <tr>\n",
              "      <th>1</th>\n",
              "      <td>-1</td>\n",
              "      <td>-1</td>\n",
              "      <td>1</td>\n",
              "      <td>1</td>\n",
              "      <td>1</td>\n",
              "      <td>1</td>\n",
              "      <td>-1</td>\n",
              "      <td>1</td>\n",
              "      <td>-1</td>\n",
              "      <td>1</td>\n",
              "    </tr>\n",
              "    <tr>\n",
              "      <th>2</th>\n",
              "      <td>1</td>\n",
              "      <td>1</td>\n",
              "      <td>-1</td>\n",
              "      <td>-1</td>\n",
              "      <td>1</td>\n",
              "      <td>1</td>\n",
              "      <td>-1</td>\n",
              "      <td>1</td>\n",
              "      <td>-1</td>\n",
              "      <td>1</td>\n",
              "    </tr>\n",
              "    <tr>\n",
              "      <th>3</th>\n",
              "      <td>0</td>\n",
              "      <td>0</td>\n",
              "      <td>0</td>\n",
              "      <td>1</td>\n",
              "      <td>1</td>\n",
              "      <td>1</td>\n",
              "      <td>-1</td>\n",
              "      <td>-1</td>\n",
              "      <td>0</td>\n",
              "      <td>1</td>\n",
              "    </tr>\n",
              "    <tr>\n",
              "      <th>4</th>\n",
              "      <td>1</td>\n",
              "      <td>-1</td>\n",
              "      <td>0</td>\n",
              "      <td>1</td>\n",
              "      <td>-1</td>\n",
              "      <td>1</td>\n",
              "      <td>1</td>\n",
              "      <td>0</td>\n",
              "      <td>-1</td>\n",
              "      <td>1</td>\n",
              "    </tr>\n",
              "  </tbody>\n",
              "</table>\n",
              "</div>"
            ],
            "text/plain": [
              "   J1  J2  J3  J4  J5  J6  J7  J8  J9  Resultado\n",
              "0   1   0   0   1  -1   1   1  -1  -1          1\n",
              "1  -1  -1   1   1   1   1  -1   1  -1          1\n",
              "2   1   1  -1  -1   1   1  -1   1  -1          1\n",
              "3   0   0   0   1   1   1  -1  -1   0          1\n",
              "4   1  -1   0   1  -1   1   1   0  -1          1"
            ]
          },
          "metadata": {},
          "output_type": "display_data"
        }
      ],
      "source": [
        "# Importação dos dataset de validacao e teste\n",
        "file_path = r'Validacao.csv'\n",
        "df_validacao = pd.read_csv(file_path)\n",
        "df_validacao = df_validacao.astype(int)\n",
        "display(df_validacao.head())\n",
        "\n",
        "file_path = r'Teste.csv'\n",
        "df_teste = pd.read_csv(file_path)\n",
        "df_teste = df_teste.astype(int)\n",
        "display(df_teste.head())"
      ]
    },
    {
      "cell_type": "code",
      "execution_count": 5,
      "metadata": {},
      "outputs": [
        {
          "data": {
            "text/html": [
              "<div>\n",
              "<style scoped>\n",
              "    .dataframe tbody tr th:only-of-type {\n",
              "        vertical-align: middle;\n",
              "    }\n",
              "\n",
              "    .dataframe tbody tr th {\n",
              "        vertical-align: top;\n",
              "    }\n",
              "\n",
              "    .dataframe thead th {\n",
              "        text-align: right;\n",
              "    }\n",
              "</style>\n",
              "<table border=\"1\" class=\"dataframe\">\n",
              "  <thead>\n",
              "    <tr style=\"text-align: right;\">\n",
              "      <th></th>\n",
              "      <th>J1</th>\n",
              "      <th>J2</th>\n",
              "      <th>J3</th>\n",
              "      <th>J4</th>\n",
              "      <th>J5</th>\n",
              "      <th>J6</th>\n",
              "      <th>J7</th>\n",
              "      <th>J8</th>\n",
              "      <th>J9</th>\n",
              "      <th>Resultado</th>\n",
              "    </tr>\n",
              "  </thead>\n",
              "  <tbody>\n",
              "    <tr>\n",
              "      <th>count</th>\n",
              "      <td>1190.000000</td>\n",
              "      <td>1190.000000</td>\n",
              "      <td>1190.000000</td>\n",
              "      <td>1190.000000</td>\n",
              "      <td>1190.000000</td>\n",
              "      <td>1190.000000</td>\n",
              "      <td>1190.000000</td>\n",
              "      <td>1190.000000</td>\n",
              "      <td>1190.000000</td>\n",
              "      <td>1190.000000</td>\n",
              "    </tr>\n",
              "    <tr>\n",
              "      <th>mean</th>\n",
              "      <td>0.013445</td>\n",
              "      <td>0.024370</td>\n",
              "      <td>0.031092</td>\n",
              "      <td>0.007563</td>\n",
              "      <td>0.006723</td>\n",
              "      <td>0.035294</td>\n",
              "      <td>0.028571</td>\n",
              "      <td>0.031933</td>\n",
              "      <td>0.062185</td>\n",
              "      <td>0.537815</td>\n",
              "    </tr>\n",
              "    <tr>\n",
              "      <th>std</th>\n",
              "      <td>0.818101</td>\n",
              "      <td>0.813207</td>\n",
              "      <td>0.831391</td>\n",
              "      <td>0.809392</td>\n",
              "      <td>0.848462</td>\n",
              "      <td>0.814357</td>\n",
              "      <td>0.829963</td>\n",
              "      <td>0.819642</td>\n",
              "      <td>0.820981</td>\n",
              "      <td>1.151223</td>\n",
              "    </tr>\n",
              "    <tr>\n",
              "      <th>min</th>\n",
              "      <td>-1.000000</td>\n",
              "      <td>-1.000000</td>\n",
              "      <td>-1.000000</td>\n",
              "      <td>-1.000000</td>\n",
              "      <td>-1.000000</td>\n",
              "      <td>-1.000000</td>\n",
              "      <td>-1.000000</td>\n",
              "      <td>-1.000000</td>\n",
              "      <td>-1.000000</td>\n",
              "      <td>-1.000000</td>\n",
              "    </tr>\n",
              "    <tr>\n",
              "      <th>25%</th>\n",
              "      <td>-1.000000</td>\n",
              "      <td>-1.000000</td>\n",
              "      <td>-1.000000</td>\n",
              "      <td>-1.000000</td>\n",
              "      <td>-1.000000</td>\n",
              "      <td>-1.000000</td>\n",
              "      <td>-1.000000</td>\n",
              "      <td>-1.000000</td>\n",
              "      <td>-1.000000</td>\n",
              "      <td>-1.000000</td>\n",
              "    </tr>\n",
              "    <tr>\n",
              "      <th>50%</th>\n",
              "      <td>0.000000</td>\n",
              "      <td>0.000000</td>\n",
              "      <td>0.000000</td>\n",
              "      <td>0.000000</td>\n",
              "      <td>0.000000</td>\n",
              "      <td>0.000000</td>\n",
              "      <td>0.000000</td>\n",
              "      <td>0.000000</td>\n",
              "      <td>0.000000</td>\n",
              "      <td>1.000000</td>\n",
              "    </tr>\n",
              "    <tr>\n",
              "      <th>75%</th>\n",
              "      <td>1.000000</td>\n",
              "      <td>1.000000</td>\n",
              "      <td>1.000000</td>\n",
              "      <td>1.000000</td>\n",
              "      <td>1.000000</td>\n",
              "      <td>1.000000</td>\n",
              "      <td>1.000000</td>\n",
              "      <td>1.000000</td>\n",
              "      <td>1.000000</td>\n",
              "      <td>2.000000</td>\n",
              "    </tr>\n",
              "    <tr>\n",
              "      <th>max</th>\n",
              "      <td>1.000000</td>\n",
              "      <td>1.000000</td>\n",
              "      <td>1.000000</td>\n",
              "      <td>1.000000</td>\n",
              "      <td>1.000000</td>\n",
              "      <td>1.000000</td>\n",
              "      <td>1.000000</td>\n",
              "      <td>1.000000</td>\n",
              "      <td>1.000000</td>\n",
              "      <td>2.000000</td>\n",
              "    </tr>\n",
              "  </tbody>\n",
              "</table>\n",
              "</div>"
            ],
            "text/plain": [
              "                J1           J2           J3           J4           J5  \\\n",
              "count  1190.000000  1190.000000  1190.000000  1190.000000  1190.000000   \n",
              "mean      0.013445     0.024370     0.031092     0.007563     0.006723   \n",
              "std       0.818101     0.813207     0.831391     0.809392     0.848462   \n",
              "min      -1.000000    -1.000000    -1.000000    -1.000000    -1.000000   \n",
              "25%      -1.000000    -1.000000    -1.000000    -1.000000    -1.000000   \n",
              "50%       0.000000     0.000000     0.000000     0.000000     0.000000   \n",
              "75%       1.000000     1.000000     1.000000     1.000000     1.000000   \n",
              "max       1.000000     1.000000     1.000000     1.000000     1.000000   \n",
              "\n",
              "                J6           J7           J8           J9    Resultado  \n",
              "count  1190.000000  1190.000000  1190.000000  1190.000000  1190.000000  \n",
              "mean      0.035294     0.028571     0.031933     0.062185     0.537815  \n",
              "std       0.814357     0.829963     0.819642     0.820981     1.151223  \n",
              "min      -1.000000    -1.000000    -1.000000    -1.000000    -1.000000  \n",
              "25%      -1.000000    -1.000000    -1.000000    -1.000000    -1.000000  \n",
              "50%       0.000000     0.000000     0.000000     0.000000     1.000000  \n",
              "75%       1.000000     1.000000     1.000000     1.000000     2.000000  \n",
              "max       1.000000     1.000000     1.000000     1.000000     2.000000  "
            ]
          },
          "execution_count": 5,
          "metadata": {},
          "output_type": "execute_result"
        }
      ],
      "source": [
        "df_treino.describe()"
      ]
    },
    {
      "cell_type": "code",
      "execution_count": 6,
      "metadata": {},
      "outputs": [
        {
          "data": {
            "text/plain": [
              "Resultado\n",
              " 1    320\n",
              "-1    320\n",
              " 2    320\n",
              " 0    230\n",
              "Name: count, dtype: int64"
            ]
          },
          "execution_count": 6,
          "metadata": {},
          "output_type": "execute_result"
        }
      ],
      "source": [
        "df_treino['Resultado'].value_counts()"
      ]
    },
    {
      "cell_type": "code",
      "execution_count": 7,
      "metadata": {},
      "outputs": [
        {
          "data": {
            "text/html": [
              "<div>\n",
              "<style scoped>\n",
              "    .dataframe tbody tr th:only-of-type {\n",
              "        vertical-align: middle;\n",
              "    }\n",
              "\n",
              "    .dataframe tbody tr th {\n",
              "        vertical-align: top;\n",
              "    }\n",
              "\n",
              "    .dataframe thead th {\n",
              "        text-align: right;\n",
              "    }\n",
              "</style>\n",
              "<table border=\"1\" class=\"dataframe\">\n",
              "  <thead>\n",
              "    <tr style=\"text-align: right;\">\n",
              "      <th></th>\n",
              "      <th>J1</th>\n",
              "      <th>J2</th>\n",
              "      <th>J3</th>\n",
              "      <th>J4</th>\n",
              "      <th>J5</th>\n",
              "      <th>J6</th>\n",
              "      <th>J7</th>\n",
              "      <th>J8</th>\n",
              "      <th>J9</th>\n",
              "      <th>Resultado</th>\n",
              "    </tr>\n",
              "  </thead>\n",
              "  <tbody>\n",
              "    <tr>\n",
              "      <th>count</th>\n",
              "      <td>149.000000</td>\n",
              "      <td>149.000000</td>\n",
              "      <td>149.000000</td>\n",
              "      <td>149.000000</td>\n",
              "      <td>149.000000</td>\n",
              "      <td>149.000000</td>\n",
              "      <td>149.000000</td>\n",
              "      <td>149.000000</td>\n",
              "      <td>149.000000</td>\n",
              "      <td>149.000000</td>\n",
              "    </tr>\n",
              "    <tr>\n",
              "      <th>mean</th>\n",
              "      <td>-0.026846</td>\n",
              "      <td>-0.060403</td>\n",
              "      <td>0.167785</td>\n",
              "      <td>0.040268</td>\n",
              "      <td>0.134228</td>\n",
              "      <td>0.067114</td>\n",
              "      <td>-0.046980</td>\n",
              "      <td>-0.060403</td>\n",
              "      <td>-0.020134</td>\n",
              "      <td>0.536913</td>\n",
              "    </tr>\n",
              "    <tr>\n",
              "      <th>std</th>\n",
              "      <td>0.829737</td>\n",
              "      <td>0.807299</td>\n",
              "      <td>0.808759</td>\n",
              "      <td>0.829190</td>\n",
              "      <td>0.810886</td>\n",
              "      <td>0.794104</td>\n",
              "      <td>0.824749</td>\n",
              "      <td>0.815626</td>\n",
              "      <td>0.842052</td>\n",
              "      <td>1.153862</td>\n",
              "    </tr>\n",
              "    <tr>\n",
              "      <th>min</th>\n",
              "      <td>-1.000000</td>\n",
              "      <td>-1.000000</td>\n",
              "      <td>-1.000000</td>\n",
              "      <td>-1.000000</td>\n",
              "      <td>-1.000000</td>\n",
              "      <td>-1.000000</td>\n",
              "      <td>-1.000000</td>\n",
              "      <td>-1.000000</td>\n",
              "      <td>-1.000000</td>\n",
              "      <td>-1.000000</td>\n",
              "    </tr>\n",
              "    <tr>\n",
              "      <th>25%</th>\n",
              "      <td>-1.000000</td>\n",
              "      <td>-1.000000</td>\n",
              "      <td>-1.000000</td>\n",
              "      <td>-1.000000</td>\n",
              "      <td>-1.000000</td>\n",
              "      <td>-1.000000</td>\n",
              "      <td>-1.000000</td>\n",
              "      <td>-1.000000</td>\n",
              "      <td>-1.000000</td>\n",
              "      <td>-1.000000</td>\n",
              "    </tr>\n",
              "    <tr>\n",
              "      <th>50%</th>\n",
              "      <td>0.000000</td>\n",
              "      <td>0.000000</td>\n",
              "      <td>0.000000</td>\n",
              "      <td>0.000000</td>\n",
              "      <td>0.000000</td>\n",
              "      <td>0.000000</td>\n",
              "      <td>0.000000</td>\n",
              "      <td>0.000000</td>\n",
              "      <td>0.000000</td>\n",
              "      <td>1.000000</td>\n",
              "    </tr>\n",
              "    <tr>\n",
              "      <th>75%</th>\n",
              "      <td>1.000000</td>\n",
              "      <td>1.000000</td>\n",
              "      <td>1.000000</td>\n",
              "      <td>1.000000</td>\n",
              "      <td>1.000000</td>\n",
              "      <td>1.000000</td>\n",
              "      <td>1.000000</td>\n",
              "      <td>1.000000</td>\n",
              "      <td>1.000000</td>\n",
              "      <td>2.000000</td>\n",
              "    </tr>\n",
              "    <tr>\n",
              "      <th>max</th>\n",
              "      <td>1.000000</td>\n",
              "      <td>1.000000</td>\n",
              "      <td>1.000000</td>\n",
              "      <td>1.000000</td>\n",
              "      <td>1.000000</td>\n",
              "      <td>1.000000</td>\n",
              "      <td>1.000000</td>\n",
              "      <td>1.000000</td>\n",
              "      <td>1.000000</td>\n",
              "      <td>2.000000</td>\n",
              "    </tr>\n",
              "  </tbody>\n",
              "</table>\n",
              "</div>"
            ],
            "text/plain": [
              "               J1          J2          J3          J4          J5          J6  \\\n",
              "count  149.000000  149.000000  149.000000  149.000000  149.000000  149.000000   \n",
              "mean    -0.026846   -0.060403    0.167785    0.040268    0.134228    0.067114   \n",
              "std      0.829737    0.807299    0.808759    0.829190    0.810886    0.794104   \n",
              "min     -1.000000   -1.000000   -1.000000   -1.000000   -1.000000   -1.000000   \n",
              "25%     -1.000000   -1.000000   -1.000000   -1.000000   -1.000000   -1.000000   \n",
              "50%      0.000000    0.000000    0.000000    0.000000    0.000000    0.000000   \n",
              "75%      1.000000    1.000000    1.000000    1.000000    1.000000    1.000000   \n",
              "max      1.000000    1.000000    1.000000    1.000000    1.000000    1.000000   \n",
              "\n",
              "               J7          J8          J9   Resultado  \n",
              "count  149.000000  149.000000  149.000000  149.000000  \n",
              "mean    -0.046980   -0.060403   -0.020134    0.536913  \n",
              "std      0.824749    0.815626    0.842052    1.153862  \n",
              "min     -1.000000   -1.000000   -1.000000   -1.000000  \n",
              "25%     -1.000000   -1.000000   -1.000000   -1.000000  \n",
              "50%      0.000000    0.000000    0.000000    1.000000  \n",
              "75%      1.000000    1.000000    1.000000    2.000000  \n",
              "max      1.000000    1.000000    1.000000    2.000000  "
            ]
          },
          "execution_count": 7,
          "metadata": {},
          "output_type": "execute_result"
        }
      ],
      "source": [
        "df_validacao.describe()"
      ]
    },
    {
      "cell_type": "code",
      "execution_count": 8,
      "metadata": {},
      "outputs": [
        {
          "data": {
            "text/plain": [
              "Resultado\n",
              " 1    40\n",
              "-1    40\n",
              " 2    40\n",
              " 0    29\n",
              "Name: count, dtype: int64"
            ]
          },
          "execution_count": 8,
          "metadata": {},
          "output_type": "execute_result"
        }
      ],
      "source": [
        "df_validacao['Resultado'].value_counts()"
      ]
    },
    {
      "cell_type": "code",
      "execution_count": 9,
      "metadata": {},
      "outputs": [
        {
          "data": {
            "text/html": [
              "<div>\n",
              "<style scoped>\n",
              "    .dataframe tbody tr th:only-of-type {\n",
              "        vertical-align: middle;\n",
              "    }\n",
              "\n",
              "    .dataframe tbody tr th {\n",
              "        vertical-align: top;\n",
              "    }\n",
              "\n",
              "    .dataframe thead th {\n",
              "        text-align: right;\n",
              "    }\n",
              "</style>\n",
              "<table border=\"1\" class=\"dataframe\">\n",
              "  <thead>\n",
              "    <tr style=\"text-align: right;\">\n",
              "      <th></th>\n",
              "      <th>J1</th>\n",
              "      <th>J2</th>\n",
              "      <th>J3</th>\n",
              "      <th>J4</th>\n",
              "      <th>J5</th>\n",
              "      <th>J6</th>\n",
              "      <th>J7</th>\n",
              "      <th>J8</th>\n",
              "      <th>J9</th>\n",
              "      <th>Resultado</th>\n",
              "    </tr>\n",
              "  </thead>\n",
              "  <tbody>\n",
              "    <tr>\n",
              "      <th>count</th>\n",
              "      <td>149.000000</td>\n",
              "      <td>149.000000</td>\n",
              "      <td>149.000000</td>\n",
              "      <td>149.000000</td>\n",
              "      <td>149.000000</td>\n",
              "      <td>149.000000</td>\n",
              "      <td>149.000000</td>\n",
              "      <td>149.000000</td>\n",
              "      <td>149.000000</td>\n",
              "      <td>149.000000</td>\n",
              "    </tr>\n",
              "    <tr>\n",
              "      <th>mean</th>\n",
              "      <td>0.046980</td>\n",
              "      <td>0.087248</td>\n",
              "      <td>-0.093960</td>\n",
              "      <td>0.067114</td>\n",
              "      <td>0.107383</td>\n",
              "      <td>0.154362</td>\n",
              "      <td>0.046980</td>\n",
              "      <td>-0.080537</td>\n",
              "      <td>-0.053691</td>\n",
              "      <td>0.536913</td>\n",
              "    </tr>\n",
              "    <tr>\n",
              "      <th>std</th>\n",
              "      <td>0.856892</td>\n",
              "      <td>0.779231</td>\n",
              "      <td>0.791358</td>\n",
              "      <td>0.843612</td>\n",
              "      <td>0.863219</td>\n",
              "      <td>0.811445</td>\n",
              "      <td>0.856892</td>\n",
              "      <td>0.818013</td>\n",
              "      <td>0.875995</td>\n",
              "      <td>1.153862</td>\n",
              "    </tr>\n",
              "    <tr>\n",
              "      <th>min</th>\n",
              "      <td>-1.000000</td>\n",
              "      <td>-1.000000</td>\n",
              "      <td>-1.000000</td>\n",
              "      <td>-1.000000</td>\n",
              "      <td>-1.000000</td>\n",
              "      <td>-1.000000</td>\n",
              "      <td>-1.000000</td>\n",
              "      <td>-1.000000</td>\n",
              "      <td>-1.000000</td>\n",
              "      <td>-1.000000</td>\n",
              "    </tr>\n",
              "    <tr>\n",
              "      <th>25%</th>\n",
              "      <td>-1.000000</td>\n",
              "      <td>-1.000000</td>\n",
              "      <td>-1.000000</td>\n",
              "      <td>-1.000000</td>\n",
              "      <td>-1.000000</td>\n",
              "      <td>-1.000000</td>\n",
              "      <td>-1.000000</td>\n",
              "      <td>-1.000000</td>\n",
              "      <td>-1.000000</td>\n",
              "      <td>-1.000000</td>\n",
              "    </tr>\n",
              "    <tr>\n",
              "      <th>50%</th>\n",
              "      <td>0.000000</td>\n",
              "      <td>0.000000</td>\n",
              "      <td>0.000000</td>\n",
              "      <td>0.000000</td>\n",
              "      <td>0.000000</td>\n",
              "      <td>0.000000</td>\n",
              "      <td>0.000000</td>\n",
              "      <td>0.000000</td>\n",
              "      <td>0.000000</td>\n",
              "      <td>1.000000</td>\n",
              "    </tr>\n",
              "    <tr>\n",
              "      <th>75%</th>\n",
              "      <td>1.000000</td>\n",
              "      <td>1.000000</td>\n",
              "      <td>1.000000</td>\n",
              "      <td>1.000000</td>\n",
              "      <td>1.000000</td>\n",
              "      <td>1.000000</td>\n",
              "      <td>1.000000</td>\n",
              "      <td>1.000000</td>\n",
              "      <td>1.000000</td>\n",
              "      <td>2.000000</td>\n",
              "    </tr>\n",
              "    <tr>\n",
              "      <th>max</th>\n",
              "      <td>1.000000</td>\n",
              "      <td>1.000000</td>\n",
              "      <td>1.000000</td>\n",
              "      <td>1.000000</td>\n",
              "      <td>1.000000</td>\n",
              "      <td>1.000000</td>\n",
              "      <td>1.000000</td>\n",
              "      <td>1.000000</td>\n",
              "      <td>1.000000</td>\n",
              "      <td>2.000000</td>\n",
              "    </tr>\n",
              "  </tbody>\n",
              "</table>\n",
              "</div>"
            ],
            "text/plain": [
              "               J1          J2          J3          J4          J5          J6  \\\n",
              "count  149.000000  149.000000  149.000000  149.000000  149.000000  149.000000   \n",
              "mean     0.046980    0.087248   -0.093960    0.067114    0.107383    0.154362   \n",
              "std      0.856892    0.779231    0.791358    0.843612    0.863219    0.811445   \n",
              "min     -1.000000   -1.000000   -1.000000   -1.000000   -1.000000   -1.000000   \n",
              "25%     -1.000000   -1.000000   -1.000000   -1.000000   -1.000000   -1.000000   \n",
              "50%      0.000000    0.000000    0.000000    0.000000    0.000000    0.000000   \n",
              "75%      1.000000    1.000000    1.000000    1.000000    1.000000    1.000000   \n",
              "max      1.000000    1.000000    1.000000    1.000000    1.000000    1.000000   \n",
              "\n",
              "               J7          J8          J9   Resultado  \n",
              "count  149.000000  149.000000  149.000000  149.000000  \n",
              "mean     0.046980   -0.080537   -0.053691    0.536913  \n",
              "std      0.856892    0.818013    0.875995    1.153862  \n",
              "min     -1.000000   -1.000000   -1.000000   -1.000000  \n",
              "25%     -1.000000   -1.000000   -1.000000   -1.000000  \n",
              "50%      0.000000    0.000000    0.000000    1.000000  \n",
              "75%      1.000000    1.000000    1.000000    2.000000  \n",
              "max      1.000000    1.000000    1.000000    2.000000  "
            ]
          },
          "execution_count": 9,
          "metadata": {},
          "output_type": "execute_result"
        }
      ],
      "source": [
        "df_teste.describe()"
      ]
    },
    {
      "cell_type": "code",
      "execution_count": 10,
      "metadata": {},
      "outputs": [
        {
          "data": {
            "text/plain": [
              "Resultado\n",
              " 1    40\n",
              "-1    40\n",
              " 2    40\n",
              " 0    29\n",
              "Name: count, dtype: int64"
            ]
          },
          "execution_count": 10,
          "metadata": {},
          "output_type": "execute_result"
        }
      ],
      "source": [
        "df_teste['Resultado'].value_counts()"
      ]
    },
    {
      "cell_type": "markdown",
      "metadata": {},
      "source": [
        "#### **Treino**"
      ]
    },
    {
      "cell_type": "code",
      "execution_count": 11,
      "metadata": {},
      "outputs": [
        {
          "data": {
            "text/html": [
              "<div>\n",
              "<style scoped>\n",
              "    .dataframe tbody tr th:only-of-type {\n",
              "        vertical-align: middle;\n",
              "    }\n",
              "\n",
              "    .dataframe tbody tr th {\n",
              "        vertical-align: top;\n",
              "    }\n",
              "\n",
              "    .dataframe thead th {\n",
              "        text-align: right;\n",
              "    }\n",
              "</style>\n",
              "<table border=\"1\" class=\"dataframe\">\n",
              "  <thead>\n",
              "    <tr style=\"text-align: right;\">\n",
              "      <th></th>\n",
              "      <th>J1</th>\n",
              "      <th>J2</th>\n",
              "      <th>J3</th>\n",
              "      <th>J4</th>\n",
              "      <th>J5</th>\n",
              "      <th>J6</th>\n",
              "      <th>J7</th>\n",
              "      <th>J8</th>\n",
              "      <th>J9</th>\n",
              "    </tr>\n",
              "  </thead>\n",
              "  <tbody>\n",
              "    <tr>\n",
              "      <th>0</th>\n",
              "      <td>-1</td>\n",
              "      <td>0</td>\n",
              "      <td>1</td>\n",
              "      <td>1</td>\n",
              "      <td>1</td>\n",
              "      <td>-1</td>\n",
              "      <td>1</td>\n",
              "      <td>-1</td>\n",
              "      <td>0</td>\n",
              "    </tr>\n",
              "    <tr>\n",
              "      <th>1</th>\n",
              "      <td>-1</td>\n",
              "      <td>1</td>\n",
              "      <td>-1</td>\n",
              "      <td>0</td>\n",
              "      <td>0</td>\n",
              "      <td>-1</td>\n",
              "      <td>1</td>\n",
              "      <td>1</td>\n",
              "      <td>1</td>\n",
              "    </tr>\n",
              "    <tr>\n",
              "      <th>2</th>\n",
              "      <td>-1</td>\n",
              "      <td>0</td>\n",
              "      <td>1</td>\n",
              "      <td>1</td>\n",
              "      <td>1</td>\n",
              "      <td>1</td>\n",
              "      <td>-1</td>\n",
              "      <td>0</td>\n",
              "      <td>-1</td>\n",
              "    </tr>\n",
              "    <tr>\n",
              "      <th>3</th>\n",
              "      <td>1</td>\n",
              "      <td>-1</td>\n",
              "      <td>1</td>\n",
              "      <td>1</td>\n",
              "      <td>0</td>\n",
              "      <td>-1</td>\n",
              "      <td>1</td>\n",
              "      <td>-1</td>\n",
              "      <td>0</td>\n",
              "    </tr>\n",
              "    <tr>\n",
              "      <th>4</th>\n",
              "      <td>-1</td>\n",
              "      <td>0</td>\n",
              "      <td>-1</td>\n",
              "      <td>1</td>\n",
              "      <td>1</td>\n",
              "      <td>1</td>\n",
              "      <td>0</td>\n",
              "      <td>-1</td>\n",
              "      <td>1</td>\n",
              "    </tr>\n",
              "    <tr>\n",
              "      <th>...</th>\n",
              "      <td>...</td>\n",
              "      <td>...</td>\n",
              "      <td>...</td>\n",
              "      <td>...</td>\n",
              "      <td>...</td>\n",
              "      <td>...</td>\n",
              "      <td>...</td>\n",
              "      <td>...</td>\n",
              "      <td>...</td>\n",
              "    </tr>\n",
              "    <tr>\n",
              "      <th>1185</th>\n",
              "      <td>0</td>\n",
              "      <td>0</td>\n",
              "      <td>0</td>\n",
              "      <td>0</td>\n",
              "      <td>0</td>\n",
              "      <td>0</td>\n",
              "      <td>0</td>\n",
              "      <td>0</td>\n",
              "      <td>0</td>\n",
              "    </tr>\n",
              "    <tr>\n",
              "      <th>1186</th>\n",
              "      <td>1</td>\n",
              "      <td>0</td>\n",
              "      <td>-1</td>\n",
              "      <td>0</td>\n",
              "      <td>0</td>\n",
              "      <td>0</td>\n",
              "      <td>0</td>\n",
              "      <td>0</td>\n",
              "      <td>0</td>\n",
              "    </tr>\n",
              "    <tr>\n",
              "      <th>1187</th>\n",
              "      <td>0</td>\n",
              "      <td>0</td>\n",
              "      <td>0</td>\n",
              "      <td>0</td>\n",
              "      <td>0</td>\n",
              "      <td>0</td>\n",
              "      <td>0</td>\n",
              "      <td>0</td>\n",
              "      <td>0</td>\n",
              "    </tr>\n",
              "    <tr>\n",
              "      <th>1188</th>\n",
              "      <td>0</td>\n",
              "      <td>0</td>\n",
              "      <td>0</td>\n",
              "      <td>0</td>\n",
              "      <td>0</td>\n",
              "      <td>0</td>\n",
              "      <td>1</td>\n",
              "      <td>0</td>\n",
              "      <td>0</td>\n",
              "    </tr>\n",
              "    <tr>\n",
              "      <th>1189</th>\n",
              "      <td>0</td>\n",
              "      <td>0</td>\n",
              "      <td>0</td>\n",
              "      <td>0</td>\n",
              "      <td>0</td>\n",
              "      <td>0</td>\n",
              "      <td>0</td>\n",
              "      <td>0</td>\n",
              "      <td>0</td>\n",
              "    </tr>\n",
              "  </tbody>\n",
              "</table>\n",
              "<p>1190 rows × 9 columns</p>\n",
              "</div>"
            ],
            "text/plain": [
              "      J1  J2  J3  J4  J5  J6  J7  J8  J9\n",
              "0     -1   0   1   1   1  -1   1  -1   0\n",
              "1     -1   1  -1   0   0  -1   1   1   1\n",
              "2     -1   0   1   1   1   1  -1   0  -1\n",
              "3      1  -1   1   1   0  -1   1  -1   0\n",
              "4     -1   0  -1   1   1   1   0  -1   1\n",
              "...   ..  ..  ..  ..  ..  ..  ..  ..  ..\n",
              "1185   0   0   0   0   0   0   0   0   0\n",
              "1186   1   0  -1   0   0   0   0   0   0\n",
              "1187   0   0   0   0   0   0   0   0   0\n",
              "1188   0   0   0   0   0   0   1   0   0\n",
              "1189   0   0   0   0   0   0   0   0   0\n",
              "\n",
              "[1190 rows x 9 columns]"
            ]
          },
          "execution_count": 11,
          "metadata": {},
          "output_type": "execute_result"
        }
      ],
      "source": [
        "# Filtrando as features que serão passadas para predição\n",
        "X = df_treino.drop(columns=['Resultado'])\n",
        "X"
      ]
    },
    {
      "cell_type": "code",
      "execution_count": 12,
      "metadata": {},
      "outputs": [
        {
          "data": {
            "text/plain": [
              "array([1, 1, 1, ..., 2, 2, 2])"
            ]
          },
          "execution_count": 12,
          "metadata": {},
          "output_type": "execute_result"
        }
      ],
      "source": [
        "# Obtendo as labels do dataset de treino\n",
        "Y = df_treino['Resultado'].values\n",
        "Y"
      ]
    },
    {
      "cell_type": "markdown",
      "metadata": {},
      "source": [
        "##### **Uso de heurística para determinar o K**"
      ]
    },
    {
      "cell_type": "markdown",
      "metadata": {},
      "source": [
        "**Regra da Raiz Quadrada**"
      ]
    },
    {
      "cell_type": "code",
      "execution_count": 13,
      "metadata": {},
      "outputs": [
        {
          "name": "stdout",
          "output_type": "stream",
          "text": [
            "Quantidade vizinhos: 35\n",
            "K=35, Acurácia média: 0.842016806722689\n"
          ]
        }
      ],
      "source": [
        "from math import sqrt,ceil\n",
        "\n",
        "# Arrendondando a raiz quadrada do total de entradas do dataset de treino\n",
        "\n",
        "k = ceil(sqrt(df_treino['J1'].count())) \n",
        "print(\"Quantidade vizinhos: {}\".format(k))\n",
        "\n",
        "# Criação do classificador\n",
        "clf = neighbors.KNeighborsClassifier(n_neighbors=k)\n",
        "\n",
        "# Treino do modelo\n",
        "clf.fit(X.values, Y)\n",
        "\n",
        "score = cross_val_score(clf, X.values, Y, cv=5, scoring=None)\n",
        "print(\"K={}, Acurácia média: {}\".format(k,score.mean()))"
      ]
    },
    {
      "cell_type": "markdown",
      "metadata": {},
      "source": [
        "**Definição a partir do tamanho do dataset**"
      ]
    },
    {
      "cell_type": "code",
      "execution_count": 14,
      "metadata": {},
      "outputs": [
        {
          "name": "stdout",
          "output_type": "stream",
          "text": [
            "Tamanho do dataset: 1190\n",
            "Valor K: 24\n",
            "K=24, Acurácia média: 0.8983193277310925\n"
          ]
        }
      ],
      "source": [
        "qtd_amostras = df_treino['J1'].count()\n",
        "k = ceil(0.02 * qtd_amostras)  # 2% do número total de amostras\n",
        "print(\"Tamanho do dataset: {}\\nValor K: {}\".format(qtd_amostras,k))\n",
        "\n",
        "# Criação do classificador\n",
        "clf = neighbors.KNeighborsClassifier(n_neighbors=k)\n",
        "\n",
        "# Treino do modelo\n",
        "clf.fit(X.values, Y)\n",
        "\n",
        "score = cross_val_score(clf, X.values, Y, cv=5, scoring=None)\n",
        "print(\"K={}, Acurácia média: {}\".format(k,score.mean()))"
      ]
    },
    {
      "cell_type": "markdown",
      "metadata": {},
      "source": [
        "**Cross-Validation**"
      ]
    },
    {
      "cell_type": "code",
      "execution_count": 15,
      "metadata": {
        "colab": {
          "base_uri": "https://localhost:8080/",
          "height": 75
        },
        "id": "3i9l8Hwj6B_n",
        "outputId": "99524a8b-2702-4a45-c200-9c82734ecd18"
      },
      "outputs": [],
      "source": [
        "# Lista para guardar os resultados dos testes para k\n",
        "lista_k_accuracy = []\n",
        "\n",
        "# Criação do classificador\n",
        "for k in range(1,21):\n",
        "    clf = neighbors.KNeighborsClassifier(n_neighbors=k)\n",
        "\n",
        "    # Treino do modelo\n",
        "    clf.fit(X.values, Y)\n",
        "\n",
        "    score = cross_val_score(clf, X.values, Y, cv=5, scoring=None)\n",
        "    lista_k_accuracy.append([k,score.mean()])"
      ]
    },
    {
      "cell_type": "code",
      "execution_count": 16,
      "metadata": {},
      "outputs": [
        {
          "name": "stdout",
          "output_type": "stream",
          "text": [
            "K=2, Acurácia média: 0.9436974789915966\n"
          ]
        }
      ],
      "source": [
        "# Tranformando a lista de acurácias em um array 20x2\n",
        "array_acuracia = np.array(lista_k_accuracy)\n",
        "\n",
        "# Obtendo o k a partir da maior acurácia continda na segunda coluna da matriz\n",
        "k = np.argmax(array_acuracia[:, 1])\n",
        "\n",
        "# Obtendo o valor da acurácia na posição do k\n",
        "accuracia = array_acuracia[k][1]\n",
        "\n",
        "print(\"K={}, Acurácia média: {}\".format(k,accuracia))"
      ]
    },
    {
      "cell_type": "code",
      "execution_count": 17,
      "metadata": {},
      "outputs": [
        {
          "data": {
            "image/png": "[encoded data removed]",
            "text/plain": [
              "<Figure size 640x480 with 1 Axes>"
            ]
          },
          "metadata": {},
          "output_type": "display_data"
        }
      ],
      "source": [
        "# Separando em listas separadas para o eixo x e y\n",
        "x = [par[0] for par in lista_k_accuracy]\n",
        "y = [par[1] for par in lista_k_accuracy]\n",
        "\n",
        "# Plotar o gráfico de linha\n",
        "plt.plot(x, y, marker='o',color='darkred') \n",
        "\n",
        "# Adicionar título e rótulos\n",
        "plt.title('K Vizinhos x Acurácia')\n",
        "plt.xlabel('K')\n",
        "plt.ylabel('Acurácia')\n",
        "\n",
        "# Mostrar o gráfico\n",
        "plt.grid(True)\n",
        "plt.show()\n"
      ]
    },
    {
      "cell_type": "code",
      "execution_count": 18,
      "metadata": {},
      "outputs": [
        {
          "data": {
            "text/html": [
              "<style>#sk-container-id-1 {color: black;}#sk-container-id-1 pre{padding: 0;}#sk-container-id-1 div.sk-toggleable {background-color: white;}#sk-container-id-1 label.sk-toggleable__label {cursor: pointer;display: block;width: 100%;margin-bottom: 0;padding: 0.3em;box-sizing: border-box;text-align: center;}#sk-container-id-1 label.sk-toggleable__label-arrow:before {content: \"▸\";float: left;margin-right: 0.25em;color: #696969;}#sk-container-id-1 label.sk-toggleable__label-arrow:hover:before {color: black;}#sk-container-id-1 div.sk-estimator:hover label.sk-toggleable__label-arrow:before {color: black;}#sk-container-id-1 div.sk-toggleable__content {max-height: 0;max-width: 0;overflow: hidden;text-align: left;background-color: #f0f8ff;}#sk-container-id-1 div.sk-toggleable__content pre {margin: 0.2em;color: black;border-radius: 0.25em;background-color: #f0f8ff;}#sk-container-id-1 input.sk-toggleable__control:checked~div.sk-toggleable__content {max-height: 200px;max-width: 100%;overflow: auto;}#sk-container-id-1 input.sk-toggleable__control:checked~label.sk-toggleable__label-arrow:before {content: \"▾\";}#sk-container-id-1 div.sk-estimator input.sk-toggleable__control:checked~label.sk-toggleable__label {background-color: #d4ebff;}#sk-container-id-1 div.sk-label input.sk-toggleable__control:checked~label.sk-toggleable__label {background-color: #d4ebff;}#sk-container-id-1 input.sk-hidden--visually {border: 0;clip: rect(1px 1px 1px 1px);clip: rect(1px, 1px, 1px, 1px);height: 1px;margin: -1px;overflow: hidden;padding: 0;position: absolute;width: 1px;}#sk-container-id-1 div.sk-estimator {font-family: monospace;background-color: #f0f8ff;border: 1px dotted black;border-radius: 0.25em;box-sizing: border-box;margin-bottom: 0.5em;}#sk-container-id-1 div.sk-estimator:hover {background-color: #d4ebff;}#sk-container-id-1 div.sk-parallel-item::after {content: \"\";width: 100%;border-bottom: 1px solid gray;flex-grow: 1;}#sk-container-id-1 div.sk-label:hover label.sk-toggleable__label {background-color: #d4ebff;}#sk-container-id-1 div.sk-serial::before {content: \"\";position: absolute;border-left: 1px solid gray;box-sizing: border-box;top: 0;bottom: 0;left: 50%;z-index: 0;}#sk-container-id-1 div.sk-serial {display: flex;flex-direction: column;align-items: center;background-color: white;padding-right: 0.2em;padding-left: 0.2em;position: relative;}#sk-container-id-1 div.sk-item {position: relative;z-index: 1;}#sk-container-id-1 div.sk-parallel {display: flex;align-items: stretch;justify-content: center;background-color: white;position: relative;}#sk-container-id-1 div.sk-item::before, #sk-container-id-1 div.sk-parallel-item::before {content: \"\";position: absolute;border-left: 1px solid gray;box-sizing: border-box;top: 0;bottom: 0;left: 50%;z-index: -1;}#sk-container-id-1 div.sk-parallel-item {display: flex;flex-direction: column;z-index: 1;position: relative;background-color: white;}#sk-container-id-1 div.sk-parallel-item:first-child::after {align-self: flex-end;width: 50%;}#sk-container-id-1 div.sk-parallel-item:last-child::after {align-self: flex-start;width: 50%;}#sk-container-id-1 div.sk-parallel-item:only-child::after {width: 0;}#sk-container-id-1 div.sk-dashed-wrapped {border: 1px dashed gray;margin: 0 0.4em 0.5em 0.4em;box-sizing: border-box;padding-bottom: 0.4em;background-color: white;}#sk-container-id-1 div.sk-label label {font-family: monospace;font-weight: bold;display: inline-block;line-height: 1.2em;}#sk-container-id-1 div.sk-label-container {text-align: center;}#sk-container-id-1 div.sk-container {/* jupyter's `normalize.less` sets `[hidden] { display: none; }` but bootstrap.min.css set `[hidden] { display: none !important; }` so we also need the `!important` here to be able to override the default hidden behavior on the sphinx rendered scikit-learn.org. See: https://github.com/scikit-learn/scikit-learn/issues/21755 */display: inline-block !important;position: relative;}#sk-container-id-1 div.sk-text-repr-fallback {display: none;}</style><div id=\"sk-container-id-1\" class=\"sk-top-container\"><div class=\"sk-text-repr-fallback\"><pre>KNeighborsClassifier(n_neighbors=2)</pre><b>In a Jupyter environment, please rerun this cell to show the HTML representation or trust the notebook. <br />On GitHub, the HTML representation is unable to render, please try loading this page with nbviewer.org.</b></div><div class=\"sk-container\" hidden><div class=\"sk-item\"><div class=\"sk-estimator sk-toggleable\"><input class=\"sk-toggleable__control sk-hidden--visually\" id=\"sk-estimator-id-1\" type=\"checkbox\" checked><label for=\"sk-estimator-id-1\" class=\"sk-toggleable__label sk-toggleable__label-arrow\">KNeighborsClassifier</label><div class=\"sk-toggleable__content\"><pre>KNeighborsClassifier(n_neighbors=2)</pre></div></div></div></div></div>"
            ],
            "text/plain": [
              "KNeighborsClassifier(n_neighbors=2)"
            ]
          },
          "execution_count": 18,
          "metadata": {},
          "output_type": "execute_result"
        }
      ],
      "source": [
        "# Quantidade de vizinhos definido a partir da heurística que possibilitou a melhor acurácia\n",
        "k = 2\n",
        "\n",
        "# Criação do classificador\n",
        "clf = neighbors.KNeighborsClassifier(n_neighbors=k)\n",
        "\n",
        "# Treino do modelo\n",
        "clf.fit(X.values, Y)"
      ]
    },
    {
      "cell_type": "markdown",
      "metadata": {},
      "source": [
        "#### **Validação**"
      ]
    },
    {
      "cell_type": "code",
      "execution_count": 19,
      "metadata": {},
      "outputs": [
        {
          "data": {
            "text/plain": [
              "array([[ 1,  1,  1, ..., -1,  0, -1],\n",
              "       [ 1,  0,  1, ...,  1, -1, -1],\n",
              "       [ 1, -1,  1, ...,  0, -1,  1],\n",
              "       ...,\n",
              "       [-1,  0,  0, ...,  0,  0,  0],\n",
              "       [ 0,  1,  0, ...,  0,  1,  1],\n",
              "       [ 0,  0,  1, ...,  1,  1, -1]])"
            ]
          },
          "execution_count": 19,
          "metadata": {},
          "output_type": "execute_result"
        }
      ],
      "source": [
        "# Filtrando as features que serão passadas para predição\n",
        "X_valid = df_validacao.drop(columns=['Resultado'])\n",
        "X_valid = X_valid.values\n",
        "X_valid"
      ]
    },
    {
      "cell_type": "code",
      "execution_count": 20,
      "metadata": {},
      "outputs": [
        {
          "data": {
            "text/plain": [
              "array([ 1,  1,  1,  1,  1,  1,  1,  1,  1,  1,  1,  1,  1,  1,  1,  1,  1,\n",
              "        1,  1,  1,  1,  1,  1,  1,  1,  1,  1,  1,  1,  1,  1,  1,  1,  1,\n",
              "        1,  1,  1,  1,  1,  1, -1, -1, -1, -1, -1, -1, -1, -1, -1, -1, -1,\n",
              "       -1, -1, -1, -1, -1, -1, -1, -1, -1, -1, -1, -1, -1, -1, -1, -1, -1,\n",
              "       -1, -1, -1, -1, -1, -1, -1, -1, -1, -1, -1, -1,  0,  0,  0,  0,  0,\n",
              "        0,  0,  0,  0,  0,  0,  0,  0,  0,  0,  0,  0,  0,  0,  0,  0,  0,\n",
              "        0,  0,  0,  0,  0,  0,  0,  2,  2,  2,  2,  2,  2,  2,  2,  2,  2,\n",
              "        2,  2,  2,  2,  2,  2,  2,  2,  2,  2,  2,  2,  2,  2,  2,  2,  2,\n",
              "        2,  2,  2,  2,  2,  2,  2,  2,  2,  2,  2,  2,  2])"
            ]
          },
          "execution_count": 20,
          "metadata": {},
          "output_type": "execute_result"
        }
      ],
      "source": [
        "# Obtendo as labels do dataset de validação\n",
        "Y_valid = df_validacao.drop(columns=['J1', 'J2', 'J3', 'J4', 'J5', 'J6', 'J7', 'J8', 'J9'])['Resultado'].values\n",
        "Y_valid"
      ]
    },
    {
      "cell_type": "code",
      "execution_count": 21,
      "metadata": {
        "colab": {
          "base_uri": "https://localhost:8080/"
        },
        "id": "CPAUOn2Pr7ft",
        "outputId": "c46e16ce-df4d-4466-8083-aafefaee1e49"
      },
      "outputs": [
        {
          "name": "stdout",
          "output_type": "stream",
          "text": [
            "Acurácia: 0.89\n"
          ]
        }
      ],
      "source": [
        "# Criação das predições a partir da base de validação\n",
        "predicao = clf.predict(X_valid)\n",
        "\n",
        "# Calculando a acurácia\n",
        "acuracia = accuracy_score(Y_valid, predicao)\n",
        "print(\"Acurácia: {:.2f}\".format(acuracia))\n"
      ]
    },
    {
      "cell_type": "markdown",
      "metadata": {},
      "source": [
        "#### **Teste**"
      ]
    },
    {
      "cell_type": "code",
      "execution_count": 22,
      "metadata": {},
      "outputs": [
        {
          "data": {
            "text/plain": [
              "array([[ 1,  0,  0, ...,  1, -1, -1],\n",
              "       [-1, -1,  1, ..., -1,  1, -1],\n",
              "       [ 1,  1, -1, ..., -1,  1, -1],\n",
              "       ...,\n",
              "       [ 0,  0,  0, ...,  0,  0,  1],\n",
              "       [-1,  0,  0, ...,  0,  0,  0],\n",
              "       [ 0,  0,  0, ...,  0,  0,  0]])"
            ]
          },
          "execution_count": 22,
          "metadata": {},
          "output_type": "execute_result"
        }
      ],
      "source": [
        "# Filtrando as features que serão passadas para predição\n",
        "X_test = df_teste.drop(columns=['Resultado'])\n",
        "X_test = X_test.values\n",
        "X_test"
      ]
    },
    {
      "cell_type": "code",
      "execution_count": 23,
      "metadata": {},
      "outputs": [
        {
          "data": {
            "text/plain": [
              "array([ 1,  1,  1,  1,  1,  1,  1,  1,  1,  1,  1,  1,  1,  1,  1,  1,  1,\n",
              "        1,  1,  1,  1,  1,  1,  1,  1,  1,  1,  1,  1,  1,  1,  1,  1,  1,\n",
              "        1,  1,  1,  1,  1,  1, -1, -1, -1, -1, -1, -1, -1, -1, -1, -1, -1,\n",
              "       -1, -1, -1, -1, -1, -1, -1, -1, -1, -1, -1, -1, -1, -1, -1, -1, -1,\n",
              "       -1, -1, -1, -1, -1, -1, -1, -1, -1, -1, -1, -1,  0,  0,  0,  0,  0,\n",
              "        0,  0,  0,  0,  0,  0,  0,  0,  0,  0,  0,  0,  0,  0,  0,  0,  0,\n",
              "        0,  0,  0,  0,  0,  0,  0,  2,  2,  2,  2,  2,  2,  2,  2,  2,  2,\n",
              "        2,  2,  2,  2,  2,  2,  2,  2,  2,  2,  2,  2,  2,  2,  2,  2,  2,\n",
              "        2,  2,  2,  2,  2,  2,  2,  2,  2,  2,  2,  2,  2])"
            ]
          },
          "execution_count": 23,
          "metadata": {},
          "output_type": "execute_result"
        }
      ],
      "source": [
        "# Obtendo as labels do dataset de teste\n",
        "Y_test = df_teste.drop(columns=['J1', 'J2', 'J3', 'J4', 'J5', 'J6', 'J7', 'J8', 'J9'])['Resultado'].values\n",
        "Y_test"
      ]
    },
    {
      "cell_type": "code",
      "execution_count": 24,
      "metadata": {},
      "outputs": [
        {
          "name": "stdout",
          "output_type": "stream",
          "text": [
            "[ 1  1  1  1  1  1  1 -1  1  1  1  1 -1  1  1  1  1  1  1  1  1  1  1  1\n",
            " -1  1  1  1  1  1 -1  1  1  1  1 -1  1  1  1  1 -1 -1 -1 -1 -1 -1 -1 -1\n",
            " -1 -1 -1 -1 -1 -1 -1 -1 -1 -1 -1 -1 -1 -1 -1 -1 -1 -1 -1 -1 -1 -1 -1 -1\n",
            " -1 -1 -1 -1 -1 -1 -1 -1  0  0  0  0  0  0  0  0  0  0  0  0  0  0  0  0\n",
            "  0  0  0  0  0  0  0  0  0  0  0  0  0  2  2 -1  2  1  2  2  2  2  2  2\n",
            "  1  2  2  2  2  2  2  2  2 -1  2  2  2  1  2  2  2  2  2  2  2  2  2 -1\n",
            "  2  2  2  2  2]\n",
            "Acurácia: 0.93\n"
          ]
        }
      ],
      "source": [
        "# Criação das predições a partir da base de validação\n",
        "predicao = clf.predict(X_test)\n",
        "\n",
        "print(predicao)\n",
        "\n",
        "# Calculando a acurácia\n",
        "acuracia = accuracy_score(Y_test, predicao)\n",
        "print(\"Acurácia: {:.2f}\".format(acuracia))"
      ]
    },
    {
      "cell_type": "code",
      "execution_count": 25,
      "metadata": {},
      "outputs": [
        {
          "name": "stdout",
          "output_type": "stream",
          "text": [
            "Relatório de Classificação:\n",
            "                 precision    recall  f1-score   support\n",
            "\n",
            "      O ganhou       0.83      1.00      0.91        40\n",
            "Ainda tem jogo       1.00      1.00      1.00        29\n",
            "      X ganhou       0.92      0.88      0.90        40\n",
            "        Empate       1.00      0.85      0.92        40\n",
            "\n",
            "      accuracy                           0.93       149\n",
            "     macro avg       0.94      0.93      0.93       149\n",
            "  weighted avg       0.93      0.93      0.93       149\n",
            "\n"
          ]
        }
      ],
      "source": [
        "# Nomes das classes\n",
        "nomes_classes = [\"O ganhou\",\"Ainda tem jogo\",\"X ganhou\",\"Empate\"]\n",
        "\n",
        "# Calcular e imprimir o relatório de classificação\n",
        "relatorio_classificacao = classification_report(Y_test, predicao, target_names=nomes_classes)\n",
        "print(\"Relatório de Classificação:\\n\", relatorio_classificacao)"
      ]
    },
    {
      "cell_type": "markdown",
      "metadata": {},
      "source": [
        "### **Partida**"
      ]
    },
    {
      "cell_type": "code",
      "execution_count": 26,
      "metadata": {},
      "outputs": [],
      "source": [
        "import numpy as np\n",
        "import random"
      ]
    },
    {
      "cell_type": "markdown",
      "metadata": {},
      "source": [
        "### **Função para plotagem do tabuleiro**"
      ]
    },
    {
      "cell_type": "code",
      "execution_count": 27,
      "metadata": {},
      "outputs": [],
      "source": [
        "import matplotlib.pyplot as plt\n",
        "\n",
        "def plot_board(board,predicao=None):\n",
        "    if predicao == 1:\n",
        "        predicao = 'X ganhou'\n",
        "    elif predicao == -1:\n",
        "        predicao = 'O ganhou'\n",
        "    elif predicao == 0:\n",
        "        predicao = 'Empate'\n",
        "    else:\n",
        "        predicao = 'Ainda tem jogo'\n",
        "\n",
        "    board = np.array(board).reshape(3, 3)\n",
        "\n",
        "    \n",
        "    fig, ax = plt.subplots()\n",
        "    ax.set_xlim(0, 3)\n",
        "    ax.set_ylim(0, 3)\n",
        "    ax.text(-0.25, 2.5, '1', fontsize=42, ha='center', va='center', color='black')\n",
        "    ax.text(-0.25, 1.5, '2', fontsize=42, ha='center', va='center', color='black')\n",
        "    ax.text(-0.25, 0.5, '3', fontsize=42, ha='center', va='center', color='black')\n",
        "\n",
        "    ax.text(0.5, 3.25, '1', fontsize=42, ha='center', va='center', color='black')\n",
        "    ax.text(1.5, 3.25, '2', fontsize=42, ha='center', va='center', color='black')\n",
        "    ax.text(2.5, 3.25, '3', fontsize=42, ha='center', va='center', color='black')\n",
        "\n",
        "    plt.plot([1, 1], [0, 3], color='black', linewidth=2)\n",
        "    plt.plot([2, 2], [0, 3], color='black', linewidth=2)\n",
        "    plt.plot([0, 3], [1, 1], color='black', linewidth=2)\n",
        "    plt.plot([0, 3], [2, 2], color='black', linewidth=2)\n",
        "\n",
        "    for i in range(3):\n",
        "        for j in range(3):\n",
        "            mark = board[i][j]\n",
        "            if mark == 1:\n",
        "                plt.text(j + 0.5, 2.5 - i, 'X', fontsize=42, ha='center', va='center', color='black')\n",
        "            elif mark == -1:\n",
        "                plt.text(j + 0.5, 2.5 - i, 'O', fontsize=42, ha='center', va='center', color='black')\n",
        "\n",
        "    if predicao is not None:\n",
        "        plt.text(1.5, -0.5, 'Status: ' + predicao, fontsize=42, ha='center', va='center', color='black')\n",
        "\n",
        "    ax.set_xticks([])\n",
        "    ax.set_yticks([])\n",
        "    ax.set_aspect('equal')\n",
        "\n",
        "    plt.show()\n"
      ]
    },
    {
      "cell_type": "markdown",
      "metadata": {},
      "source": [
        "##### **Funções para realização de jogadas**"
      ]
    },
    {
      "cell_type": "code",
      "execution_count": 28,
      "metadata": {},
      "outputs": [],
      "source": [
        "# Função para coleta da jogada\n",
        "def coleta_jogada():\n",
        "    # Coletando os valores por meio de um input\n",
        "    linha, coluna = input(\"Informe a linha e a coluna onde deseja incluir o x. Ex: [1,2]\").split(\",\")\n",
        "    \n",
        "    # Convertendo os valores para inteiro\n",
        "    return int(linha), int(coluna)\n",
        "\n",
        "# Função para validação da posição informada para realização da jogada\n",
        "def valida_jogada(jogada,linha,coluna):\n",
        "    \n",
        "    # Conversão da jogada em um array 3x3\n",
        "    jogada = np.array(jogada).reshape(3,3)\n",
        "\n",
        "    print(\"Linha:\",linha)\n",
        "    print(\"Linha:\",coluna)\n",
        "        \n",
        "    # Verificar se o valor na posição especificada é igual a zero\n",
        "    if jogada[linha-1][coluna-1] == 0:\n",
        "        return True\n",
        "    \n",
        "    return False\n",
        "    \n",
        "\n",
        "# Função para realização da jogada do computador a partir de uma função aleatória\n",
        "def jogada_COM(jogada):\n",
        "    jogada_feita = False\n",
        "    \n",
        "    while not jogada_feita: \n",
        "        # Escolha de um índices de linha e coluna na lista\n",
        "        linha = random.randint(0,2)\n",
        "        coluna = random.randint(0,2)\n",
        "\n",
        "        # Caso a posição escolhida esteja livre realiza a modificação\n",
        "        if jogada[linha][coluna] not in [1,-1]:\n",
        "            # Atrubuição realizada na posição aleatória escolhida\n",
        "            jogada[linha,coluna] = -1\n",
        "            jogada_feita = True\n",
        "        \n",
        "    return jogada\n",
        "\n",
        "\n",
        "def ajuste_jogada(jogada,linha,coluna):\n",
        "    # Conversão da jogada em um array 3x3\n",
        "    jogada = np.array(jogada).reshape(3,3)\n",
        "\n",
        "    # Substituindo o valor da posição informada em 1\n",
        "    jogada[linha-1,coluna-1] = 1\n",
        "\n",
        "    return jogada"
      ]
    },
    {
      "cell_type": "markdown",
      "metadata": {},
      "source": [
        "#### **Realização da partida**"
      ]
    },
    {
      "cell_type": "code",
      "execution_count": 29,
      "metadata": {},
      "outputs": [
        {
          "name": "stdout",
          "output_type": "stream",
          "text": [
            "Linha: 1\n",
            "Linha: 3\n",
            "Jogada realizada!\n"
          ]
        },
        {
          "data": {
            "image/png": "[encoded data removed]",
            "text/plain": [
              "<Figure size 640x480 with 1 Axes>"
            ]
          },
          "metadata": {},
          "output_type": "display_data"
        }
      ],
      "source": [
        "from IPython.display import clear_output\n",
        "\n",
        "# Convertendo a lista de jogadas em um array 3x3\n",
        "jogada = [0,0,0,0,0,0,0,0,0]\n",
        "plot_board(jogada)\n",
        "\n",
        "finalizar_jogo = False\n",
        "\n",
        "while not finalizar_jogo:\n",
        "    clear_output(wait=True)\n",
        "    # Coletando a jogada\n",
        "    linha,coluna = coleta_jogada()\n",
        "    \n",
        "    # Chamando a função de validação de jogada\n",
        "    if valida_jogada(jogada,linha,coluna):\n",
        "        # Realizando o ajuste da jogada a partir das posições de inserção informadas\n",
        "        jogada = ajuste_jogada(jogada,linha,coluna)\n",
        "        print('Jogada realizada!')\n",
        "    else:\n",
        "        print(\"Jogada não realizada\")\n",
        "        continue # Recomeça solicitando a jogada para o usuário\n",
        "    \n",
        "    # Redefinindo o shape do array 2d para usar no classificador\n",
        "    jogada = jogada.reshape(9,).reshape(1,-1)\n",
        "\n",
        "    # Obtenção do status do jogo após jogada do usuário\n",
        "    predicao = clf.predict(jogada)\n",
        "    \n",
        "    # Caso haja um vencedor o loop será encerrado\n",
        "    if str(predicao) != \"[2]\":\n",
        "        finalizar_jogo = True\n",
        "        plot_board(jogada,predicao)\n",
        "        break\n",
        "    \n",
        "    jogada = jogada.reshape(3,3)\n",
        "\n",
        "    # Realização de jogada da máquina\n",
        "    jogada = jogada_COM(jogada)\n",
        "\n",
        "    # Redefinindo o shape do array para usar no classificador\n",
        "    jogada = jogada.reshape(9,).reshape(1,-1)\n",
        "\n",
        "    # Obtenção do status do jogo após jogada da máquina\n",
        "    predicao = clf.predict(jogada)\n",
        "\n",
        "    # Plotando o tabuleiro \n",
        "    plot_board(jogada,predicao)\n",
        "    \n",
        "    # Caso haja um vencedor o loop será encerrado\n",
        "    if str(predicao) != \"[2]\":\n",
        "        finalizar_jogo = True"
      ]
    }
  ],
  "metadata": {
    "colab": {
      "provenance": []
    },
    "kernelspec": {
      "display_name": "base",
      "language": "python",
      "name": "python3"
    },
    "language_info": {
      "codemirror_mode": {
        "name": "ipython",
        "version": 3
      },
      "file_extension": ".py",
      "mimetype": "text/x-python",
      "name": "python",
      "nbconvert_exporter": "python",
      "pygments_lexer": "ipython3",
      "version": "3.11.5"
    }
  },
  "nbformat": 4,
  "nbformat_minor": 0
}
