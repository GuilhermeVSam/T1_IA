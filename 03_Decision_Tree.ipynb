{
 "cells": [
  {
   "cell_type": "markdown",
   "metadata": {},
   "source": [
    "### **Importações**"
   ]
  },
  {
   "cell_type": "code",
   "execution_count": 1,
   "metadata": {},
   "outputs": [],
   "source": [
    "import pandas as pd\n",
    "import numpy as np\n",
    "from sklearn import tree\n",
    "from sklearn.model_selection import cross_val_score\n",
    "from sklearn.metrics import accuracy_score\n",
    "from sklearn.metrics import classification_report"
   ]
  },
  {
   "cell_type": "code",
   "execution_count": 2,
   "metadata": {},
   "outputs": [
    {
     "data": {
      "text/html": [
       "<div>\n",
       "<style scoped>\n",
       "    .dataframe tbody tr th:only-of-type {\n",
       "        vertical-align: middle;\n",
       "    }\n",
       "\n",
       "    .dataframe tbody tr th {\n",
       "        vertical-align: top;\n",
       "    }\n",
       "\n",
       "    .dataframe thead th {\n",
       "        text-align: right;\n",
       "    }\n",
       "</style>\n",
       "<table border=\"1\" class=\"dataframe\">\n",
       "  <thead>\n",
       "    <tr style=\"text-align: right;\">\n",
       "      <th></th>\n",
       "      <th>J1</th>\n",
       "      <th>J2</th>\n",
       "      <th>J3</th>\n",
       "      <th>J4</th>\n",
       "      <th>J5</th>\n",
       "      <th>J6</th>\n",
       "      <th>J7</th>\n",
       "      <th>J8</th>\n",
       "      <th>J9</th>\n",
       "      <th>Resultado</th>\n",
       "    </tr>\n",
       "  </thead>\n",
       "  <tbody>\n",
       "    <tr>\n",
       "      <th>0</th>\n",
       "      <td>-1</td>\n",
       "      <td>-1</td>\n",
       "      <td>1</td>\n",
       "      <td>0</td>\n",
       "      <td>1</td>\n",
       "      <td>-1</td>\n",
       "      <td>1</td>\n",
       "      <td>1</td>\n",
       "      <td>0</td>\n",
       "      <td>1</td>\n",
       "    </tr>\n",
       "    <tr>\n",
       "      <th>1</th>\n",
       "      <td>1</td>\n",
       "      <td>-1</td>\n",
       "      <td>0</td>\n",
       "      <td>-1</td>\n",
       "      <td>1</td>\n",
       "      <td>-1</td>\n",
       "      <td>0</td>\n",
       "      <td>1</td>\n",
       "      <td>1</td>\n",
       "      <td>1</td>\n",
       "    </tr>\n",
       "    <tr>\n",
       "      <th>2</th>\n",
       "      <td>-1</td>\n",
       "      <td>-1</td>\n",
       "      <td>1</td>\n",
       "      <td>0</td>\n",
       "      <td>1</td>\n",
       "      <td>1</td>\n",
       "      <td>1</td>\n",
       "      <td>-1</td>\n",
       "      <td>0</td>\n",
       "      <td>1</td>\n",
       "    </tr>\n",
       "    <tr>\n",
       "      <th>3</th>\n",
       "      <td>1</td>\n",
       "      <td>-1</td>\n",
       "      <td>0</td>\n",
       "      <td>1</td>\n",
       "      <td>1</td>\n",
       "      <td>0</td>\n",
       "      <td>1</td>\n",
       "      <td>-1</td>\n",
       "      <td>-1</td>\n",
       "      <td>1</td>\n",
       "    </tr>\n",
       "    <tr>\n",
       "      <th>4</th>\n",
       "      <td>1</td>\n",
       "      <td>0</td>\n",
       "      <td>1</td>\n",
       "      <td>-1</td>\n",
       "      <td>1</td>\n",
       "      <td>0</td>\n",
       "      <td>-1</td>\n",
       "      <td>-1</td>\n",
       "      <td>1</td>\n",
       "      <td>1</td>\n",
       "    </tr>\n",
       "  </tbody>\n",
       "</table>\n",
       "</div>"
      ],
      "text/plain": [
       "   J1  J2  J3  J4  J5  J6  J7  J8  J9  Resultado\n",
       "0  -1  -1   1   0   1  -1   1   1   0          1\n",
       "1   1  -1   0  -1   1  -1   0   1   1          1\n",
       "2  -1  -1   1   0   1   1   1  -1   0          1\n",
       "3   1  -1   0   1   1   0   1  -1  -1          1\n",
       "4   1   0   1  -1   1   0  -1  -1   1          1"
      ]
     },
     "execution_count": 2,
     "metadata": {},
     "output_type": "execute_result"
    }
   ],
   "source": [
    "df_treino = pd.read_csv(\"Teste.csv\")\n",
    "df_treino.head()"
   ]
  },
  {
   "cell_type": "code",
   "execution_count": 3,
   "metadata": {},
   "outputs": [
    {
     "data": {
      "text/html": [
       "<div>\n",
       "<style scoped>\n",
       "    .dataframe tbody tr th:only-of-type {\n",
       "        vertical-align: middle;\n",
       "    }\n",
       "\n",
       "    .dataframe tbody tr th {\n",
       "        vertical-align: top;\n",
       "    }\n",
       "\n",
       "    .dataframe thead th {\n",
       "        text-align: right;\n",
       "    }\n",
       "</style>\n",
       "<table border=\"1\" class=\"dataframe\">\n",
       "  <thead>\n",
       "    <tr style=\"text-align: right;\">\n",
       "      <th></th>\n",
       "      <th>J1</th>\n",
       "      <th>J2</th>\n",
       "      <th>J3</th>\n",
       "      <th>J4</th>\n",
       "      <th>J5</th>\n",
       "      <th>J6</th>\n",
       "      <th>J7</th>\n",
       "      <th>J8</th>\n",
       "      <th>J9</th>\n",
       "      <th>Resultado</th>\n",
       "    </tr>\n",
       "  </thead>\n",
       "  <tbody>\n",
       "    <tr>\n",
       "      <th>0</th>\n",
       "      <td>1</td>\n",
       "      <td>0</td>\n",
       "      <td>0</td>\n",
       "      <td>1</td>\n",
       "      <td>-1</td>\n",
       "      <td>0</td>\n",
       "      <td>1</td>\n",
       "      <td>-1</td>\n",
       "      <td>0</td>\n",
       "      <td>1</td>\n",
       "    </tr>\n",
       "    <tr>\n",
       "      <th>1</th>\n",
       "      <td>1</td>\n",
       "      <td>1</td>\n",
       "      <td>1</td>\n",
       "      <td>-1</td>\n",
       "      <td>0</td>\n",
       "      <td>1</td>\n",
       "      <td>-1</td>\n",
       "      <td>-1</td>\n",
       "      <td>0</td>\n",
       "      <td>1</td>\n",
       "    </tr>\n",
       "    <tr>\n",
       "      <th>2</th>\n",
       "      <td>1</td>\n",
       "      <td>-1</td>\n",
       "      <td>0</td>\n",
       "      <td>-1</td>\n",
       "      <td>1</td>\n",
       "      <td>0</td>\n",
       "      <td>1</td>\n",
       "      <td>-1</td>\n",
       "      <td>1</td>\n",
       "      <td>1</td>\n",
       "    </tr>\n",
       "    <tr>\n",
       "      <th>3</th>\n",
       "      <td>-1</td>\n",
       "      <td>1</td>\n",
       "      <td>-1</td>\n",
       "      <td>-1</td>\n",
       "      <td>1</td>\n",
       "      <td>1</td>\n",
       "      <td>0</td>\n",
       "      <td>1</td>\n",
       "      <td>0</td>\n",
       "      <td>1</td>\n",
       "    </tr>\n",
       "    <tr>\n",
       "      <th>4</th>\n",
       "      <td>1</td>\n",
       "      <td>0</td>\n",
       "      <td>-1</td>\n",
       "      <td>-1</td>\n",
       "      <td>0</td>\n",
       "      <td>-1</td>\n",
       "      <td>1</td>\n",
       "      <td>1</td>\n",
       "      <td>1</td>\n",
       "      <td>1</td>\n",
       "    </tr>\n",
       "  </tbody>\n",
       "</table>\n",
       "</div>"
      ],
      "text/plain": [
       "   J1  J2  J3  J4  J5  J6  J7  J8  J9  Resultado\n",
       "0   1   0   0   1  -1   0   1  -1   0          1\n",
       "1   1   1   1  -1   0   1  -1  -1   0          1\n",
       "2   1  -1   0  -1   1   0   1  -1   1          1\n",
       "3  -1   1  -1  -1   1   1   0   1   0          1\n",
       "4   1   0  -1  -1   0  -1   1   1   1          1"
      ]
     },
     "metadata": {},
     "output_type": "display_data"
    },
    {
     "data": {
      "text/html": [
       "<div>\n",
       "<style scoped>\n",
       "    .dataframe tbody tr th:only-of-type {\n",
       "        vertical-align: middle;\n",
       "    }\n",
       "\n",
       "    .dataframe tbody tr th {\n",
       "        vertical-align: top;\n",
       "    }\n",
       "\n",
       "    .dataframe thead th {\n",
       "        text-align: right;\n",
       "    }\n",
       "</style>\n",
       "<table border=\"1\" class=\"dataframe\">\n",
       "  <thead>\n",
       "    <tr style=\"text-align: right;\">\n",
       "      <th></th>\n",
       "      <th>J1</th>\n",
       "      <th>J2</th>\n",
       "      <th>J3</th>\n",
       "      <th>J4</th>\n",
       "      <th>J5</th>\n",
       "      <th>J6</th>\n",
       "      <th>J7</th>\n",
       "      <th>J8</th>\n",
       "      <th>J9</th>\n",
       "      <th>Resultado</th>\n",
       "    </tr>\n",
       "  </thead>\n",
       "  <tbody>\n",
       "    <tr>\n",
       "      <th>0</th>\n",
       "      <td>-1</td>\n",
       "      <td>-1</td>\n",
       "      <td>1</td>\n",
       "      <td>0</td>\n",
       "      <td>1</td>\n",
       "      <td>-1</td>\n",
       "      <td>1</td>\n",
       "      <td>1</td>\n",
       "      <td>0</td>\n",
       "      <td>1</td>\n",
       "    </tr>\n",
       "    <tr>\n",
       "      <th>1</th>\n",
       "      <td>1</td>\n",
       "      <td>-1</td>\n",
       "      <td>0</td>\n",
       "      <td>-1</td>\n",
       "      <td>1</td>\n",
       "      <td>-1</td>\n",
       "      <td>0</td>\n",
       "      <td>1</td>\n",
       "      <td>1</td>\n",
       "      <td>1</td>\n",
       "    </tr>\n",
       "    <tr>\n",
       "      <th>2</th>\n",
       "      <td>-1</td>\n",
       "      <td>-1</td>\n",
       "      <td>1</td>\n",
       "      <td>0</td>\n",
       "      <td>1</td>\n",
       "      <td>1</td>\n",
       "      <td>1</td>\n",
       "      <td>-1</td>\n",
       "      <td>0</td>\n",
       "      <td>1</td>\n",
       "    </tr>\n",
       "    <tr>\n",
       "      <th>3</th>\n",
       "      <td>1</td>\n",
       "      <td>-1</td>\n",
       "      <td>0</td>\n",
       "      <td>1</td>\n",
       "      <td>1</td>\n",
       "      <td>0</td>\n",
       "      <td>1</td>\n",
       "      <td>-1</td>\n",
       "      <td>-1</td>\n",
       "      <td>1</td>\n",
       "    </tr>\n",
       "    <tr>\n",
       "      <th>4</th>\n",
       "      <td>1</td>\n",
       "      <td>0</td>\n",
       "      <td>1</td>\n",
       "      <td>-1</td>\n",
       "      <td>1</td>\n",
       "      <td>0</td>\n",
       "      <td>-1</td>\n",
       "      <td>-1</td>\n",
       "      <td>1</td>\n",
       "      <td>1</td>\n",
       "    </tr>\n",
       "  </tbody>\n",
       "</table>\n",
       "</div>"
      ],
      "text/plain": [
       "   J1  J2  J3  J4  J5  J6  J7  J8  J9  Resultado\n",
       "0  -1  -1   1   0   1  -1   1   1   0          1\n",
       "1   1  -1   0  -1   1  -1   0   1   1          1\n",
       "2  -1  -1   1   0   1   1   1  -1   0          1\n",
       "3   1  -1   0   1   1   0   1  -1  -1          1\n",
       "4   1   0   1  -1   1   0  -1  -1   1          1"
      ]
     },
     "metadata": {},
     "output_type": "display_data"
    }
   ],
   "source": [
    "# Importação dos dataset de validacao e teste\n",
    "file_path = r'Validacao.csv'\n",
    "df_validacao = pd.read_csv(file_path)\n",
    "df_validacao = df_validacao.astype(int)\n",
    "display(df_validacao.head())\n",
    "\n",
    "file_path = r'Teste.csv'\n",
    "df_teste = pd.read_csv(file_path)\n",
    "df_teste = df_teste.astype(int)\n",
    "display(df_teste.head())"
   ]
  },
  {
   "cell_type": "markdown",
   "metadata": {},
   "source": [
    "#### **Treino**"
   ]
  },
  {
   "cell_type": "code",
   "execution_count": 4,
   "metadata": {},
   "outputs": [
    {
     "data": {
      "text/html": [
       "<div>\n",
       "<style scoped>\n",
       "    .dataframe tbody tr th:only-of-type {\n",
       "        vertical-align: middle;\n",
       "    }\n",
       "\n",
       "    .dataframe tbody tr th {\n",
       "        vertical-align: top;\n",
       "    }\n",
       "\n",
       "    .dataframe thead th {\n",
       "        text-align: right;\n",
       "    }\n",
       "</style>\n",
       "<table border=\"1\" class=\"dataframe\">\n",
       "  <thead>\n",
       "    <tr style=\"text-align: right;\">\n",
       "      <th></th>\n",
       "      <th>J1</th>\n",
       "      <th>J2</th>\n",
       "      <th>J3</th>\n",
       "      <th>J4</th>\n",
       "      <th>J5</th>\n",
       "      <th>J6</th>\n",
       "      <th>J7</th>\n",
       "      <th>J8</th>\n",
       "      <th>J9</th>\n",
       "    </tr>\n",
       "  </thead>\n",
       "  <tbody>\n",
       "    <tr>\n",
       "      <th>0</th>\n",
       "      <td>-1</td>\n",
       "      <td>-1</td>\n",
       "      <td>1</td>\n",
       "      <td>0</td>\n",
       "      <td>1</td>\n",
       "      <td>-1</td>\n",
       "      <td>1</td>\n",
       "      <td>1</td>\n",
       "      <td>0</td>\n",
       "    </tr>\n",
       "    <tr>\n",
       "      <th>1</th>\n",
       "      <td>1</td>\n",
       "      <td>-1</td>\n",
       "      <td>0</td>\n",
       "      <td>-1</td>\n",
       "      <td>1</td>\n",
       "      <td>-1</td>\n",
       "      <td>0</td>\n",
       "      <td>1</td>\n",
       "      <td>1</td>\n",
       "    </tr>\n",
       "    <tr>\n",
       "      <th>2</th>\n",
       "      <td>-1</td>\n",
       "      <td>-1</td>\n",
       "      <td>1</td>\n",
       "      <td>0</td>\n",
       "      <td>1</td>\n",
       "      <td>1</td>\n",
       "      <td>1</td>\n",
       "      <td>-1</td>\n",
       "      <td>0</td>\n",
       "    </tr>\n",
       "    <tr>\n",
       "      <th>3</th>\n",
       "      <td>1</td>\n",
       "      <td>-1</td>\n",
       "      <td>0</td>\n",
       "      <td>1</td>\n",
       "      <td>1</td>\n",
       "      <td>0</td>\n",
       "      <td>1</td>\n",
       "      <td>-1</td>\n",
       "      <td>-1</td>\n",
       "    </tr>\n",
       "    <tr>\n",
       "      <th>4</th>\n",
       "      <td>1</td>\n",
       "      <td>0</td>\n",
       "      <td>1</td>\n",
       "      <td>-1</td>\n",
       "      <td>1</td>\n",
       "      <td>0</td>\n",
       "      <td>-1</td>\n",
       "      <td>-1</td>\n",
       "      <td>1</td>\n",
       "    </tr>\n",
       "    <tr>\n",
       "      <th>...</th>\n",
       "      <td>...</td>\n",
       "      <td>...</td>\n",
       "      <td>...</td>\n",
       "      <td>...</td>\n",
       "      <td>...</td>\n",
       "      <td>...</td>\n",
       "      <td>...</td>\n",
       "      <td>...</td>\n",
       "      <td>...</td>\n",
       "    </tr>\n",
       "    <tr>\n",
       "      <th>121</th>\n",
       "      <td>-1</td>\n",
       "      <td>1</td>\n",
       "      <td>1</td>\n",
       "      <td>1</td>\n",
       "      <td>-1</td>\n",
       "      <td>-1</td>\n",
       "      <td>1</td>\n",
       "      <td>0</td>\n",
       "      <td>0</td>\n",
       "    </tr>\n",
       "    <tr>\n",
       "      <th>122</th>\n",
       "      <td>0</td>\n",
       "      <td>1</td>\n",
       "      <td>0</td>\n",
       "      <td>1</td>\n",
       "      <td>0</td>\n",
       "      <td>0</td>\n",
       "      <td>0</td>\n",
       "      <td>-1</td>\n",
       "      <td>0</td>\n",
       "    </tr>\n",
       "    <tr>\n",
       "      <th>123</th>\n",
       "      <td>0</td>\n",
       "      <td>0</td>\n",
       "      <td>1</td>\n",
       "      <td>0</td>\n",
       "      <td>0</td>\n",
       "      <td>0</td>\n",
       "      <td>0</td>\n",
       "      <td>-1</td>\n",
       "      <td>1</td>\n",
       "    </tr>\n",
       "    <tr>\n",
       "      <th>124</th>\n",
       "      <td>0</td>\n",
       "      <td>-1</td>\n",
       "      <td>0</td>\n",
       "      <td>1</td>\n",
       "      <td>0</td>\n",
       "      <td>-1</td>\n",
       "      <td>0</td>\n",
       "      <td>1</td>\n",
       "      <td>1</td>\n",
       "    </tr>\n",
       "    <tr>\n",
       "      <th>125</th>\n",
       "      <td>1</td>\n",
       "      <td>0</td>\n",
       "      <td>0</td>\n",
       "      <td>0</td>\n",
       "      <td>1</td>\n",
       "      <td>0</td>\n",
       "      <td>0</td>\n",
       "      <td>-1</td>\n",
       "      <td>0</td>\n",
       "    </tr>\n",
       "  </tbody>\n",
       "</table>\n",
       "<p>126 rows × 9 columns</p>\n",
       "</div>"
      ],
      "text/plain": [
       "     J1  J2  J3  J4  J5  J6  J7  J8  J9\n",
       "0    -1  -1   1   0   1  -1   1   1   0\n",
       "1     1  -1   0  -1   1  -1   0   1   1\n",
       "2    -1  -1   1   0   1   1   1  -1   0\n",
       "3     1  -1   0   1   1   0   1  -1  -1\n",
       "4     1   0   1  -1   1   0  -1  -1   1\n",
       "..   ..  ..  ..  ..  ..  ..  ..  ..  ..\n",
       "121  -1   1   1   1  -1  -1   1   0   0\n",
       "122   0   1   0   1   0   0   0  -1   0\n",
       "123   0   0   1   0   0   0   0  -1   1\n",
       "124   0  -1   0   1   0  -1   0   1   1\n",
       "125   1   0   0   0   1   0   0  -1   0\n",
       "\n",
       "[126 rows x 9 columns]"
      ]
     },
     "execution_count": 4,
     "metadata": {},
     "output_type": "execute_result"
    }
   ],
   "source": [
    "# Filtrando as features que serão passadas para predição\n",
    "X = df_treino.drop(columns=['Resultado'])\n",
    "X"
   ]
  },
  {
   "cell_type": "code",
   "execution_count": 5,
   "metadata": {},
   "outputs": [
    {
     "data": {
      "text/plain": [
       "array([ 1,  1,  1,  1,  1,  1,  1,  1,  1,  1,  1,  1,  1,  1,  1,  1,  1,\n",
       "        1,  1,  1,  1,  1,  1,  1,  1,  1,  1,  1,  1,  1,  1,  1,  1,  1,\n",
       "        1,  1,  1,  1,  1,  1, -1, -1, -1, -1, -1, -1, -1, -1, -1, -1, -1,\n",
       "       -1, -1, -1, -1, -1, -1, -1, -1, -1, -1, -1, -1, -1, -1, -1, -1, -1,\n",
       "       -1, -1, -1, -1, -1, -1, -1, -1, -1, -1, -1, -1,  2,  2,  2,  2,  2,\n",
       "        2,  0,  0,  0,  0,  0,  0,  0,  0,  0,  0,  0,  0,  0,  0,  0,  0,\n",
       "        0,  0,  0,  0,  0,  0,  0,  0,  0,  0,  0,  0,  0,  0,  0,  0,  0,\n",
       "        0,  0,  0,  0,  0,  0,  0], dtype=int64)"
      ]
     },
     "execution_count": 5,
     "metadata": {},
     "output_type": "execute_result"
    }
   ],
   "source": [
    "# Obtendo as labels do dataset de treino\n",
    "Y = df_treino.drop(columns=['J1', 'J2', 'J3', 'J4', 'J5', 'J6', 'J7', 'J8', 'J9'])['Resultado'].values\n",
    "Y"
   ]
  },
  {
   "cell_type": "code",
   "execution_count": 6,
   "metadata": {},
   "outputs": [
    {
     "data": {
      "text/html": [
       "<style>#sk-container-id-1 {color: black;}#sk-container-id-1 pre{padding: 0;}#sk-container-id-1 div.sk-toggleable {background-color: white;}#sk-container-id-1 label.sk-toggleable__label {cursor: pointer;display: block;width: 100%;margin-bottom: 0;padding: 0.3em;box-sizing: border-box;text-align: center;}#sk-container-id-1 label.sk-toggleable__label-arrow:before {content: \"▸\";float: left;margin-right: 0.25em;color: #696969;}#sk-container-id-1 label.sk-toggleable__label-arrow:hover:before {color: black;}#sk-container-id-1 div.sk-estimator:hover label.sk-toggleable__label-arrow:before {color: black;}#sk-container-id-1 div.sk-toggleable__content {max-height: 0;max-width: 0;overflow: hidden;text-align: left;background-color: #f0f8ff;}#sk-container-id-1 div.sk-toggleable__content pre {margin: 0.2em;color: black;border-radius: 0.25em;background-color: #f0f8ff;}#sk-container-id-1 input.sk-toggleable__control:checked~div.sk-toggleable__content {max-height: 200px;max-width: 100%;overflow: auto;}#sk-container-id-1 input.sk-toggleable__control:checked~label.sk-toggleable__label-arrow:before {content: \"▾\";}#sk-container-id-1 div.sk-estimator input.sk-toggleable__control:checked~label.sk-toggleable__label {background-color: #d4ebff;}#sk-container-id-1 div.sk-label input.sk-toggleable__control:checked~label.sk-toggleable__label {background-color: #d4ebff;}#sk-container-id-1 input.sk-hidden--visually {border: 0;clip: rect(1px 1px 1px 1px);clip: rect(1px, 1px, 1px, 1px);height: 1px;margin: -1px;overflow: hidden;padding: 0;position: absolute;width: 1px;}#sk-container-id-1 div.sk-estimator {font-family: monospace;background-color: #f0f8ff;border: 1px dotted black;border-radius: 0.25em;box-sizing: border-box;margin-bottom: 0.5em;}#sk-container-id-1 div.sk-estimator:hover {background-color: #d4ebff;}#sk-container-id-1 div.sk-parallel-item::after {content: \"\";width: 100%;border-bottom: 1px solid gray;flex-grow: 1;}#sk-container-id-1 div.sk-label:hover label.sk-toggleable__label {background-color: #d4ebff;}#sk-container-id-1 div.sk-serial::before {content: \"\";position: absolute;border-left: 1px solid gray;box-sizing: border-box;top: 0;bottom: 0;left: 50%;z-index: 0;}#sk-container-id-1 div.sk-serial {display: flex;flex-direction: column;align-items: center;background-color: white;padding-right: 0.2em;padding-left: 0.2em;position: relative;}#sk-container-id-1 div.sk-item {position: relative;z-index: 1;}#sk-container-id-1 div.sk-parallel {display: flex;align-items: stretch;justify-content: center;background-color: white;position: relative;}#sk-container-id-1 div.sk-item::before, #sk-container-id-1 div.sk-parallel-item::before {content: \"\";position: absolute;border-left: 1px solid gray;box-sizing: border-box;top: 0;bottom: 0;left: 50%;z-index: -1;}#sk-container-id-1 div.sk-parallel-item {display: flex;flex-direction: column;z-index: 1;position: relative;background-color: white;}#sk-container-id-1 div.sk-parallel-item:first-child::after {align-self: flex-end;width: 50%;}#sk-container-id-1 div.sk-parallel-item:last-child::after {align-self: flex-start;width: 50%;}#sk-container-id-1 div.sk-parallel-item:only-child::after {width: 0;}#sk-container-id-1 div.sk-dashed-wrapped {border: 1px dashed gray;margin: 0 0.4em 0.5em 0.4em;box-sizing: border-box;padding-bottom: 0.4em;background-color: white;}#sk-container-id-1 div.sk-label label {font-family: monospace;font-weight: bold;display: inline-block;line-height: 1.2em;}#sk-container-id-1 div.sk-label-container {text-align: center;}#sk-container-id-1 div.sk-container {/* jupyter's `normalize.less` sets `[hidden] { display: none; }` but bootstrap.min.css set `[hidden] { display: none !important; }` so we also need the `!important` here to be able to override the default hidden behavior on the sphinx rendered scikit-learn.org. See: https://github.com/scikit-learn/scikit-learn/issues/21755 */display: inline-block !important;position: relative;}#sk-container-id-1 div.sk-text-repr-fallback {display: none;}</style><div id=\"sk-container-id-1\" class=\"sk-top-container\"><div class=\"sk-text-repr-fallback\"><pre>DecisionTreeClassifier()</pre><b>In a Jupyter environment, please rerun this cell to show the HTML representation or trust the notebook. <br />On GitHub, the HTML representation is unable to render, please try loading this page with nbviewer.org.</b></div><div class=\"sk-container\" hidden><div class=\"sk-item\"><div class=\"sk-estimator sk-toggleable\"><input class=\"sk-toggleable__control sk-hidden--visually\" id=\"sk-estimator-id-1\" type=\"checkbox\" checked><label for=\"sk-estimator-id-1\" class=\"sk-toggleable__label sk-toggleable__label-arrow\">DecisionTreeClassifier</label><div class=\"sk-toggleable__content\"><pre>DecisionTreeClassifier()</pre></div></div></div></div></div>"
      ],
      "text/plain": [
       "DecisionTreeClassifier()"
      ]
     },
     "execution_count": 6,
     "metadata": {},
     "output_type": "execute_result"
    }
   ],
   "source": [
    "# Criação do Classificador\n",
    "clf = tree.DecisionTreeClassifier()\n",
    "\n",
    "# Treino do algoritmo\n",
    "clf.fit(X.values,Y)"
   ]
  },
  {
   "cell_type": "code",
   "execution_count": 7,
   "metadata": {},
   "outputs": [
    {
     "data": {
      "text/plain": [
       "[Text(0.47875, 0.9375, 'x[0] <= -0.5\\ngini = 0.695\\nsamples = 126\\nvalue = [40, 40, 40, 6]'),\n",
       " Text(0.2275, 0.8125, 'x[4] <= 0.5\\ngini = 0.626\\nsamples = 54\\nvalue = [29, 11, 11, 3]'),\n",
       " Text(0.08, 0.6875, 'x[8] <= -0.5\\ngini = 0.408\\nsamples = 28\\nvalue = [20, 8, 0, 0]'),\n",
       " Text(0.06, 0.5625, 'gini = 0.0\\nsamples = 12\\nvalue = [12, 0, 0, 0]'),\n",
       " Text(0.1, 0.5625, 'x[1] <= -0.5\\ngini = 0.5\\nsamples = 16\\nvalue = [8, 8, 0, 0]'),\n",
       " Text(0.06, 0.4375, 'x[8] <= 0.5\\ngini = 0.245\\nsamples = 7\\nvalue = [6, 1, 0, 0]'),\n",
       " Text(0.04, 0.3125, 'x[2] <= -0.5\\ngini = 0.444\\nsamples = 3\\nvalue = [2, 1, 0, 0]'),\n",
       " Text(0.02, 0.1875, 'gini = 0.0\\nsamples = 2\\nvalue = [2, 0, 0, 0]'),\n",
       " Text(0.06, 0.1875, 'gini = 0.0\\nsamples = 1\\nvalue = [0, 1, 0, 0]'),\n",
       " Text(0.08, 0.3125, 'gini = 0.0\\nsamples = 4\\nvalue = [4, 0, 0, 0]'),\n",
       " Text(0.14, 0.4375, 'x[3] <= -0.5\\ngini = 0.346\\nsamples = 9\\nvalue = [2, 7, 0, 0]'),\n",
       " Text(0.12, 0.3125, 'x[6] <= -0.5\\ngini = 0.444\\nsamples = 3\\nvalue = [2, 1, 0, 0]'),\n",
       " Text(0.1, 0.1875, 'gini = 0.0\\nsamples = 2\\nvalue = [2, 0, 0, 0]'),\n",
       " Text(0.14, 0.1875, 'gini = 0.0\\nsamples = 1\\nvalue = [0, 1, 0, 0]'),\n",
       " Text(0.16, 0.3125, 'gini = 0.0\\nsamples = 6\\nvalue = [0, 6, 0, 0]'),\n",
       " Text(0.375, 0.6875, 'x[2] <= 0.5\\ngini = 0.675\\nsamples = 26\\nvalue = [9, 3, 11, 3]'),\n",
       " Text(0.27, 0.5625, 'x[1] <= 0.5\\ngini = 0.612\\nsamples = 14\\nvalue = [8, 2, 2, 2]'),\n",
       " Text(0.22, 0.4375, 'x[7] <= 0.5\\ngini = 0.245\\nsamples = 7\\nvalue = [6, 1, 0, 0]'),\n",
       " Text(0.2, 0.3125, 'gini = 0.0\\nsamples = 5\\nvalue = [5, 0, 0, 0]'),\n",
       " Text(0.24, 0.3125, 'x[8] <= -0.5\\ngini = 0.5\\nsamples = 2\\nvalue = [1, 1, 0, 0]'),\n",
       " Text(0.22, 0.1875, 'gini = 0.0\\nsamples = 1\\nvalue = [1, 0, 0, 0]'),\n",
       " Text(0.26, 0.1875, 'gini = 0.0\\nsamples = 1\\nvalue = [0, 1, 0, 0]'),\n",
       " Text(0.32, 0.4375, 'x[7] <= -0.5\\ngini = 0.735\\nsamples = 7\\nvalue = [2, 1, 2, 2]'),\n",
       " Text(0.3, 0.3125, 'gini = 0.0\\nsamples = 2\\nvalue = [0, 0, 0, 2]'),\n",
       " Text(0.34, 0.3125, 'x[5] <= 0.5\\ngini = 0.64\\nsamples = 5\\nvalue = [2, 1, 2, 0]'),\n",
       " Text(0.3, 0.1875, 'x[7] <= 0.5\\ngini = 0.444\\nsamples = 3\\nvalue = [2, 0, 1, 0]'),\n",
       " Text(0.28, 0.0625, 'gini = 0.0\\nsamples = 2\\nvalue = [2, 0, 0, 0]'),\n",
       " Text(0.32, 0.0625, 'gini = 0.0\\nsamples = 1\\nvalue = [0, 0, 1, 0]'),\n",
       " Text(0.38, 0.1875, 'x[8] <= 0.5\\ngini = 0.5\\nsamples = 2\\nvalue = [0, 1, 1, 0]'),\n",
       " Text(0.36, 0.0625, 'gini = 0.0\\nsamples = 1\\nvalue = [0, 0, 1, 0]'),\n",
       " Text(0.4, 0.0625, 'gini = 0.0\\nsamples = 1\\nvalue = [0, 1, 0, 0]'),\n",
       " Text(0.48, 0.5625, 'x[6] <= -0.5\\ngini = 0.417\\nsamples = 12\\nvalue = [1, 1, 9, 1]'),\n",
       " Text(0.46, 0.4375, 'x[8] <= 0.0\\ngini = 0.667\\nsamples = 3\\nvalue = [1, 1, 0, 1]'),\n",
       " Text(0.44, 0.3125, 'x[3] <= 0.5\\ngini = 0.5\\nsamples = 2\\nvalue = [0, 1, 0, 1]'),\n",
       " Text(0.42, 0.1875, 'gini = 0.0\\nsamples = 1\\nvalue = [0, 1, 0, 0]'),\n",
       " Text(0.46, 0.1875, 'gini = 0.0\\nsamples = 1\\nvalue = [0, 0, 0, 1]'),\n",
       " Text(0.48, 0.3125, 'gini = 0.0\\nsamples = 1\\nvalue = [1, 0, 0, 0]'),\n",
       " Text(0.5, 0.4375, 'gini = 0.0\\nsamples = 9\\nvalue = [0, 0, 9, 0]'),\n",
       " Text(0.73, 0.8125, 'x[0] <= 0.5\\ngini = 0.65\\nsamples = 72\\nvalue = [11, 29, 29, 3]'),\n",
       " Text(0.71, 0.6875, 'gini = 0.0\\nsamples = 17\\nvalue = [0, 17, 0, 0]'),\n",
       " Text(0.75, 0.6875, 'x[4] <= -0.5\\ngini = 0.631\\nsamples = 55\\nvalue = [11, 12, 29, 3]'),\n",
       " Text(0.61, 0.5625, 'x[2] <= -0.5\\ngini = 0.637\\nsamples = 25\\nvalue = [11, 5, 9, 0]'),\n",
       " Text(0.54, 0.4375, 'x[6] <= -0.5\\ngini = 0.403\\nsamples = 12\\nvalue = [9, 2, 1, 0]'),\n",
       " Text(0.52, 0.3125, 'gini = 0.0\\nsamples = 8\\nvalue = [8, 0, 0, 0]'),\n",
       " Text(0.56, 0.3125, 'x[8] <= -0.5\\ngini = 0.625\\nsamples = 4\\nvalue = [1, 2, 1, 0]'),\n",
       " Text(0.54, 0.1875, 'x[3] <= 0.5\\ngini = 0.5\\nsamples = 2\\nvalue = [1, 0, 1, 0]'),\n",
       " Text(0.52, 0.0625, 'gini = 0.0\\nsamples = 1\\nvalue = [1, 0, 0, 0]'),\n",
       " Text(0.56, 0.0625, 'gini = 0.0\\nsamples = 1\\nvalue = [0, 0, 1, 0]'),\n",
       " Text(0.58, 0.1875, 'gini = 0.0\\nsamples = 2\\nvalue = [0, 2, 0, 0]'),\n",
       " Text(0.68, 0.4375, 'x[2] <= 0.5\\ngini = 0.544\\nsamples = 13\\nvalue = [2, 3, 8, 0]'),\n",
       " Text(0.64, 0.3125, 'x[6] <= 0.5\\ngini = 0.611\\nsamples = 6\\nvalue = [1, 3, 2, 0]'),\n",
       " Text(0.62, 0.1875, 'x[1] <= 0.0\\ngini = 0.375\\nsamples = 4\\nvalue = [1, 3, 0, 0]'),\n",
       " Text(0.6, 0.0625, 'gini = 0.0\\nsamples = 1\\nvalue = [1, 0, 0, 0]'),\n",
       " Text(0.64, 0.0625, 'gini = 0.0\\nsamples = 3\\nvalue = [0, 3, 0, 0]'),\n",
       " Text(0.66, 0.1875, 'gini = 0.0\\nsamples = 2\\nvalue = [0, 0, 2, 0]'),\n",
       " Text(0.72, 0.3125, 'x[3] <= -0.5\\ngini = 0.245\\nsamples = 7\\nvalue = [1, 0, 6, 0]'),\n",
       " Text(0.7, 0.1875, 'x[6] <= 0.0\\ngini = 0.5\\nsamples = 2\\nvalue = [1, 0, 1, 0]'),\n",
       " Text(0.68, 0.0625, 'gini = 0.0\\nsamples = 1\\nvalue = [0, 0, 1, 0]'),\n",
       " Text(0.72, 0.0625, 'gini = 0.0\\nsamples = 1\\nvalue = [1, 0, 0, 0]'),\n",
       " Text(0.74, 0.1875, 'gini = 0.0\\nsamples = 5\\nvalue = [0, 0, 5, 0]'),\n",
       " Text(0.89, 0.5625, 'x[8] <= 0.5\\ngini = 0.491\\nsamples = 30\\nvalue = [0, 7, 20, 3]'),\n",
       " Text(0.84, 0.4375, 'x[1] <= 0.5\\ngini = 0.623\\nsamples = 17\\nvalue = [0, 6, 8, 3]'),\n",
       " Text(0.8, 0.3125, 'x[6] <= -0.5\\ngini = 0.56\\nsamples = 10\\nvalue = [0, 6, 2, 2]'),\n",
       " Text(0.78, 0.1875, 'gini = 0.0\\nsamples = 2\\nvalue = [0, 0, 0, 2]'),\n",
       " Text(0.82, 0.1875, 'x[3] <= 0.5\\ngini = 0.375\\nsamples = 8\\nvalue = [0, 6, 2, 0]'),\n",
       " Text(0.8, 0.0625, 'gini = 0.0\\nsamples = 6\\nvalue = [0, 6, 0, 0]'),\n",
       " Text(0.84, 0.0625, 'gini = 0.0\\nsamples = 2\\nvalue = [0, 0, 2, 0]'),\n",
       " Text(0.88, 0.3125, 'x[5] <= 0.5\\ngini = 0.245\\nsamples = 7\\nvalue = [0, 0, 6, 1]'),\n",
       " Text(0.86, 0.1875, 'gini = 0.0\\nsamples = 6\\nvalue = [0, 0, 6, 0]'),\n",
       " Text(0.9, 0.1875, 'gini = 0.0\\nsamples = 1\\nvalue = [0, 0, 0, 1]'),\n",
       " Text(0.94, 0.4375, 'x[3] <= -0.5\\ngini = 0.142\\nsamples = 13\\nvalue = [0, 1, 12, 0]'),\n",
       " Text(0.92, 0.3125, 'gini = 0.0\\nsamples = 9\\nvalue = [0, 0, 9, 0]'),\n",
       " Text(0.96, 0.3125, 'x[7] <= -0.5\\ngini = 0.375\\nsamples = 4\\nvalue = [0, 1, 3, 0]'),\n",
       " Text(0.94, 0.1875, 'gini = 0.0\\nsamples = 3\\nvalue = [0, 0, 3, 0]'),\n",
       " Text(0.98, 0.1875, 'gini = 0.0\\nsamples = 1\\nvalue = [0, 1, 0, 0]')]"
      ]
     },
     "execution_count": 7,
     "metadata": {},
     "output_type": "execute_result"
    },
    {
     "data": {
      "image/png": "[encoded data removed]",
      "text/plain": [
       "<Figure size 640x480 with 1 Axes>"
      ]
     },
     "metadata": {},
     "output_type": "display_data"
    }
   ],
   "source": [
    "# Plotando a árvore de decisão\n",
    "tree.plot_tree(clf)"
   ]
  },
  {
   "cell_type": "code",
   "execution_count": null,
   "metadata": {},
   "outputs": [],
   "source": [
    "# Criação das predições a partir da base de validação\n",
    "predicao = clf.predict(X)\n",
    "\n",
    "# Calculando a acurácia\n",
    "acuracia = accuracy_score(Y, predicao)\n",
    "print(\"Acurácia: {:.2f}\".format(acuracia))"
   ]
  },
  {
   "cell_type": "markdown",
   "metadata": {},
   "source": [
    "#### **Validação**"
   ]
  },
  {
   "cell_type": "code",
   "execution_count": 9,
   "metadata": {},
   "outputs": [
    {
     "data": {
      "text/plain": [
       "array([[ 1,  0,  0, ...,  1, -1,  0],\n",
       "       [ 1,  1,  1, ..., -1, -1,  0],\n",
       "       [ 1, -1,  0, ...,  1, -1,  1],\n",
       "       ...,\n",
       "       [ 1,  0, -1, ...,  0,  1,  0],\n",
       "       [ 0, -1,  0, ...,  1,  0,  1],\n",
       "       [ 0,  0,  0, ...,  0,  0,  0]])"
      ]
     },
     "execution_count": 9,
     "metadata": {},
     "output_type": "execute_result"
    }
   ],
   "source": [
    "# Filtrando as features que serão passadas para predição\n",
    "X_valid = df_validacao.drop(columns=['Resultado'])\n",
    "X_valid = X_valid.values\n",
    "X_valid"
   ]
  },
  {
   "cell_type": "code",
   "execution_count": 10,
   "metadata": {},
   "outputs": [
    {
     "data": {
      "text/plain": [
       "array([ 1,  1,  1,  1,  1,  1,  1,  1,  1,  1,  1,  1,  1,  1,  1,  1,  1,\n",
       "        1,  1,  1,  1,  1,  1,  1,  1,  1,  1,  1,  1,  1,  1,  1,  1,  1,\n",
       "        1,  1,  1,  1,  1,  1, -1, -1, -1, -1, -1, -1, -1, -1, -1, -1, -1,\n",
       "       -1, -1, -1, -1, -1, -1, -1, -1, -1, -1, -1, -1, -1, -1, -1, -1, -1,\n",
       "       -1, -1, -1, -1, -1, -1, -1, -1, -1, -1, -1, -1,  2,  2,  2,  2,  2,\n",
       "        2,  2,  0,  0,  0,  0,  0,  0,  0,  0,  0,  0,  0,  0,  0,  0,  0,\n",
       "        0,  0,  0,  0,  0,  0,  0,  0,  0,  0,  0,  0,  0,  0,  0,  0,  0,\n",
       "        0,  0,  0,  0,  0,  0,  0,  0])"
      ]
     },
     "execution_count": 10,
     "metadata": {},
     "output_type": "execute_result"
    }
   ],
   "source": [
    "# Obtendo as labels do dataset de validação\n",
    "Y_valid = df_validacao.drop(columns=['J1', 'J2', 'J3', 'J4', 'J5', 'J6', 'J7', 'J8', 'J9'])['Resultado'].values\n",
    "Y_valid"
   ]
  },
  {
   "cell_type": "code",
   "execution_count": 11,
   "metadata": {},
   "outputs": [
    {
     "name": "stdout",
     "output_type": "stream",
     "text": [
      "Acurácia: 0.62\n"
     ]
    }
   ],
   "source": [
    "# Criação das predições a partir da base de validação\n",
    "predicao = clf.predict(X_valid)\n",
    "\n",
    "# Calcular a acurácia\n",
    "acuracia = accuracy_score(Y_valid, predicao)\n",
    "print(\"Acurácia: {:.2f}\".format(acuracia))"
   ]
  },
  {
   "cell_type": "markdown",
   "metadata": {},
   "source": [
    "#### **Teste**"
   ]
  },
  {
   "cell_type": "code",
   "execution_count": 13,
   "metadata": {},
   "outputs": [
    {
     "data": {
      "text/plain": [
       "array([[-1, -1,  1, ...,  1,  1,  0],\n",
       "       [ 1, -1,  0, ...,  0,  1,  1],\n",
       "       [-1, -1,  1, ...,  1, -1,  0],\n",
       "       ...,\n",
       "       [ 0,  0,  1, ...,  0, -1,  1],\n",
       "       [ 0, -1,  0, ...,  0,  1,  1],\n",
       "       [ 1,  0,  0, ...,  0, -1,  0]])"
      ]
     },
     "execution_count": 13,
     "metadata": {},
     "output_type": "execute_result"
    }
   ],
   "source": [
    "# Filtrando as features que serão passadas para predição\n",
    "X_test = df_teste.drop(columns=['Resultado'])\n",
    "X_test = X_test.values\n",
    "X_test"
   ]
  },
  {
   "cell_type": "code",
   "execution_count": 14,
   "metadata": {},
   "outputs": [
    {
     "data": {
      "text/plain": [
       "array([ 1,  1,  1,  1,  1,  1,  1,  1,  1,  1,  1,  1,  1,  1,  1,  1,  1,\n",
       "        1,  1,  1,  1,  1,  1,  1,  1,  1,  1,  1,  1,  1,  1,  1,  1,  1,\n",
       "        1,  1,  1,  1,  1,  1, -1, -1, -1, -1, -1, -1, -1, -1, -1, -1, -1,\n",
       "       -1, -1, -1, -1, -1, -1, -1, -1, -1, -1, -1, -1, -1, -1, -1, -1, -1,\n",
       "       -1, -1, -1, -1, -1, -1, -1, -1, -1, -1, -1, -1,  2,  2,  2,  2,  2,\n",
       "        2,  0,  0,  0,  0,  0,  0,  0,  0,  0,  0,  0,  0,  0,  0,  0,  0,\n",
       "        0,  0,  0,  0,  0,  0,  0,  0,  0,  0,  0,  0,  0,  0,  0,  0,  0,\n",
       "        0,  0,  0,  0,  0,  0,  0])"
      ]
     },
     "execution_count": 14,
     "metadata": {},
     "output_type": "execute_result"
    }
   ],
   "source": [
    "# Obtendo as labels do dataset de teste\n",
    "Y_test = df_teste.drop(columns=['J1', 'J2', 'J3', 'J4', 'J5', 'J6', 'J7', 'J8', 'J9'])['Resultado'].values\n",
    "Y_test"
   ]
  },
  {
   "cell_type": "code",
   "execution_count": 15,
   "metadata": {},
   "outputs": [
    {
     "name": "stdout",
     "output_type": "stream",
     "text": [
      "Acurácia: 1.00\n"
     ]
    }
   ],
   "source": [
    "# Criação das predições a partir da base de validação\n",
    "predicao = clf.predict(X_test)\n",
    "\n",
    "# Calcular a acurácia\n",
    "acuracia = accuracy_score(Y_test, predicao)\n",
    "print(\"Acurácia: {:.2f}\".format(acuracia))"
   ]
  },
  {
   "cell_type": "code",
   "execution_count": 16,
   "metadata": {},
   "outputs": [
    {
     "name": "stdout",
     "output_type": "stream",
     "text": [
      "Relatório de Classificação:\n",
      "                 precision    recall  f1-score   support\n",
      "\n",
      "      O ganhou       1.00      1.00      1.00        40\n",
      "        Empate       1.00      1.00      1.00        40\n",
      "      X ganhou       1.00      1.00      1.00        40\n",
      "Ainda tem jogo       1.00      1.00      1.00         6\n",
      "\n",
      "      accuracy                           1.00       126\n",
      "     macro avg       1.00      1.00      1.00       126\n",
      "  weighted avg       1.00      1.00      1.00       126\n",
      "\n"
     ]
    }
   ],
   "source": [
    "# Nomes das classes\n",
    "nomes_classes = [\"O ganhou\",\"Empate\",\"X ganhou\",\"Ainda tem jogo\"]\n",
    "\n",
    "# Calcular e imprimir o relatório de classificação\n",
    "relatorio_classificacao = classification_report(Y_test, predicao, target_names=nomes_classes)\n",
    "print(\"Relatório de Classificação:\\n\", relatorio_classificacao)"
   ]
  }
 ],
 "metadata": {
  "kernelspec": {
   "display_name": "base",
   "language": "python",
   "name": "python3"
  },
  "language_info": {
   "codemirror_mode": {
    "name": "ipython",
    "version": 3
   },
   "file_extension": ".py",
   "mimetype": "text/x-python",
   "name": "python",
   "nbconvert_exporter": "python",
   "pygments_lexer": "ipython3",
   "version": "3.11.5"
  }
 },
 "nbformat": 4,
 "nbformat_minor": 2
}
