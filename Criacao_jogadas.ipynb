{
 "cells": [
  {
   "cell_type": "code",
   "execution_count": 1,
   "metadata": {},
   "outputs": [],
   "source": [
    "import numpy as np"
   ]
  },
  {
   "cell_type": "markdown",
   "metadata": {},
   "source": [
    "Arquivo criado para **teste** de códigos para realização de jogadas, caso tenha um bom resultado, será implementado nos algoritmos de IA para realizar os testes das jogadas"
   ]
  },
  {
   "cell_type": "code",
   "execution_count": 2,
   "metadata": {},
   "outputs": [],
   "source": [
    "# Função para verificar se as linhas são iguais\n",
    "def verif_linhas(array):\n",
    "    for linha in array:\n",
    "        # Verificando se os elementos da linha são iguais exceto zero\n",
    "        if (np.all(linha == 1) or np.all(linha == -1)) and np.any(linha != 0): \n",
    "           return linha[0] # Retornando o valor do ganhador: 1 ou -1\n",
    "       \n",
    "    return False\n",
    "\n",
    "# Função para verificar se as colunas são iguais          \n",
    "def verif_colunas(array):\n",
    "    # Transpondo o array para verificar colunas como se fossem linhas\n",
    "    for coluna in array.T:  \n",
    "        # Verificando se os elementos da coluna são iguais exceto zero\n",
    "        if (np.all(coluna == 1) or np.all(coluna == -1)) and np.any(coluna != 0): \n",
    "            return coluna[0] # Retornando o valor do ganhador: 1 ou -1\n",
    "        \n",
    "    return False\n",
    "\n",
    "# Função para verificar se a diagonal principal são iguais\n",
    "def verif_diag_principal(array):\n",
    "    diagonal_principal = np.diag(array)  # Diagonal principal\n",
    "    # Verificando se os elementos da diagonal principal são iguais exceto zero\n",
    "    if (np.all(diagonal_principal == 1) or np.all(diagonal_principal == -1))  and np.all(diagonal_principal!=0) :\n",
    "        return diagonal_principal[0] # Retornando o valor do ganhador: 1 ou -1\n",
    "    \n",
    "    return False\n",
    "\n",
    "# Função para verificar se a diagonal secundária são iguais\n",
    "def verif_diag_secundaria(array):\n",
    "    diagonal_secundaria = np.diag(np.fliplr(array))  # Diagonal secundária (flipping array)\n",
    "    # Verificando se os elementos da diagonal secundária são iguais exceto zero\n",
    "    if (np.all(diagonal_secundaria == 1) or np.all(diagonal_secundaria==-1))  and np.all(diagonal_secundaria!=0): \n",
    "        return diagonal_secundaria[0] # Retornando o valor do ganhador: 1 ou -1\n",
    "    \n",
    "    return False\n",
    "\n",
    "def get_vencedor(lista_respostas):\n",
    "    for valor in lista_respostas:\n",
    "        # Transormando cada valor em uma string, verifica-se se o valor é numérico (1 ou -1)\n",
    "        valor = str(valor)\n",
    "        if valor.isnumeric():\n",
    "            # Condicional para determinar qual valor retorna\n",
    "            if valor == \"1\":\n",
    "                return \"X\"\n",
    "            else:\n",
    "                return \"Y\"\n",
    "\n",
    "def status_jogo(jogada):\n",
    "    # Conversão do array que está sendo usado como parâmetro em uma matriz de 3x3\n",
    "    jogada = np.array(jogada).reshape(3,3)\n",
    "    \n",
    "    # Criando uma lista com os retornos das funções verificadoras de cada jogada, o resultado é um array de 4 elementos. Ex: [1,False,False,False]\n",
    "    lista_resposta = list([verif_colunas(jogada), verif_linhas(jogada), verif_diag_principal(jogada), verif_diag_secundaria(jogada)])\n",
    "    # Se algum dos elementos da lista for diferente de false, a função get_vencedor será chamada\n",
    "    if any(lista_resposta):\n",
    "        valor = get_vencedor(lista_resposta)\n",
    "        return valor + \" VENCEU!\"\n",
    "    # Condicional para verificar se os únicos valores preenchidos no tabuleiro são 1 e -1\n",
    "    elif len(np.unique(jogada)) == 2 and 0 not in np.unique(jogada):\n",
    "        return \"EMPATE\"\n",
    "    else:\n",
    "        return \"AINDA TEM JOGO\""
   ]
  },
  {
   "cell_type": "code",
   "execution_count": 3,
   "metadata": {},
   "outputs": [],
   "source": [
    "def get_tabuleiro(jogadas):\n",
    "    # Função para imprimir o tabuleiro de Tic-Tac-Toe\n",
    "    for i in range(0, 9, 3):\n",
    "        linha = jogadas[i:i+3]\n",
    "        print(' | '.join(linha))\n",
    "        if i < 6:\n",
    "            print(\"---------\")  # Separador entre linhas"
   ]
  },
  {
   "cell_type": "code",
   "execution_count": 4,
   "metadata": {},
   "outputs": [
    {
     "name": "stdout",
     "output_type": "stream",
     "text": [
      "0 | 1 | 0\n",
      "---------\n",
      "0 | 1 | 1\n",
      "---------\n",
      "-1 | -1 | 0\n"
     ]
    }
   ],
   "source": [
    "jogada = [0,1,0,0,1,1,-1,-1,0]\n",
    "get_tabuleiro(list(map(str, jogada)))"
   ]
  },
  {
   "cell_type": "markdown",
   "metadata": {},
   "source": [
    "### **Funções para coleta e atualizações de jogadas**"
   ]
  },
  {
   "cell_type": "code",
   "execution_count": 5,
   "metadata": {},
   "outputs": [],
   "source": [
    "def coleta_jogada():\n",
    "    # Coletando os valores por meio de um input\n",
    "    linha, coluna = input(\"Informe a linha e a coluna onde deseja incluir o x. Ex: [1,2]\").split(\",\")\n",
    "    \n",
    "    # Convertendo os valores para inteiro\n",
    "    return int(linha), int(coluna)\n",
    "\n",
    "\n",
    "def ajuste_jogada(jogada,linha,coluna):\n",
    "    # Subtraindo os valores das linhas ou colunas caso o valor seja maior que zero\n",
    "    if linha != 0:\n",
    "        linha -= 1\n",
    "\n",
    "    if coluna != 0:\n",
    "        coluna -= 1\n",
    "        \n",
    "    # print(\"Linha: {} Coluna: {}\".format(linha,coluna))\n",
    "\n",
    "    # Caso a posição informada pelo usuário não esteja preenchida, ele realiza a modificação\n",
    "    if jogada[linha][coluna] != 0:\n",
    "        print (\"Já preenchido\")\n",
    "    else:\n",
    "        jogada[linha][coluna] = 1\n",
    "        print (\"Jogada realizada\")\n",
    "        \n",
    "    return jogada"
   ]
  },
  {
   "cell_type": "code",
   "execution_count": 6,
   "metadata": {},
   "outputs": [
    {
     "name": "stdout",
     "output_type": "stream",
     "text": [
      "[[ 0  1  0]\n",
      " [ 0  1  1]\n",
      " [-1 -1  0]]\n",
      "=====================================\n",
      "\n",
      "Jogada realizada\n",
      "[[ 1  1  0]\n",
      " [ 0  1  1]\n",
      " [-1 -1  0]]\n",
      "AINDA TEM JOGO\n",
      "=====================================\n",
      "\n",
      "Jogada realizada\n",
      "[[ 1  1  0]\n",
      " [ 0  1  1]\n",
      " [-1 -1  1]]\n",
      "X VENCEU!\n",
      "=====================================\n",
      "\n"
     ]
    }
   ],
   "source": [
    "# Convertendo a lista de jogadas em um array 3x3\n",
    "jogada = np.array(jogada).reshape(3,3)\n",
    "\n",
    "finalizar_jogo = False\n",
    "\n",
    "print(jogada)\n",
    "print(\"=====================================\\n\")\n",
    "\n",
    "while not finalizar_jogo:\n",
    "    # Coletando a jogada\n",
    "    linha,coluna = coleta_jogada()\n",
    "    \n",
    "    # Realizando o ajuste da jogada a partir das posições de inserção informadas\n",
    "    jogada = ajuste_jogada(jogada,linha,coluna)\n",
    "    \n",
    "    # Plotando o tabuleiro \n",
    "    # AQUI PRECISA DA FUNÇÃO BONITA PARA EXIBIR O TABULEIRO COM OS X E O\n",
    "    print(jogada)\n",
    "    \n",
    "    \n",
    "    # Obtenção do status do jogo\n",
    "    print(status_jogo(jogada))\n",
    "    print(\"=====================================\\n\")\n",
    "    \n",
    "    # Caso haja um vencedor o loop será encerrado\n",
    "    if status_jogo(jogada) != \"AINDA TEM JOGO\":\n",
    "        finalizar_jogo = True"
   ]
  }
 ],
 "metadata": {
  "kernelspec": {
   "display_name": "base",
   "language": "python",
   "name": "python3"
  },
  "language_info": {
   "codemirror_mode": {
    "name": "ipython",
    "version": 3
   },
   "file_extension": ".py",
   "mimetype": "text/x-python",
   "name": "python",
   "nbconvert_exporter": "python",
   "pygments_lexer": "ipython3",
   "version": "3.11.5"
  }
 },
 "nbformat": 4,
 "nbformat_minor": 2
}
