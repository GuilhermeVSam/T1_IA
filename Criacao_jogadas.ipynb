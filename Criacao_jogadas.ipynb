{
 "cells": [
  {
   "cell_type": "code",
   "execution_count": 7,
   "metadata": {},
   "outputs": [],
   "source": [
    "import numpy as np\n",
    "import pandas as pd\n",
    "import matplotlib.pyplot as plt"
   ]
  },
  {
   "cell_type": "markdown",
   "metadata": {},
   "source": [
    "Arquivo criado para **teste** de códigos para realização de jogadas, caso tenha um bom resultado, será implementado nos algoritmos de IA para realizar os testes das jogadas"
   ]
  },
  {
   "cell_type": "code",
   "execution_count": 8,
   "metadata": {},
   "outputs": [],
   "source": [
    "# Função para verificar se as linhas são iguais\n",
    "def verif_linhas(array):\n",
    "    for linha in array:\n",
    "        # Verificando se os elementos da linha são iguais exceto zero\n",
    "        if (np.all(linha == 1) or np.all(linha == -1)) and np.any(linha != 0): \n",
    "           return str(linha[0]) # Retornando o valor do ganhador: 1 ou -1\n",
    "       \n",
    "    return False\n",
    "\n",
    "# Função para verificar se as colunas são iguais          \n",
    "def verif_colunas(array):\n",
    "    # Transpondo o array para verificar colunas como se fossem linhas\n",
    "    for coluna in array.T:  \n",
    "        # Verificando se os elementos da coluna são iguais exceto zero\n",
    "        if (np.all(coluna == 1) or np.all(coluna == -1)) and np.any(coluna != 0): \n",
    "            return str(coluna[0]) # Retornando o valor do ganhador: 1 ou -1\n",
    "        \n",
    "    return False\n",
    "\n",
    "# Função para verificar se a diagonal principal são iguais\n",
    "def verif_diag_principal(array):\n",
    "    diagonal_principal = np.diag(array)  # Diagonal principal\n",
    "    # Verificando se os elementos da diagonal principal são iguais exceto zero\n",
    "    if (np.all(diagonal_principal == 1) or np.all(diagonal_principal == -1))  and np.all(diagonal_principal!=0) :\n",
    "        return str(diagonal_principal[0]) # Retornando o valor do ganhador: 1 ou -1\n",
    "    \n",
    "    return False\n",
    "\n",
    "# Função para verificar se a diagonal secundária são iguais\n",
    "def verif_diag_secundaria(array):\n",
    "    diagonal_secundaria = np.diag(np.fliplr(array))  # Diagonal secundária (flipping array)\n",
    "    # Verificando se os elementos da diagonal secundária são iguais exceto zero\n",
    "    if (np.all(diagonal_secundaria == 1) or np.all(diagonal_secundaria==-1))  and np.all(diagonal_secundaria!=0): \n",
    "        return str(diagonal_secundaria[0]) # Retornando o valor do ganhador: 1 ou -1\n",
    "    \n",
    "    return False\n",
    "\n",
    "def get_vencedor(lista_respostas):\n",
    "    for valor in lista_respostas:\n",
    "        # Transormando cada valor em uma string, verifica-se se o valor é numérico (1 ou -1)\n",
    "        valor = str(valor)\n",
    "        # if valor.isnumeric():\n",
    "        #     # Condicional para determinar qual valor retorna\n",
    "        if valor == \"1\":\n",
    "            return \"X\"\n",
    "        elif valor == \"-1\":\n",
    "            return \"O\"\n",
    "\n",
    "def status_jogo(jogada):\n",
    "    # Conversão do array que está sendo usado como parâmetro em uma matriz de 3x3\n",
    "    jogada = np.array(jogada).reshape(3,3)\n",
    "    \n",
    "    # Criando uma lista com os retornos das funções verificadoras de cada jogada, o resultado é um array de 4 elementos. Ex: [1,False,False,False]\n",
    "    lista_resposta = list([verif_colunas(jogada), verif_linhas(jogada), verif_diag_principal(jogada), verif_diag_secundaria(jogada)])\n",
    "    # Se algum dos elementos da lista for diferente de false, a função get_vencedor será chamada\n",
    "    if any(lista_resposta):\n",
    "        valor = get_vencedor(lista_resposta)\n",
    "        return valor + \" VENCEU!\"\n",
    "    # Condicional para verificar se os únicos valores preenchidos no tabuleiro são 1 e -1\n",
    "    elif len(np.unique(jogada)) == 2 and 0 not in np.unique(jogada):\n",
    "        return \"EMPATE\"\n",
    "    else:\n",
    "        return \"AINDA TEM JOGO\""
   ]
  },
  {
   "cell_type": "code",
   "execution_count": 9,
   "metadata": {},
   "outputs": [],
   "source": [
    "def get_tabuleiro(jogadas):\n",
    "    # Função para imprimir o tabuleiro de Tic-Tac-Toe\n",
    "    for i in range(0, 9, 3):\n",
    "        linha = jogadas[i:i+3]\n",
    "        print(' | '.join(linha))\n",
    "        if i < 6:\n",
    "            print(\"---------\")  # Separador entre linhas"
   ]
  },
  {
   "cell_type": "code",
   "execution_count": 10,
   "metadata": {},
   "outputs": [],
   "source": [
    "def plot_board(board):\n",
    "    fig, ax = plt.subplots()\n",
    "    ax.set_xlim(0, 3)\n",
    "    ax.set_ylim(0, 3)\n",
    "\n",
    "    plt.plot([1, 1], [0, 3], color='black', linewidth=2)\n",
    "    plt.plot([2, 2], [0, 3], color='black', linewidth=2)\n",
    "    plt.plot([0, 3], [1, 1], color='black', linewidth=2)\n",
    "    plt.plot([0, 3], [2, 2], color='black', linewidth=2)\n",
    "\n",
    "    for i in range(3):\n",
    "        for j in range(3):\n",
    "            mark = board[i][j]\n",
    "            if mark == 1:\n",
    "                plt.text(j + 0.5, 2.5 - i, 'X', fontsize=42, ha='center', va='center', color='black')\n",
    "            elif mark == -1:\n",
    "                plt.text(j + 0.5, 2.5 - i, 'O', fontsize=42, ha='center', va='center', color='black')\n",
    "\n",
    "    ax.set_xticks([])\n",
    "    ax.set_yticks([])\n",
    "    ax.set_aspect('equal')\n",
    "\n",
    "    plt.show()\n"
   ]
  },
  {
   "cell_type": "code",
   "execution_count": 11,
   "metadata": {},
   "outputs": [
    {
     "name": "stdout",
     "output_type": "stream",
     "text": [
      "O VENCEU!\n"
     ]
    }
   ],
   "source": [
    "jogada = [0,0,1,-1,-1,-1,-1,1,1]\n",
    "print(status_jogo(jogada))"
   ]
  },
  {
   "cell_type": "code",
   "execution_count": null,
   "metadata": {},
   "outputs": [],
   "source": [
    "lista_tabuleiros = pd.read_csv(\"teste_vencedor_x.csv\")\n",
    "for index, tabuleiro in lista_tabuleiros.iterrows():\n",
    "    tabuleiro = np.array(list(map(int, tabuleiro['Results'].split(';')[:-1])))\n",
    "    print(f\"Tabuleiro {index+1}:\")\n",
    "    plot_board(list(map(str, tabuleiro)))\n",
    "    print(status_jogo(tabuleiro))\n",
    "    print(\"\\n\")"
   ]
  },
  {
   "cell_type": "markdown",
   "metadata": {},
   "source": [
    "### **Funções para coleta e atualizações de jogadas**"
   ]
  },
  {
   "cell_type": "code",
   "execution_count": 5,
   "metadata": {},
   "outputs": [],
   "source": [
    "def coleta_jogada():\n",
    "    # Coletando os valores por meio de um input\n",
    "    linha, coluna = input(\"Informe a linha e a coluna onde deseja incluir o x. Ex: [1,2]\").split(\",\")\n",
    "    \n",
    "    # Convertendo os valores para inteiro\n",
    "    return int(linha), int(coluna)\n",
    "\n",
    "\n",
    "def ajuste_jogada(jogada,linha,coluna):\n",
    "    # Subtraindo os valores das linhas ou colunas caso o valor seja maior que zero\n",
    "    if linha != 0:\n",
    "        linha -= 1\n",
    "\n",
    "    if coluna != 0:\n",
    "        coluna -= 1\n",
    "        \n",
    "    # print(\"Linha: {} Coluna: {}\".format(linha,coluna))\n",
    "\n",
    "    # Caso a posição informada pelo usuário não esteja preenchida, ele realiza a modificação\n",
    "    if jogada[linha][coluna] != 0:\n",
    "        print (\"Já preenchido\")\n",
    "    else:\n",
    "        jogada[linha][coluna] = 1\n",
    "        print (\"Jogada realizada\")\n",
    "        \n",
    "    return jogada"
   ]
  },
  {
   "cell_type": "code",
   "execution_count": 6,
   "metadata": {},
   "outputs": [
    {
     "ename": "ValueError",
     "evalue": "too many values to unpack (expected 2)",
     "output_type": "error",
     "traceback": [
      "\u001b[0;31m---------------------------------------------------------------------------\u001b[0m",
      "\u001b[0;31mValueError\u001b[0m                                Traceback (most recent call last)",
      "Cell \u001b[0;32mIn[6], line 15\u001b[0m\n\u001b[1;32m     13\u001b[0m clear_output(wait\u001b[38;5;241m=\u001b[39m\u001b[38;5;28;01mTrue\u001b[39;00m)\n\u001b[1;32m     14\u001b[0m \u001b[38;5;66;03m# Coletando a jogada\u001b[39;00m\n\u001b[0;32m---> 15\u001b[0m linha,coluna \u001b[38;5;241m=\u001b[39m \u001b[43mcoleta_jogada\u001b[49m\u001b[43m(\u001b[49m\u001b[43m)\u001b[49m\n\u001b[1;32m     17\u001b[0m \u001b[38;5;66;03m# Realizando o ajuste da jogada a partir das posições de inserção informadas\u001b[39;00m\n\u001b[1;32m     18\u001b[0m jogada \u001b[38;5;241m=\u001b[39m ajuste_jogada(jogada,linha,coluna)\n",
      "Cell \u001b[0;32mIn[5], line 3\u001b[0m, in \u001b[0;36mcoleta_jogada\u001b[0;34m()\u001b[0m\n\u001b[1;32m      1\u001b[0m \u001b[38;5;28;01mdef\u001b[39;00m \u001b[38;5;21mcoleta_jogada\u001b[39m():\n\u001b[1;32m      2\u001b[0m     \u001b[38;5;66;03m# Coletando os valores por meio de um input\u001b[39;00m\n\u001b[0;32m----> 3\u001b[0m     linha, coluna \u001b[38;5;241m=\u001b[39m \u001b[38;5;28minput\u001b[39m(\u001b[38;5;124m\"\u001b[39m\u001b[38;5;124mInforme a linha e a coluna onde deseja incluir o x. Ex: [1,2]\u001b[39m\u001b[38;5;124m\"\u001b[39m)\u001b[38;5;241m.\u001b[39msplit(\u001b[38;5;124m\"\u001b[39m\u001b[38;5;124m,\u001b[39m\u001b[38;5;124m\"\u001b[39m)\n\u001b[1;32m      5\u001b[0m     \u001b[38;5;66;03m# Convertendo os valores para inteiro\u001b[39;00m\n\u001b[1;32m      6\u001b[0m     \u001b[38;5;28;01mreturn\u001b[39;00m \u001b[38;5;28mint\u001b[39m(linha), \u001b[38;5;28mint\u001b[39m(coluna)\n",
      "\u001b[0;31mValueError\u001b[0m: too many values to unpack (expected 2)"
     ]
    }
   ],
   "source": [
    "from IPython.display import clear_output\n",
    "\n",
    "# Convertendo a lista de jogadas em um array 3x3\n",
    "jogada = [0,0,0,0,0,0,0,0,0]\n",
    "jogada = np.array(jogada).reshape(3,3)\n",
    "plot_board(jogada)\n",
    "\n",
    "finalizar_jogo = False\n",
    "\n",
    "print(\"=====================================\\n\")\n",
    "\n",
    "while not finalizar_jogo:\n",
    "    clear_output(wait=True)\n",
    "    # Coletando a jogada\n",
    "    linha,coluna = coleta_jogada()\n",
    "    \n",
    "    # Realizando o ajuste da jogada a partir das posições de inserção informadas\n",
    "    jogada = ajuste_jogada(jogada,linha,coluna)\n",
    "    \n",
    "    # Plotando o tabuleiro \n",
    "    # AQUI PRECISA DA FUNÇÃO BONITA PARA EXIBIR O TABULEIRO COM OS X E O\n",
    "\n",
    "    plot_board(jogada)\n",
    "    \n",
    "    \n",
    "    # Obtenção do status do jogo\n",
    "    print(status_jogo(jogada))\n",
    "    print(\"=====================================\\n\")\n",
    "    \n",
    "    # Caso haja um vencedor o loop será encerrado\n",
    "    if status_jogo(jogada) != \"AINDA TEM JOGO\":\n",
    "        finalizar_jogo = True"
   ]
  }
 ],
 "metadata": {
  "kernelspec": {
   "display_name": "base",
   "language": "python",
   "name": "python3"
  },
  "language_info": {
   "codemirror_mode": {
    "name": "ipython",
    "version": 3
   },
   "file_extension": ".py",
   "mimetype": "text/x-python",
   "name": "python",
   "nbconvert_exporter": "python",
   "pygments_lexer": "ipython3",
   "version": "3.12.4"
  }
 },
 "nbformat": 4,
 "nbformat_minor": 2
}
