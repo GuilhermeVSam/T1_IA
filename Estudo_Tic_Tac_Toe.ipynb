{
 "cells": [
  {
   "cell_type": "code",
   "execution_count": 1,
   "metadata": {},
   "outputs": [],
   "source": [
    "import pandas as pd\n",
    "import numpy as np"
   ]
  },
  {
   "cell_type": "markdown",
   "metadata": {},
   "source": [
    "### **Tratamentos e conversões**"
   ]
  },
  {
   "cell_type": "code",
   "execution_count": 6,
   "metadata": {},
   "outputs": [],
   "source": [
    "import pandas as pd\n",
    "import random\n",
    "\n",
    "#Ajusta os csv's para terem 400 linhas\n",
    "\n",
    "def ajustar_linhas_csv(file_path, num_linhas=400):\n",
    "    df = pd.read_csv(file_path)\n",
    "    if len(df) > num_linhas:\n",
    "        df = df.sample(n=num_linhas, random_state=1).reset_index(drop=True)\n",
    "    df.to_csv(file_path, index=False)\n",
    "    return df\n",
    "\n",
    "csv_files = ['treino_tem_jogo.csv', 'treino_vencedor_o.csv', 'treino_vencedor_x.csv']\n",
    "\n",
    "for file in csv_files:\n",
    "    ajustar_linhas_csv(file)"
   ]
  },
  {
   "cell_type": "code",
   "execution_count": 7,
   "metadata": {},
   "outputs": [
    {
     "data": {
      "text/html": [
       "<div>\n",
       "<style scoped>\n",
       "    .dataframe tbody tr th:only-of-type {\n",
       "        vertical-align: middle;\n",
       "    }\n",
       "\n",
       "    .dataframe tbody tr th {\n",
       "        vertical-align: top;\n",
       "    }\n",
       "\n",
       "    .dataframe thead th {\n",
       "        text-align: right;\n",
       "    }\n",
       "</style>\n",
       "<table border=\"1\" class=\"dataframe\">\n",
       "  <thead>\n",
       "    <tr style=\"text-align: right;\">\n",
       "      <th></th>\n",
       "      <th>1;1;-1;-1;1;1;1;-1;-1;2</th>\n",
       "    </tr>\n",
       "  </thead>\n",
       "  <tbody>\n",
       "    <tr>\n",
       "      <th>0</th>\n",
       "      <td>1;1;-1;-1;-1;1;1;1;-1;2</td>\n",
       "    </tr>\n",
       "    <tr>\n",
       "      <th>1</th>\n",
       "      <td>1;1;-1;-1;-1;1;1;-1;1;2</td>\n",
       "    </tr>\n",
       "    <tr>\n",
       "      <th>2</th>\n",
       "      <td>1;1;-1;-1;-1;1;1;-1;-1;2</td>\n",
       "    </tr>\n",
       "    <tr>\n",
       "      <th>3</th>\n",
       "      <td>1;-1;1;1;1;-1;-1;1;-1;2</td>\n",
       "    </tr>\n",
       "    <tr>\n",
       "      <th>4</th>\n",
       "      <td>1;-1;1;1;-1;1;-1;1;-1;2</td>\n",
       "    </tr>\n",
       "    <tr>\n",
       "      <th>...</th>\n",
       "      <td>...</td>\n",
       "    </tr>\n",
       "    <tr>\n",
       "      <th>57</th>\n",
       "      <td>-1;1;-1;-1;-1;1;1;-1;1;2</td>\n",
       "    </tr>\n",
       "    <tr>\n",
       "      <th>58</th>\n",
       "      <td>-1;-1;1;1;1;-1;-1;1;1;2</td>\n",
       "    </tr>\n",
       "    <tr>\n",
       "      <th>59</th>\n",
       "      <td>-1;-1;1;1;1;-1;-1;1;-1;2</td>\n",
       "    </tr>\n",
       "    <tr>\n",
       "      <th>60</th>\n",
       "      <td>-1;-1;1;1;1;-1;-1;-1;1;2</td>\n",
       "    </tr>\n",
       "    <tr>\n",
       "      <th>61</th>\n",
       "      <td>-1;-1;1;1;-1;-1;-1;1;1;2</td>\n",
       "    </tr>\n",
       "  </tbody>\n",
       "</table>\n",
       "<p>62 rows × 1 columns</p>\n",
       "</div>"
      ],
      "text/plain": [
       "     1;1;-1;-1;1;1;1;-1;-1;2\n",
       "0    1;1;-1;-1;-1;1;1;1;-1;2\n",
       "1    1;1;-1;-1;-1;1;1;-1;1;2\n",
       "2   1;1;-1;-1;-1;1;1;-1;-1;2\n",
       "3    1;-1;1;1;1;-1;-1;1;-1;2\n",
       "4    1;-1;1;1;-1;1;-1;1;-1;2\n",
       "..                       ...\n",
       "57  -1;1;-1;-1;-1;1;1;-1;1;2\n",
       "58   -1;-1;1;1;1;-1;-1;1;1;2\n",
       "59  -1;-1;1;1;1;-1;-1;1;-1;2\n",
       "60  -1;-1;1;1;1;-1;-1;-1;1;2\n",
       "61  -1;-1;1;1;-1;-1;-1;1;1;2\n",
       "\n",
       "[62 rows x 1 columns]"
      ]
     },
     "execution_count": 7,
     "metadata": {},
     "output_type": "execute_result"
    }
   ],
   "source": [
    "import pandas as pd\n",
    "\n",
    "#Duplicar o csv treino_empate\n",
    "\n",
    "def duplicar_linhas_csv(file_path):\n",
    "    df = pd.read_csv(file_path)\n",
    "    df_duplicado = pd.concat([df] * 2, ignore_index=True)\n",
    "    df_duplicado.to_csv(file_path, index=False)\n",
    "    return df_duplicado\n",
    "\n",
    "# Duplicar as linhas do arquivo 'treino_empate.csv'\n",
    "duplicar_linhas_csv('treino_empate.csv')"
   ]
  },
  {
   "cell_type": "code",
   "execution_count": null,
   "metadata": {},
   "outputs": [],
   "source": []
  },
  {
   "cell_type": "markdown",
   "metadata": {},
   "source": [
    "### **Funções Verificação status jogo**"
   ]
  },
  {
   "cell_type": "code",
   "execution_count": 2,
   "metadata": {},
   "outputs": [],
   "source": [
    "# Função para verificar se as linhas são iguais\n",
    "def verif_linhas(array):\n",
    "    for linha in array:\n",
    "        # Verificando se os elementos da linha são iguais exceto zero\n",
    "        if (np.all(linha == 1) or np.all(linha == -1)) and np.any(linha != 0): \n",
    "           return linha[0] # Retornando o valor do ganhador: 1 ou -1\n",
    "       \n",
    "    return False\n",
    "\n",
    "# Função para verificar se as colunas são iguais          \n",
    "def verif_colunas(array):\n",
    "    # Transpondo o array para verificar colunas como se fossem linhas\n",
    "    for coluna in array.T:  \n",
    "        # Verificando se os elementos da coluna são iguais exceto zero\n",
    "        if (np.all(coluna == 1) or np.all(coluna == -1)) and np.any(coluna != 0): \n",
    "            return coluna[0] # Retornando o valor do ganhador: 1 ou -1\n",
    "        \n",
    "    return False\n",
    "\n",
    "# Função para verificar se a diagonal principal são iguais\n",
    "def verif_diag_principal(array):\n",
    "    diagonal_principal = np.diag(array)  # Diagonal principal\n",
    "    # Verificando se os elementos da diagonal principal são iguais exceto zero\n",
    "    if (np.all(diagonal_principal == 1) or np.all(diagonal_principal == -1))  and np.all(diagonal_principal!=0) :\n",
    "        return diagonal_principal[0] # Retornando o valor do ganhador: 1 ou -1\n",
    "    \n",
    "    return False\n",
    "\n",
    "# Função para verificar se a diagonal secundária são iguais\n",
    "def verif_diag_secundaria(array):\n",
    "    diagonal_secundaria = np.diag(np.fliplr(array))  # Diagonal secundária (flipping array)\n",
    "    # Verificando se os elementos da diagonal secundária são iguais exceto zero\n",
    "    if (np.all(diagonal_secundaria == 1) or np.all(diagonal_secundaria==-1))  and np.all(diagonal_secundaria!=0): \n",
    "        return diagonal_secundaria[0] # Retornando o valor do ganhador: 1 ou -1\n",
    "    \n",
    "    return False\n",
    "\n",
    "def get_vencedor(lista_respostas):\n",
    "    for valor in lista_respostas:\n",
    "        # Transormando cada valor em uma string, verifica-se se o valor é numérico (1 ou -1)\n",
    "        valor = str(valor)\n",
    "        if valor.isnumeric():\n",
    "            # Condicional para determinar qual valor retorna\n",
    "            if valor == \"1\":\n",
    "                return \"X\"\n",
    "            else:\n",
    "                return \"Y\"\n",
    "\n",
    "def status_jogo(jogada):\n",
    "    # Conversão do array que está sendo usado como parâmetro em uma matriz de 3x3\n",
    "    jogada = np.array(jogada).reshape(3,3)\n",
    "    \n",
    "    # Criando uma lista com os retornos das funções verificadoras de cada jogada, o resultado é um array de 4 elementos. Ex: [1,False,False,False]\n",
    "    lista_resposta = list([verif_colunas(jogada), verif_linhas(jogada), verif_diag_principal(jogada), verif_diag_secundaria(jogada)])\n",
    "    # Se algum dos elementos da lista for diferente de false, a função get_vencedor será chamada\n",
    "    if any(lista_resposta):\n",
    "        valor = get_vencedor(lista_resposta)\n",
    "        return valor + \" VENCEU!\"\n",
    "    # Condicional para verificar se os únicos valores preenchidos no tabuleiro são 1 e -1\n",
    "    elif len(np.unique(jogada)) == 2 and 0 not in np.unique(jogada):\n",
    "        return \"EMPATE\"\n",
    "    else:\n",
    "        return \"AINDA TEM JOGO\""
   ]
  },
  {
   "cell_type": "markdown",
   "metadata": {},
   "source": [
    "#### **Casos de teste**"
   ]
  },
  {
   "cell_type": "code",
   "execution_count": 3,
   "metadata": {},
   "outputs": [],
   "source": [
    "# Jogada do dataset em estado de empate\n",
    "# empate = np.array(jogadas[0]).reshape(3,3)\n",
    "# empate"
   ]
  },
  {
   "cell_type": "code",
   "execution_count": 4,
   "metadata": {},
   "outputs": [],
   "source": [
    "# Jogada do dataset em estado de vitória\n",
    "# vitoria = np.array(jogadas[1]).reshape(3,3)\n",
    "# vitoria"
   ]
  },
  {
   "cell_type": "code",
   "execution_count": 5,
   "metadata": {},
   "outputs": [],
   "source": [
    "# Exemplo de um tabuleiro com jogo ainda não finalizado\n",
    "# jogada_ainda_jogo = np.array([[ 0.,  1.,  0.],[ 0.,  1.,  1.],[-1., -1.,  0.]])\n",
    "# jogada_ainda_jogo"
   ]
  },
  {
   "cell_type": "code",
   "execution_count": 6,
   "metadata": {},
   "outputs": [],
   "source": [
    "# Tabuleiro vazio, simulando o início de uma partida\n",
    "# tabuleiro_vazio = np.zeros((3,3))\n",
    "# tabuleiro_vazio"
   ]
  },
  {
   "cell_type": "code",
   "execution_count": 7,
   "metadata": {},
   "outputs": [],
   "source": [
    "# Primeira jogada feita, tem valores zeros iguais seja nas diagonais, linhas ou colunas\n",
    "# zeros_iguais = np.zeros((3,3))\n",
    "# zeros_iguais[0,1] = 1\n",
    "# zeros_iguais"
   ]
  },
  {
   "cell_type": "code",
   "execution_count": 8,
   "metadata": {},
   "outputs": [],
   "source": [
    "# jogada = vitoria\n",
    "# # a,b,c,d = verif_colunas(jogada), verif_linhas(jogada), verif_diag_principal(jogada), verif_diag_secundaria(jogada)\n",
    "\n",
    "# lista_resposta = list([verif_colunas(jogada), verif_linhas(jogada), verif_diag_principal(jogada), verif_diag_secundaria(jogada)])\n",
    "# lista_resposta"
   ]
  },
  {
   "cell_type": "code",
   "execution_count": 9,
   "metadata": {},
   "outputs": [],
   "source": [
    "# print(\"Cenário \\n{} \\nResultado: {}\".format(empate,status_jogo(empate)))"
   ]
  },
  {
   "cell_type": "code",
   "execution_count": 10,
   "metadata": {},
   "outputs": [],
   "source": [
    "# print(\"Cenário \\n{} \\nResultado: {}\".format(vitoria,status_jogo(vitoria)))"
   ]
  },
  {
   "cell_type": "code",
   "execution_count": 11,
   "metadata": {},
   "outputs": [],
   "source": [
    "# print(\"Cenário \\n{} \\nResultado: {}\".format(jogada_ainda_jogo,status_jogo(jogada_ainda_jogo)))"
   ]
  },
  {
   "cell_type": "code",
   "execution_count": 12,
   "metadata": {},
   "outputs": [],
   "source": [
    "# print(\"Cenário \\n{} \\nResultado: {}\".format(tabuleiro_vazio,status_jogo(tabuleiro_vazio)))"
   ]
  },
  {
   "cell_type": "code",
   "execution_count": 13,
   "metadata": {},
   "outputs": [],
   "source": [
    "# print(\"Cenário \\n{} \\nResultado: {}\".format(zeros_iguais,status_jogo(zeros_iguais)))"
   ]
  },
  {
   "cell_type": "markdown",
   "metadata": {},
   "source": [
    "### **Passos Particionamento**\n",
    "\n",
    "- Divide o dataset por classe: **_vencedor x, vencedor y, empate, ainda tem jogo_**\n",
    "- Divide cada dataset pela proporcionalidade (treino = 0.8, validacao = 0.1, teste=0.1)\n",
    "  - Para a classe vencedor x, por exemplo, você deve criar (segue o padrão abaixo para as nomenclaturas, por favor):\n",
    "    - treino_vencedor_x;\n",
    "    - validacao_vencedor_x;\n",
    "    - teste_vencedor_x\n",
    "- Junte os datasets de treino, validação e teste em a partir dos dataframes das classes particionados (use o pd.concat do pandas para tal):\n",
    "  - df_treino = pd.concat([treino_vencedor_x, treino_vencedor_y, treino_empate, treino_ainda_tem_jogo],ignore_index = True)\n",
    "- Salve os dataframes em um arquivo excel divido por planilhas com os tipos dos dataframes, vou deixar comentado essa parte, retira os comentários e testa, por favor"
   ]
  },
  {
   "cell_type": "markdown",
   "metadata": {},
   "source": [
    "### **Salvamento arquivo**"
   ]
  },
  {
   "cell_type": "code",
   "execution_count": 15,
   "metadata": {},
   "outputs": [],
   "source": [
    "# filePath = r'dataset_tic_tac_toe_tratado.xlsx'\n",
    "# with pd.ExcelWriter(filePath) as writer:\n",
    "#     df_treino.to_excel(writer,sheet_name='treino',index=False)\n",
    "#     df_validacao.to_excel(writer,sheet_name='validacao',index=False)\n",
    "#     df_teste.to_excel(writer,sheet_name='teste',index=False)\n",
    "\n",
    "# print(\"Arquivo Excel salvo em: {}\".format(filePath))"
   ]
  }
 ],
 "metadata": {
  "kernelspec": {
   "display_name": "base",
   "language": "python",
   "name": "python3"
  },
  "language_info": {
   "codemirror_mode": {
    "name": "ipython",
    "version": 3
   },
   "file_extension": ".py",
   "mimetype": "text/x-python",
   "name": "python",
   "nbconvert_exporter": "python",
   "pygments_lexer": "ipython3",
   "version": "3.12.4"
  }
 },
 "nbformat": 4,
 "nbformat_minor": 2
}
