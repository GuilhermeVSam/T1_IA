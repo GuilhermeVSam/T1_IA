{
 "cells": [
  {
   "cell_type": "code",
   "execution_count": 6,
   "metadata": {},
   "outputs": [],
   "source": [
    "import numpy as np\n",
    "import pandas as pd\n",
    "import matplotlib.pyplot as plt\n",
    "import random\n",
    "import math"
   ]
  },
  {
   "cell_type": "markdown",
   "metadata": {},
   "source": [
    "#### **Pesos**"
   ]
  },
  {
   "cell_type": "code",
   "execution_count": 7,
   "metadata": {},
   "outputs": [
    {
     "data": {
      "text/plain": [
       "array([[0.37, 0.95, 0.73, 0.6 , 0.16, 0.16, 0.06, 0.87, 0.6 , 0.71, 0.02,\n",
       "        0.97, 0.83, 0.21, 0.18, 0.18, 0.3 , 0.52, 0.43, 0.29, 0.61, 0.14,\n",
       "        0.29, 0.37, 0.46, 0.79, 0.2 , 0.51, 0.59, 0.05, 0.61, 0.17, 0.07,\n",
       "        0.95, 0.97, 0.81, 0.3 , 0.1 , 0.68, 0.44, 0.12, 0.5 , 0.03, 0.91,\n",
       "        0.26, 0.66, 0.31, 0.52, 0.55, 0.18, 0.97, 0.78, 0.94, 0.89, 0.6 ,\n",
       "        0.92, 0.09, 0.2 , 0.05, 0.33, 0.39, 0.27, 0.83, 0.36, 0.28, 0.54,\n",
       "        0.14, 0.8 , 0.07, 0.99, 0.77, 0.2 , 0.01, 0.82, 0.71, 0.73, 0.77,\n",
       "        0.07, 0.36, 0.12, 0.86, 0.62, 0.33, 0.06, 0.31, 0.33, 0.73, 0.64,\n",
       "        0.89, 0.47, 0.12, 0.71, 0.76, 0.56, 0.77, 0.49, 0.52, 0.43, 0.03,\n",
       "        0.11, 0.03, 0.64, 0.31, 0.51, 0.91, 0.25, 0.41, 0.76, 0.23, 0.08,\n",
       "        0.29, 0.16, 0.93, 0.81, 0.63, 0.87, 0.8 , 0.19, 0.89, 0.54, 0.81,\n",
       "        0.9 , 0.32, 0.11, 0.23, 0.43, 0.82, 0.86, 0.01, 0.51, 0.42, 0.22,\n",
       "        0.12, 0.34, 0.94, 0.32, 0.52, 0.7 , 0.36, 0.97, 0.96, 0.25, 0.5 ,\n",
       "        0.3 , 0.28, 0.04, 0.61, 0.5 , 0.05, 0.28, 0.91, 0.24, 0.14, 0.49,\n",
       "        0.99, 0.24, 0.67, 0.76, 0.24, 0.73, 0.37, 0.63, 0.63, 0.54, 0.09,\n",
       "        0.84, 0.32, 0.19, 0.04, 0.59, 0.68, 0.02, 0.51, 0.23, 0.65, 0.17,\n",
       "        0.69, 0.39, 0.94, 0.14],\n",
       "       [0.34, 0.11, 0.92, 0.88, 0.26, 0.66, 0.82, 0.56, 0.53, 0.24, 0.09,\n",
       "        0.9 , 0.9 , 0.63, 0.34, 0.35, 0.73, 0.9 , 0.89, 0.78, 0.64, 0.08,\n",
       "        0.16, 0.9 , 0.61, 0.01, 0.1 , 0.66, 0.01, 0.16, 0.55, 0.69, 0.65,\n",
       "        0.22, 0.71, 0.24, 0.33, 0.75, 0.65, 0.85, 0.66, 0.57, 0.09, 0.37,\n",
       "        0.27, 0.24, 0.97, 0.39, 0.89, 0.63, 0.79, 0.5 , 0.58, 0.49, 0.2 ,\n",
       "        0.72, 0.28, 0.02, 0.65, 0.18, 0.94, 0.95, 0.91, 0.37, 0.02, 0.93,\n",
       "        0.43, 0.97, 0.96, 0.85, 0.29, 0.39, 0.85, 0.32, 0.17, 0.56, 0.94,\n",
       "        0.7 , 0.57, 0.1 , 0.62, 0.99, 0.14, 0.52, 0.88, 0.74, 0.7 , 0.7 ,\n",
       "        0.36, 0.29, 0.81, 0.81, 0.87, 0.91, 0.51, 0.5 , 0.8 , 0.65, 0.7 ,\n",
       "        0.8 , 0.89, 0.34, 0.38, 0.09, 0.58, 0.04, 0.47, 0.54, 0.29, 0.59,\n",
       "        0.03, 0.04, 0.82, 0.36, 0.13, 0.52, 0.77, 0.22, 0.62, 0.09, 0.05,\n",
       "        0.53, 0.54, 0.64, 0.73, 0.98, 0.52, 0.32, 0.8 , 0.27, 0.44, 0.08,\n",
       "        0.03, 0.96, 0.84, 0.7 , 0.41, 0.17, 0.16, 0.25, 0.55, 0.71, 0.66,\n",
       "        0.28, 0.95, 0.74, 0.55, 0.61, 0.42, 0.25, 0.36, 0.76, 0.01, 0.12,\n",
       "        0.05, 0.04, 0.86, 0.7 , 0.47, 0.1 , 0.49, 0.47, 0.17, 0.43, 0.4 ,\n",
       "        0.62, 0.64, 0.05, 0.37, 0.63, 0.5 , 0.86, 0.66, 0.16, 0.07, 0.64,\n",
       "        0.03, 0.59, 0.94, 0.58]])"
      ]
     },
     "execution_count": 7,
     "metadata": {},
     "output_type": "execute_result"
    }
   ],
   "source": [
    "# Define a semente para reprodutibilidade\n",
    "np.random.seed(42)\n",
    "\n",
    "# Criando dois cromossomos com 180 pesos\n",
    "geracao = np.random.rand(2,180)\n",
    "\n",
    "# Arredondando para duas casas decimais\n",
    "geracao = np.round(geracao,2)\n",
    "geracao"
   ]
  },
  {
   "cell_type": "markdown",
   "metadata": {},
   "source": [
    "#### **Clase Neurônio**"
   ]
  },
  {
   "cell_type": "code",
   "execution_count": 8,
   "metadata": {},
   "outputs": [],
   "source": [
    "class Neuronio:\n",
    "    def __init__(self,array_entrada = None,array_pesos = None):\n",
    "        self.entrada = array_entrada\n",
    "        self.pesos = array_pesos\n",
    "    \n",
    "    ## Usando sigmóide na função de ativacao\n",
    "    def ativacao(self,soma):\n",
    "        return round(1 /(1 + np.exp(-soma)),2)\n",
    "    \n",
    "    def propagation(self):\n",
    "        # entrada recebendo o valor de entrada para que possa ser alterado\n",
    "        entrada =  self.entrada.copy()\n",
    "\n",
    "        # Incluindo um valor 1 no inicío do array da entrada por causa do peso bias\n",
    "        entrada.insert(0,1)\n",
    "\n",
    "        soma = 0\n",
    "        \n",
    "        # Verifica se os pesos e a entrada tem o mesmo len\n",
    "        if len(self.pesos) != len(entrada):\n",
    "            raise ValueError(\"O número de pesos deve ser igual ao número de entradas, incluindo o bias.\")\n",
    "\n",
    "        # Calculo de soma ponderada a partir do produto escalar entre os vetores de pesos e entrada\n",
    "        soma = np.dot(entrada, self.pesos)\n",
    "        \n",
    "        #     # Obtendo y a partir da função de ativação\n",
    "        y = self.ativacao(soma)\n",
    "        return y\n",
    "\n",
    "    def __str__(self) -> str:\n",
    "        return \"Entrada atual: \"+ str(self.entrada) + \"\\nPesos atuais:\" + str(self.pesos)"
   ]
  },
  {
   "cell_type": "markdown",
   "metadata": {},
   "source": [
    "#### **Classe Rede**"
   ]
  },
  {
   "cell_type": "code",
   "execution_count": 9,
   "metadata": {},
   "outputs": [],
   "source": [
    "class Rede:    \n",
    "    def __init__(self,entrada = None,array_pesos= None):\n",
    "        self.entrada = entrada\n",
    "        self.oculta = [None]*9\n",
    "        self.saida = [None]*9\n",
    "        self.pesos = array_pesos\n",
    "        \n",
    "    # Função para fazer o fatiamento dos pesos\n",
    "    def slice_pesos(self):\n",
    "        sliced_pesos = []\n",
    "\n",
    "        # Para cada linha na lista de pesos percorre a linha adicionando a uma nova lista 10 elementos\n",
    "        for linha in self.pesos:\n",
    "            for i in range(0,len(linha),10):\n",
    "                sliced_pesos.append(linha[i: i + 10])\n",
    "\n",
    "        return sliced_pesos\n",
    "\n",
    "    ### SETS\n",
    "    # Função para setar os pesos\n",
    "    def set_pesos(self,array_pesos):\n",
    "        self.pesos = array_pesos\n",
    "        \n",
    "    def set_entrada(self,entrada):\n",
    "        self.entrada = entrada\n",
    "\n",
    "    # Função para setar a camada oculta\n",
    "    def set_camada_oculta(self):\n",
    "        lista_neuronios = []\n",
    "        \n",
    "        # Obter os pesos fatiados para cada neurônio da camada oculta\n",
    "        lista_pesos = self.slice_pesos()\n",
    "        \n",
    "        # Configurar cada neurônio na camada oculta com uma fatia de pesos\n",
    "        for i in range(9):  # Para os 9 neurônios\n",
    "            neuronio = Neuronio(array_entrada=self.entrada, array_pesos=lista_pesos[i])\n",
    "            self.oculta[i] = neuronio  # Armazena o neurônio na lista oculta\n",
    "            resultado_propagacao = neuronio.propagation()  # Executa a propagação\n",
    "            lista_neuronios.append(resultado_propagacao)  # Armazena o resultado\n",
    "            \n",
    "        self.oculta = lista_neuronios\n",
    "\n",
    "    # Função para setar a camada de saida\n",
    "    def set_camada_saida(self):\n",
    "        lista_neuronios = []\n",
    "        \n",
    "        # Obter os pesos fatiados para cada neurônio da camada oculta\n",
    "        lista_pesos = self.slice_pesos()\n",
    "        \n",
    "        # Configurar cada neurônio na camada oculta com uma fatia de pesos\n",
    "        for i in range(9):  # Para os 9 neurônios\n",
    "            neuronio = Neuronio(array_entrada=self.get_oculta(), array_pesos=lista_pesos[i])\n",
    "            self.saida[i] = neuronio  # Armazena o neurônio na camada de saida\n",
    "            resultado_propagacao = neuronio.propagation()  # Executa a propagação\n",
    "            lista_neuronios.append(resultado_propagacao)  # Armazena o resultado\n",
    "            \n",
    "        self.saida = lista_neuronios\n",
    "\n",
    "    def position(self,entrada):\n",
    "        \n",
    "        # Set os valores de entrada para a instanciação do neurônio\n",
    "        self.set_entrada(entrada)\n",
    "        \n",
    "        # Setando a camada oculta\n",
    "        self.set_camada_oculta()\n",
    "        \n",
    "        # Setando a camada de saída\n",
    "        self.set_camada_saida()\n",
    "        \n",
    "        # Retornando o index do maior valor do array da camada de saída\n",
    "        return self.saida.index(max(self.saida))\n",
    "\n",
    "    ### GETS\n",
    "    # Função para obter os valores dos pesos\n",
    "    def get_pesos(self):\n",
    "        return self.pesos\n",
    "    \n",
    "    # Função para obter a camada oculta\n",
    "    def get_oculta(self):\n",
    "        return self.oculta\n",
    "    \n",
    "    # Função para obter a camada de saida\n",
    "    def get_saida(self):\n",
    "        return self.saida\n",
    "    \n",
    "    # Print da rede\n",
    "    def __str__(self) -> str:\n",
    "        return \"Camada oculta: \"+ str(self.oculta) + \"\\nCamada saida:\" + str(self.saida) + \"\\nPesos:\" + str(self.pesos)\n",
    "    "
   ]
  },
  {
   "cell_type": "code",
   "execution_count": 10,
   "metadata": {},
   "outputs": [
    {
     "name": "stdout",
     "output_type": "stream",
     "text": [
      "Jogada atual: [1, 0, 0, 0, -1, 0, 0, 0, 0]\n",
      "Melhor posição: 5\n",
      "Jogada após a propagação: [1, 0, 0, 0, -1, 1, 0, 0, 0]\n"
     ]
    }
   ],
   "source": [
    "jogada = [1,0,0,0,-1,0,0,0,0]\n",
    "print(f\"Jogada atual: {jogada}\")\n",
    "\n",
    "rede = Rede(array_pesos=geracao)\n",
    "posicao = rede.position(jogada)\n",
    "print(f\"Melhor posição: {posicao}\")\n",
    "\n",
    "jogada[posicao] = 1\n",
    "print(f\"Jogada após a propagação: {jogada}\")"
   ]
  },
  {
   "cell_type": "code",
   "execution_count": null,
   "metadata": {},
   "outputs": [],
   "source": []
  }
 ],
 "metadata": {
  "kernelspec": {
   "display_name": "base",
   "language": "python",
   "name": "python3"
  },
  "language_info": {
   "codemirror_mode": {
    "name": "ipython",
    "version": 3
   },
   "file_extension": ".py",
   "mimetype": "text/x-python",
   "name": "python",
   "nbconvert_exporter": "python",
   "pygments_lexer": "ipython3",
   "version": "3.11.10"
  }
 },
 "nbformat": 4,
 "nbformat_minor": 2
}
